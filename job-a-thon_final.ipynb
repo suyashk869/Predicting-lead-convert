{
 "cells": [
  {
   "cell_type": "markdown",
   "id": "5b32d828",
   "metadata": {},
   "source": [
    "# Initial Check"
   ]
  },
  {
   "cell_type": "code",
   "execution_count": 1,
   "id": "f138d128",
   "metadata": {},
   "outputs": [],
   "source": [
    "import numpy as np\n",
    "import pandas as pd\n",
    "import matplotlib.pyplot as plt\n",
    "import seaborn as sns"
   ]
  },
  {
   "cell_type": "code",
   "execution_count": 2,
   "id": "95e2d7ed",
   "metadata": {},
   "outputs": [],
   "source": [
    "plt.rcParams['figure.figsize']=[15,8]\n",
    "import warnings \n",
    "warnings.filterwarnings(\"ignore\")\n",
    "from sklearn.experimental import enable_iterative_imputer\n",
    "from sklearn.impute import IterativeImputer\n",
    "from sklearn.neighbors import KNeighborsRegressor\n",
    "from sklearn.preprocessing import StandardScaler\n",
    "from sklearn.preprocessing import PowerTransformer\n",
    "from sklearn.neighbors import KNeighborsRegressor\n",
    "from sklearn.ensemble import RandomForestRegressor\n",
    "from sklearn.ensemble import RandomForestClassifier\n",
    "from sklearn.tree import DecisionTreeClassifier\n",
    "from xgboost import XGBClassifier\n",
    "from sklearn.metrics import classification_report, confusion_matrix, roc_auc_score, roc_curve, plot_confusion_matrix\n",
    "from sklearn.model_selection import GridSearchCV\n",
    "from sklearn.linear_model import LogisticRegression\n",
    "from sklearn.ensemble import StackingClassifier\n",
    "from sklearn.model_selection import cross_val_score\n",
    "from sklearn.metrics import f1_score, make_scorer\n",
    "from sklearn.preprocessing import LabelBinarizer,OrdinalEncoder\n",
    "from sklearn.model_selection import train_test_split\n",
    "from sklearn.model_selection import cross_validate"
   ]
  },
  {
   "cell_type": "code",
   "execution_count": 3,
   "id": "e17cdded",
   "metadata": {},
   "outputs": [],
   "source": [
    "train=pd.read_csv('~/documents/job_a_thon/train.csv')"
   ]
  },
  {
   "cell_type": "code",
   "execution_count": 4,
   "id": "f49ba76e",
   "metadata": {},
   "outputs": [
    {
     "data": {
      "text/plain": [
       "(39161, 19)"
      ]
     },
     "execution_count": 4,
     "metadata": {},
     "output_type": "execute_result"
    }
   ],
   "source": [
    "train.shape"
   ]
  },
  {
   "cell_type": "code",
   "execution_count": 5,
   "id": "01ba7fbe",
   "metadata": {},
   "outputs": [
    {
     "data": {
      "text/html": [
       "<div>\n",
       "<style scoped>\n",
       "    .dataframe tbody tr th:only-of-type {\n",
       "        vertical-align: middle;\n",
       "    }\n",
       "\n",
       "    .dataframe tbody tr th {\n",
       "        vertical-align: top;\n",
       "    }\n",
       "\n",
       "    .dataframe thead th {\n",
       "        text-align: right;\n",
       "    }\n",
       "</style>\n",
       "<table border=\"1\" class=\"dataframe\">\n",
       "  <thead>\n",
       "    <tr style=\"text-align: right;\">\n",
       "      <th></th>\n",
       "      <th>id</th>\n",
       "      <th>created_at</th>\n",
       "      <th>campaign_var_1</th>\n",
       "      <th>campaign_var_2</th>\n",
       "      <th>products_purchased</th>\n",
       "      <th>signup_date</th>\n",
       "      <th>user_activity_var_1</th>\n",
       "      <th>user_activity_var_2</th>\n",
       "      <th>user_activity_var_3</th>\n",
       "      <th>user_activity_var_4</th>\n",
       "      <th>user_activity_var_5</th>\n",
       "      <th>user_activity_var_6</th>\n",
       "      <th>user_activity_var_7</th>\n",
       "      <th>user_activity_var_8</th>\n",
       "      <th>user_activity_var_9</th>\n",
       "      <th>user_activity_var_10</th>\n",
       "      <th>user_activity_var_11</th>\n",
       "      <th>user_activity_var_12</th>\n",
       "      <th>buy</th>\n",
       "    </tr>\n",
       "  </thead>\n",
       "  <tbody>\n",
       "    <tr>\n",
       "      <th>0</th>\n",
       "      <td>1</td>\n",
       "      <td>2021-01-01</td>\n",
       "      <td>1</td>\n",
       "      <td>2</td>\n",
       "      <td>2.0</td>\n",
       "      <td>2020-09-24</td>\n",
       "      <td>0</td>\n",
       "      <td>0</td>\n",
       "      <td>0</td>\n",
       "      <td>0</td>\n",
       "      <td>0</td>\n",
       "      <td>0</td>\n",
       "      <td>1</td>\n",
       "      <td>1</td>\n",
       "      <td>0</td>\n",
       "      <td>0</td>\n",
       "      <td>0</td>\n",
       "      <td>0</td>\n",
       "      <td>0</td>\n",
       "    </tr>\n",
       "    <tr>\n",
       "      <th>1</th>\n",
       "      <td>2</td>\n",
       "      <td>2021-01-01</td>\n",
       "      <td>2</td>\n",
       "      <td>1</td>\n",
       "      <td>2.0</td>\n",
       "      <td>2020-09-19</td>\n",
       "      <td>1</td>\n",
       "      <td>0</td>\n",
       "      <td>1</td>\n",
       "      <td>0</td>\n",
       "      <td>0</td>\n",
       "      <td>0</td>\n",
       "      <td>1</td>\n",
       "      <td>0</td>\n",
       "      <td>0</td>\n",
       "      <td>0</td>\n",
       "      <td>0</td>\n",
       "      <td>0</td>\n",
       "      <td>0</td>\n",
       "    </tr>\n",
       "    <tr>\n",
       "      <th>2</th>\n",
       "      <td>3</td>\n",
       "      <td>2021-01-01</td>\n",
       "      <td>9</td>\n",
       "      <td>3</td>\n",
       "      <td>3.0</td>\n",
       "      <td>2021-08-11</td>\n",
       "      <td>1</td>\n",
       "      <td>0</td>\n",
       "      <td>0</td>\n",
       "      <td>0</td>\n",
       "      <td>0</td>\n",
       "      <td>0</td>\n",
       "      <td>0</td>\n",
       "      <td>0</td>\n",
       "      <td>0</td>\n",
       "      <td>0</td>\n",
       "      <td>0</td>\n",
       "      <td>0</td>\n",
       "      <td>0</td>\n",
       "    </tr>\n",
       "    <tr>\n",
       "      <th>3</th>\n",
       "      <td>4</td>\n",
       "      <td>2021-01-01</td>\n",
       "      <td>6</td>\n",
       "      <td>7</td>\n",
       "      <td>2.0</td>\n",
       "      <td>2017-10-04</td>\n",
       "      <td>0</td>\n",
       "      <td>0</td>\n",
       "      <td>0</td>\n",
       "      <td>0</td>\n",
       "      <td>0</td>\n",
       "      <td>0</td>\n",
       "      <td>0</td>\n",
       "      <td>0</td>\n",
       "      <td>0</td>\n",
       "      <td>0</td>\n",
       "      <td>0</td>\n",
       "      <td>0</td>\n",
       "      <td>0</td>\n",
       "    </tr>\n",
       "    <tr>\n",
       "      <th>4</th>\n",
       "      <td>5</td>\n",
       "      <td>2021-01-01</td>\n",
       "      <td>4</td>\n",
       "      <td>6</td>\n",
       "      <td>NaN</td>\n",
       "      <td>2020-06-08</td>\n",
       "      <td>0</td>\n",
       "      <td>0</td>\n",
       "      <td>0</td>\n",
       "      <td>0</td>\n",
       "      <td>0</td>\n",
       "      <td>0</td>\n",
       "      <td>1</td>\n",
       "      <td>0</td>\n",
       "      <td>0</td>\n",
       "      <td>0</td>\n",
       "      <td>1</td>\n",
       "      <td>0</td>\n",
       "      <td>0</td>\n",
       "    </tr>\n",
       "  </tbody>\n",
       "</table>\n",
       "</div>"
      ],
      "text/plain": [
       "   id  created_at  campaign_var_1  campaign_var_2  products_purchased  \\\n",
       "0   1  2021-01-01               1               2                 2.0   \n",
       "1   2  2021-01-01               2               1                 2.0   \n",
       "2   3  2021-01-01               9               3                 3.0   \n",
       "3   4  2021-01-01               6               7                 2.0   \n",
       "4   5  2021-01-01               4               6                 NaN   \n",
       "\n",
       "  signup_date  user_activity_var_1  user_activity_var_2  user_activity_var_3  \\\n",
       "0  2020-09-24                    0                    0                    0   \n",
       "1  2020-09-19                    1                    0                    1   \n",
       "2  2021-08-11                    1                    0                    0   \n",
       "3  2017-10-04                    0                    0                    0   \n",
       "4  2020-06-08                    0                    0                    0   \n",
       "\n",
       "   user_activity_var_4  user_activity_var_5  user_activity_var_6  \\\n",
       "0                    0                    0                    0   \n",
       "1                    0                    0                    0   \n",
       "2                    0                    0                    0   \n",
       "3                    0                    0                    0   \n",
       "4                    0                    0                    0   \n",
       "\n",
       "   user_activity_var_7  user_activity_var_8  user_activity_var_9  \\\n",
       "0                    1                    1                    0   \n",
       "1                    1                    0                    0   \n",
       "2                    0                    0                    0   \n",
       "3                    0                    0                    0   \n",
       "4                    1                    0                    0   \n",
       "\n",
       "   user_activity_var_10  user_activity_var_11  user_activity_var_12  buy  \n",
       "0                     0                     0                     0    0  \n",
       "1                     0                     0                     0    0  \n",
       "2                     0                     0                     0    0  \n",
       "3                     0                     0                     0    0  \n",
       "4                     0                     1                     0    0  "
      ]
     },
     "execution_count": 5,
     "metadata": {},
     "output_type": "execute_result"
    }
   ],
   "source": [
    "train.head()"
   ]
  },
  {
   "cell_type": "code",
   "execution_count": 342,
   "id": "0c001f26",
   "metadata": {},
   "outputs": [
    {
     "data": {
      "text/html": [
       "<div>\n",
       "<style scoped>\n",
       "    .dataframe tbody tr th:only-of-type {\n",
       "        vertical-align: middle;\n",
       "    }\n",
       "\n",
       "    .dataframe tbody tr th {\n",
       "        vertical-align: top;\n",
       "    }\n",
       "\n",
       "    .dataframe thead th {\n",
       "        text-align: right;\n",
       "    }\n",
       "</style>\n",
       "<table border=\"1\" class=\"dataframe\">\n",
       "  <thead>\n",
       "    <tr style=\"text-align: right;\">\n",
       "      <th></th>\n",
       "      <th>id</th>\n",
       "      <th>created_at</th>\n",
       "      <th>campaign_var_1</th>\n",
       "      <th>campaign_var_2</th>\n",
       "      <th>products_purchased</th>\n",
       "      <th>signup_date</th>\n",
       "      <th>user_activity_var_1</th>\n",
       "      <th>user_activity_var_2</th>\n",
       "      <th>user_activity_var_3</th>\n",
       "      <th>user_activity_var_4</th>\n",
       "      <th>user_activity_var_5</th>\n",
       "      <th>user_activity_var_6</th>\n",
       "      <th>user_activity_var_7</th>\n",
       "      <th>user_activity_var_8</th>\n",
       "      <th>user_activity_var_9</th>\n",
       "      <th>user_activity_var_10</th>\n",
       "      <th>user_activity_var_11</th>\n",
       "      <th>user_activity_var_12</th>\n",
       "      <th>buy</th>\n",
       "    </tr>\n",
       "  </thead>\n",
       "  <tbody>\n",
       "    <tr>\n",
       "      <th>144</th>\n",
       "      <td>145</td>\n",
       "      <td>2021-01-05</td>\n",
       "      <td>4</td>\n",
       "      <td>5</td>\n",
       "      <td>2.0</td>\n",
       "      <td>2019-02-12</td>\n",
       "      <td>1</td>\n",
       "      <td>0</td>\n",
       "      <td>1</td>\n",
       "      <td>1</td>\n",
       "      <td>1</td>\n",
       "      <td>1</td>\n",
       "      <td>0</td>\n",
       "      <td>0</td>\n",
       "      <td>0</td>\n",
       "      <td>0</td>\n",
       "      <td>0</td>\n",
       "      <td>0</td>\n",
       "      <td>1</td>\n",
       "    </tr>\n",
       "    <tr>\n",
       "      <th>159</th>\n",
       "      <td>160</td>\n",
       "      <td>2021-01-05</td>\n",
       "      <td>5</td>\n",
       "      <td>7</td>\n",
       "      <td>3.0</td>\n",
       "      <td>2016-03-11</td>\n",
       "      <td>1</td>\n",
       "      <td>0</td>\n",
       "      <td>0</td>\n",
       "      <td>0</td>\n",
       "      <td>1</td>\n",
       "      <td>1</td>\n",
       "      <td>1</td>\n",
       "      <td>0</td>\n",
       "      <td>0</td>\n",
       "      <td>0</td>\n",
       "      <td>0</td>\n",
       "      <td>0</td>\n",
       "      <td>1</td>\n",
       "    </tr>\n",
       "    <tr>\n",
       "      <th>173</th>\n",
       "      <td>174</td>\n",
       "      <td>2021-01-05</td>\n",
       "      <td>6</td>\n",
       "      <td>3</td>\n",
       "      <td>NaN</td>\n",
       "      <td>2020-11-13</td>\n",
       "      <td>0</td>\n",
       "      <td>1</td>\n",
       "      <td>0</td>\n",
       "      <td>0</td>\n",
       "      <td>1</td>\n",
       "      <td>0</td>\n",
       "      <td>0</td>\n",
       "      <td>0</td>\n",
       "      <td>0</td>\n",
       "      <td>0</td>\n",
       "      <td>0</td>\n",
       "      <td>0</td>\n",
       "      <td>1</td>\n",
       "    </tr>\n",
       "    <tr>\n",
       "      <th>178</th>\n",
       "      <td>179</td>\n",
       "      <td>2021-01-06</td>\n",
       "      <td>8</td>\n",
       "      <td>9</td>\n",
       "      <td>NaN</td>\n",
       "      <td>2018-07-23</td>\n",
       "      <td>1</td>\n",
       "      <td>0</td>\n",
       "      <td>0</td>\n",
       "      <td>1</td>\n",
       "      <td>1</td>\n",
       "      <td>0</td>\n",
       "      <td>0</td>\n",
       "      <td>0</td>\n",
       "      <td>1</td>\n",
       "      <td>0</td>\n",
       "      <td>0</td>\n",
       "      <td>0</td>\n",
       "      <td>1</td>\n",
       "    </tr>\n",
       "    <tr>\n",
       "      <th>274</th>\n",
       "      <td>275</td>\n",
       "      <td>2021-01-08</td>\n",
       "      <td>3</td>\n",
       "      <td>4</td>\n",
       "      <td>2.0</td>\n",
       "      <td>2020-03-01</td>\n",
       "      <td>1</td>\n",
       "      <td>0</td>\n",
       "      <td>0</td>\n",
       "      <td>0</td>\n",
       "      <td>1</td>\n",
       "      <td>0</td>\n",
       "      <td>0</td>\n",
       "      <td>0</td>\n",
       "      <td>1</td>\n",
       "      <td>0</td>\n",
       "      <td>0</td>\n",
       "      <td>0</td>\n",
       "      <td>1</td>\n",
       "    </tr>\n",
       "    <tr>\n",
       "      <th>...</th>\n",
       "      <td>...</td>\n",
       "      <td>...</td>\n",
       "      <td>...</td>\n",
       "      <td>...</td>\n",
       "      <td>...</td>\n",
       "      <td>...</td>\n",
       "      <td>...</td>\n",
       "      <td>...</td>\n",
       "      <td>...</td>\n",
       "      <td>...</td>\n",
       "      <td>...</td>\n",
       "      <td>...</td>\n",
       "      <td>...</td>\n",
       "      <td>...</td>\n",
       "      <td>...</td>\n",
       "      <td>...</td>\n",
       "      <td>...</td>\n",
       "      <td>...</td>\n",
       "      <td>...</td>\n",
       "    </tr>\n",
       "    <tr>\n",
       "      <th>39071</th>\n",
       "      <td>39072</td>\n",
       "      <td>2021-12-31</td>\n",
       "      <td>6</td>\n",
       "      <td>6</td>\n",
       "      <td>NaN</td>\n",
       "      <td>2021-01-01</td>\n",
       "      <td>0</td>\n",
       "      <td>0</td>\n",
       "      <td>1</td>\n",
       "      <td>1</td>\n",
       "      <td>1</td>\n",
       "      <td>1</td>\n",
       "      <td>0</td>\n",
       "      <td>0</td>\n",
       "      <td>0</td>\n",
       "      <td>0</td>\n",
       "      <td>1</td>\n",
       "      <td>0</td>\n",
       "      <td>1</td>\n",
       "    </tr>\n",
       "    <tr>\n",
       "      <th>39086</th>\n",
       "      <td>39087</td>\n",
       "      <td>2021-12-31</td>\n",
       "      <td>7</td>\n",
       "      <td>5</td>\n",
       "      <td>1.0</td>\n",
       "      <td>2021-01-17</td>\n",
       "      <td>1</td>\n",
       "      <td>0</td>\n",
       "      <td>0</td>\n",
       "      <td>1</td>\n",
       "      <td>0</td>\n",
       "      <td>0</td>\n",
       "      <td>0</td>\n",
       "      <td>0</td>\n",
       "      <td>0</td>\n",
       "      <td>0</td>\n",
       "      <td>1</td>\n",
       "      <td>0</td>\n",
       "      <td>1</td>\n",
       "    </tr>\n",
       "    <tr>\n",
       "      <th>39103</th>\n",
       "      <td>39104</td>\n",
       "      <td>2021-12-31</td>\n",
       "      <td>3</td>\n",
       "      <td>5</td>\n",
       "      <td>2.0</td>\n",
       "      <td>2021-09-30</td>\n",
       "      <td>1</td>\n",
       "      <td>0</td>\n",
       "      <td>0</td>\n",
       "      <td>0</td>\n",
       "      <td>0</td>\n",
       "      <td>1</td>\n",
       "      <td>0</td>\n",
       "      <td>0</td>\n",
       "      <td>0</td>\n",
       "      <td>0</td>\n",
       "      <td>2</td>\n",
       "      <td>0</td>\n",
       "      <td>1</td>\n",
       "    </tr>\n",
       "    <tr>\n",
       "      <th>39129</th>\n",
       "      <td>39130</td>\n",
       "      <td>2021-12-31</td>\n",
       "      <td>6</td>\n",
       "      <td>6</td>\n",
       "      <td>NaN</td>\n",
       "      <td>2019-05-19</td>\n",
       "      <td>1</td>\n",
       "      <td>0</td>\n",
       "      <td>0</td>\n",
       "      <td>0</td>\n",
       "      <td>0</td>\n",
       "      <td>1</td>\n",
       "      <td>0</td>\n",
       "      <td>0</td>\n",
       "      <td>0</td>\n",
       "      <td>0</td>\n",
       "      <td>1</td>\n",
       "      <td>0</td>\n",
       "      <td>1</td>\n",
       "    </tr>\n",
       "    <tr>\n",
       "      <th>39139</th>\n",
       "      <td>39140</td>\n",
       "      <td>2021-12-31</td>\n",
       "      <td>8</td>\n",
       "      <td>6</td>\n",
       "      <td>NaN</td>\n",
       "      <td>2021-08-29</td>\n",
       "      <td>0</td>\n",
       "      <td>0</td>\n",
       "      <td>0</td>\n",
       "      <td>1</td>\n",
       "      <td>0</td>\n",
       "      <td>0</td>\n",
       "      <td>0</td>\n",
       "      <td>0</td>\n",
       "      <td>0</td>\n",
       "      <td>0</td>\n",
       "      <td>0</td>\n",
       "      <td>0</td>\n",
       "      <td>1</td>\n",
       "    </tr>\n",
       "  </tbody>\n",
       "</table>\n",
       "<p>1998 rows × 19 columns</p>\n",
       "</div>"
      ],
      "text/plain": [
       "          id  created_at  campaign_var_1  campaign_var_2  products_purchased  \\\n",
       "144      145  2021-01-05               4               5                 2.0   \n",
       "159      160  2021-01-05               5               7                 3.0   \n",
       "173      174  2021-01-05               6               3                 NaN   \n",
       "178      179  2021-01-06               8               9                 NaN   \n",
       "274      275  2021-01-08               3               4                 2.0   \n",
       "...      ...         ...             ...             ...                 ...   \n",
       "39071  39072  2021-12-31               6               6                 NaN   \n",
       "39086  39087  2021-12-31               7               5                 1.0   \n",
       "39103  39104  2021-12-31               3               5                 2.0   \n",
       "39129  39130  2021-12-31               6               6                 NaN   \n",
       "39139  39140  2021-12-31               8               6                 NaN   \n",
       "\n",
       "      signup_date  user_activity_var_1  user_activity_var_2  \\\n",
       "144    2019-02-12                    1                    0   \n",
       "159    2016-03-11                    1                    0   \n",
       "173    2020-11-13                    0                    1   \n",
       "178    2018-07-23                    1                    0   \n",
       "274    2020-03-01                    1                    0   \n",
       "...           ...                  ...                  ...   \n",
       "39071  2021-01-01                    0                    0   \n",
       "39086  2021-01-17                    1                    0   \n",
       "39103  2021-09-30                    1                    0   \n",
       "39129  2019-05-19                    1                    0   \n",
       "39139  2021-08-29                    0                    0   \n",
       "\n",
       "       user_activity_var_3  user_activity_var_4  user_activity_var_5  \\\n",
       "144                      1                    1                    1   \n",
       "159                      0                    0                    1   \n",
       "173                      0                    0                    1   \n",
       "178                      0                    1                    1   \n",
       "274                      0                    0                    1   \n",
       "...                    ...                  ...                  ...   \n",
       "39071                    1                    1                    1   \n",
       "39086                    0                    1                    0   \n",
       "39103                    0                    0                    0   \n",
       "39129                    0                    0                    0   \n",
       "39139                    0                    1                    0   \n",
       "\n",
       "       user_activity_var_6  user_activity_var_7  user_activity_var_8  \\\n",
       "144                      1                    0                    0   \n",
       "159                      1                    1                    0   \n",
       "173                      0                    0                    0   \n",
       "178                      0                    0                    0   \n",
       "274                      0                    0                    0   \n",
       "...                    ...                  ...                  ...   \n",
       "39071                    1                    0                    0   \n",
       "39086                    0                    0                    0   \n",
       "39103                    1                    0                    0   \n",
       "39129                    1                    0                    0   \n",
       "39139                    0                    0                    0   \n",
       "\n",
       "       user_activity_var_9  user_activity_var_10  user_activity_var_11  \\\n",
       "144                      0                     0                     0   \n",
       "159                      0                     0                     0   \n",
       "173                      0                     0                     0   \n",
       "178                      1                     0                     0   \n",
       "274                      1                     0                     0   \n",
       "...                    ...                   ...                   ...   \n",
       "39071                    0                     0                     1   \n",
       "39086                    0                     0                     1   \n",
       "39103                    0                     0                     2   \n",
       "39129                    0                     0                     1   \n",
       "39139                    0                     0                     0   \n",
       "\n",
       "       user_activity_var_12  buy  \n",
       "144                       0    1  \n",
       "159                       0    1  \n",
       "173                       0    1  \n",
       "178                       0    1  \n",
       "274                       0    1  \n",
       "...                     ...  ...  \n",
       "39071                     0    1  \n",
       "39086                     0    1  \n",
       "39103                     0    1  \n",
       "39129                     0    1  \n",
       "39139                     0    1  \n",
       "\n",
       "[1998 rows x 19 columns]"
      ]
     },
     "execution_count": 342,
     "metadata": {},
     "output_type": "execute_result"
    }
   ],
   "source": [
    "train[train['buy']==1]"
   ]
  },
  {
   "cell_type": "code",
   "execution_count": 6,
   "id": "ebedc11c",
   "metadata": {},
   "outputs": [],
   "source": [
    "test=pd.read_csv('~/documents/job_a_thon/test.csv')"
   ]
  },
  {
   "cell_type": "code",
   "execution_count": 7,
   "id": "31ecb959",
   "metadata": {},
   "outputs": [],
   "source": [
    "#Lets check data types of the columns"
   ]
  },
  {
   "cell_type": "code",
   "execution_count": 8,
   "id": "51277286",
   "metadata": {},
   "outputs": [
    {
     "data": {
      "text/plain": [
       "id                        int64\n",
       "created_at               object\n",
       "campaign_var_1            int64\n",
       "campaign_var_2            int64\n",
       "products_purchased      float64\n",
       "signup_date              object\n",
       "user_activity_var_1       int64\n",
       "user_activity_var_2       int64\n",
       "user_activity_var_3       int64\n",
       "user_activity_var_4       int64\n",
       "user_activity_var_5       int64\n",
       "user_activity_var_6       int64\n",
       "user_activity_var_7       int64\n",
       "user_activity_var_8       int64\n",
       "user_activity_var_9       int64\n",
       "user_activity_var_10      int64\n",
       "user_activity_var_11      int64\n",
       "user_activity_var_12      int64\n",
       "buy                       int64\n",
       "dtype: object"
      ]
     },
     "execution_count": 8,
     "metadata": {},
     "output_type": "execute_result"
    }
   ],
   "source": [
    "train.dtypes"
   ]
  },
  {
   "cell_type": "code",
   "execution_count": 9,
   "id": "32352993",
   "metadata": {},
   "outputs": [
    {
     "data": {
      "text/plain": [
       "id                          0\n",
       "created_at                  0\n",
       "campaign_var_1              0\n",
       "campaign_var_2              0\n",
       "products_purchased      20911\n",
       "signup_date             15113\n",
       "user_activity_var_1         0\n",
       "user_activity_var_2         0\n",
       "user_activity_var_3         0\n",
       "user_activity_var_4         0\n",
       "user_activity_var_5         0\n",
       "user_activity_var_6         0\n",
       "user_activity_var_7         0\n",
       "user_activity_var_8         0\n",
       "user_activity_var_9         0\n",
       "user_activity_var_10        0\n",
       "user_activity_var_11        0\n",
       "user_activity_var_12        0\n",
       "buy                         0\n",
       "dtype: int64"
      ]
     },
     "execution_count": 9,
     "metadata": {},
     "output_type": "execute_result"
    }
   ],
   "source": [
    "train.isnull().sum()"
   ]
  },
  {
   "cell_type": "code",
   "execution_count": 10,
   "id": "3b647379",
   "metadata": {},
   "outputs": [],
   "source": [
    "#products_purchased and #csignupdate has lots of null values in it"
   ]
  },
  {
   "cell_type": "code",
   "execution_count": 11,
   "id": "473642b1",
   "metadata": {},
   "outputs": [],
   "source": [
    "#Lets check imbalance if any in target buy"
   ]
  },
  {
   "cell_type": "code",
   "execution_count": 12,
   "id": "9ecf2795",
   "metadata": {},
   "outputs": [
    {
     "data": {
      "text/plain": [
       "0    37163\n",
       "1     1998\n",
       "Name: buy, dtype: int64"
      ]
     },
     "execution_count": 12,
     "metadata": {},
     "output_type": "execute_result"
    }
   ],
   "source": [
    "train['buy'].value_counts()"
   ]
  },
  {
   "cell_type": "code",
   "execution_count": 13,
   "id": "7f6b5de5",
   "metadata": {},
   "outputs": [],
   "source": [
    "#It is highly imbalanced as we can see"
   ]
  },
  {
   "cell_type": "code",
   "execution_count": 14,
   "id": "df7cc2bf",
   "metadata": {},
   "outputs": [
    {
     "data": {
      "text/plain": [
       "0    94.897985\n",
       "1     5.102015\n",
       "Name: buy, dtype: float64"
      ]
     },
     "execution_count": 14,
     "metadata": {},
     "output_type": "execute_result"
    }
   ],
   "source": [
    "train['buy'].value_counts()*100/train['buy'].value_counts().sum()"
   ]
  },
  {
   "cell_type": "code",
   "execution_count": 15,
   "id": "cc8ce974",
   "metadata": {},
   "outputs": [],
   "source": [
    "#Imbalance in train and test are same"
   ]
  },
  {
   "cell_type": "code",
   "execution_count": 16,
   "id": "bd792210",
   "metadata": {},
   "outputs": [],
   "source": [
    "#Lets check how many categories are there in each columns"
   ]
  },
  {
   "cell_type": "code",
   "execution_count": 17,
   "id": "04789b4f",
   "metadata": {},
   "outputs": [
    {
     "name": "stdout",
     "output_type": "stream",
     "text": [
      "id \n",
      " [    1     2     3 ... 39159 39160 39161]\n",
      "created_at \n",
      " ['2021-01-01' '2021-01-02' '2021-01-03' '2021-01-04' '2021-01-05'\n",
      " '2021-01-06' '2021-01-07' '2021-01-08' '2021-01-09' '2021-01-10'\n",
      " '2021-01-11' '2021-01-12' '2021-01-13' '2021-01-14' '2021-01-15'\n",
      " '2021-01-16' '2021-01-17' '2021-01-18' '2021-01-19' '2021-01-20'\n",
      " '2021-01-21' '2021-01-22' '2021-01-23' '2021-01-24' '2021-01-25'\n",
      " '2021-01-26' '2021-01-27' '2021-01-28' '2021-01-29' '2021-01-30'\n",
      " '2021-01-31' '2021-02-01' '2021-02-02' '2021-02-03' '2021-02-04'\n",
      " '2021-02-05' '2021-02-06' '2021-02-07' '2021-02-08' '2021-02-09'\n",
      " '2021-02-10' '2021-02-11' '2021-02-12' '2021-02-13' '2021-02-14'\n",
      " '2021-02-15' '2021-02-16' '2021-02-17' '2021-02-18' '2021-02-19'\n",
      " '2021-02-20' '2021-02-21' '2021-02-22' '2021-02-23' '2021-02-24'\n",
      " '2021-02-25' '2021-02-26' '2021-02-27' '2021-02-28' '2021-03-01'\n",
      " '2021-03-02' '2021-03-03' '2021-03-04' '2021-03-05' '2021-03-06'\n",
      " '2021-03-07' '2021-03-08' '2021-03-09' '2021-03-10' '2021-03-11'\n",
      " '2021-03-12' '2021-03-13' '2021-03-14' '2021-03-15' '2021-03-16'\n",
      " '2021-03-17' '2021-03-18' '2021-03-19' '2021-03-20' '2021-03-21'\n",
      " '2021-03-22' '2021-03-23' '2021-03-24' '2021-03-25' '2021-03-26'\n",
      " '2021-03-27' '2021-03-28' '2021-03-29' '2021-03-30' '2021-03-31'\n",
      " '2021-04-01' '2021-04-02' '2021-04-03' '2021-04-04' '2021-04-05'\n",
      " '2021-04-06' '2021-04-07' '2021-04-08' '2021-04-09' '2021-04-10'\n",
      " '2021-04-11' '2021-04-12' '2021-04-13' '2021-04-14' '2021-04-15'\n",
      " '2021-04-16' '2021-04-17' '2021-04-18' '2021-04-19' '2021-04-20'\n",
      " '2021-04-21' '2021-04-22' '2021-04-23' '2021-04-24' '2021-04-25'\n",
      " '2021-04-26' '2021-04-27' '2021-04-28' '2021-04-29' '2021-04-30'\n",
      " '2021-05-01' '2021-05-02' '2021-05-03' '2021-05-04' '2021-05-05'\n",
      " '2021-05-06' '2021-05-07' '2021-05-08' '2021-05-09' '2021-05-10'\n",
      " '2021-05-11' '2021-05-12' '2021-05-13' '2021-05-14' '2021-05-15'\n",
      " '2021-05-16' '2021-05-17' '2021-05-18' '2021-05-19' '2021-05-20'\n",
      " '2021-05-21' '2021-05-22' '2021-05-23' '2021-05-24' '2021-05-25'\n",
      " '2021-05-26' '2021-05-27' '2021-05-28' '2021-05-29' '2021-05-30'\n",
      " '2021-05-31' '2021-06-01' '2021-06-02' '2021-06-03' '2021-06-04'\n",
      " '2021-06-05' '2021-06-06' '2021-06-07' '2021-06-08' '2021-06-09'\n",
      " '2021-06-10' '2021-06-11' '2021-06-12' '2021-06-13' '2021-06-14'\n",
      " '2021-06-15' '2021-06-16' '2021-06-17' '2021-06-18' '2021-06-19'\n",
      " '2021-06-20' '2021-06-21' '2021-06-22' '2021-06-23' '2021-06-24'\n",
      " '2021-06-25' '2021-06-26' '2021-06-27' '2021-06-28' '2021-06-29'\n",
      " '2021-06-30' '2021-07-01' '2021-07-02' '2021-07-03' '2021-07-04'\n",
      " '2021-07-05' '2021-07-06' '2021-07-07' '2021-07-08' '2021-07-09'\n",
      " '2021-07-10' '2021-07-11' '2021-07-12' '2021-07-13' '2021-07-14'\n",
      " '2021-07-15' '2021-07-16' '2021-07-17' '2021-07-18' '2021-07-19'\n",
      " '2021-07-20' '2021-07-21' '2021-07-22' '2021-07-23' '2021-07-24'\n",
      " '2021-07-25' '2021-07-26' '2021-07-27' '2021-07-28' '2021-07-29'\n",
      " '2021-07-30' '2021-07-31' '2021-08-01' '2021-08-02' '2021-08-03'\n",
      " '2021-08-04' '2021-08-05' '2021-08-06' '2021-08-07' '2021-08-08'\n",
      " '2021-08-09' '2021-08-10' '2021-08-11' '2021-08-12' '2021-08-13'\n",
      " '2021-08-14' '2021-08-15' '2021-08-16' '2021-08-17' '2021-08-18'\n",
      " '2021-08-19' '2021-08-20' '2021-08-21' '2021-08-22' '2021-08-23'\n",
      " '2021-08-24' '2021-08-25' '2021-08-26' '2021-08-27' '2021-08-28'\n",
      " '2021-08-29' '2021-08-30' '2021-08-31' '2021-09-01' '2021-09-02'\n",
      " '2021-09-03' '2021-09-04' '2021-09-05' '2021-09-06' '2021-09-07'\n",
      " '2021-09-08' '2021-09-09' '2021-09-10' '2021-09-11' '2021-09-12'\n",
      " '2021-09-13' '2021-09-14' '2021-09-15' '2021-09-16' '2021-09-17'\n",
      " '2021-09-18' '2021-09-19' '2021-09-20' '2021-09-21' '2021-09-22'\n",
      " '2021-09-23' '2021-09-24' '2021-09-25' '2021-09-26' '2021-09-27'\n",
      " '2021-09-28' '2021-09-29' '2021-09-30' '2021-10-01' '2021-10-02'\n",
      " '2021-10-03' '2021-10-04' '2021-10-05' '2021-10-06' '2021-10-07'\n",
      " '2021-10-08' '2021-10-09' '2021-10-10' '2021-10-11' '2021-10-12'\n",
      " '2021-10-13' '2021-10-14' '2021-10-15' '2021-10-16' '2021-10-17'\n",
      " '2021-10-18' '2021-10-19' '2021-10-20' '2021-10-21' '2021-10-22'\n",
      " '2021-10-23' '2021-10-24' '2021-10-25' '2021-10-26' '2021-10-27'\n",
      " '2021-10-28' '2021-10-29' '2021-10-30' '2021-10-31' '2021-11-01'\n",
      " '2021-11-02' '2021-11-03' '2021-11-04' '2021-11-05' '2021-11-06'\n",
      " '2021-11-07' '2021-11-08' '2021-11-09' '2021-11-10' '2021-11-11'\n",
      " '2021-11-12' '2021-11-13' '2021-11-14' '2021-11-15' '2021-11-16'\n",
      " '2021-11-17' '2021-11-18' '2021-11-19' '2021-11-20' '2021-11-21'\n",
      " '2021-11-22' '2021-11-23' '2021-11-24' '2021-11-25' '2021-11-26'\n",
      " '2021-11-27' '2021-11-28' '2021-11-29' '2021-11-30' '2021-12-01'\n",
      " '2021-12-02' '2021-12-03' '2021-12-04' '2021-12-05' '2021-12-06'\n",
      " '2021-12-07' '2021-12-08' '2021-12-09' '2021-12-10' '2021-12-11'\n",
      " '2021-12-12' '2021-12-13' '2021-12-14' '2021-12-15' '2021-12-16'\n",
      " '2021-12-17' '2021-12-18' '2021-12-19' '2021-12-20' '2021-12-21'\n",
      " '2021-12-22' '2021-12-23' '2021-12-24' '2021-12-25' '2021-12-26'\n",
      " '2021-12-27' '2021-12-28' '2021-12-29' '2021-12-30' '2021-12-31']\n",
      "campaign_var_1 \n",
      " [ 1  2  9  6  4  3  5  7 13  8 12 10 14 11 16 15]\n",
      "campaign_var_2 \n",
      " [ 2  1  3  7  6  4 10  5  8  9 12 11 13 14 15]\n",
      "products_purchased \n",
      " [ 2.  3. nan  1.  4.]\n",
      "signup_date \n",
      " ['2020-09-24' '2020-09-19' '2021-08-11' ... '2018-04-30' '2016-12-27'\n",
      " '2017-10-19']\n",
      "user_activity_var_1 \n",
      " [0 1 2 3]\n",
      "user_activity_var_2 \n",
      " [0 1]\n",
      "user_activity_var_3 \n",
      " [0 1]\n",
      "user_activity_var_4 \n",
      " [0 1]\n",
      "user_activity_var_5 \n",
      " [0 1 2]\n",
      "user_activity_var_6 \n",
      " [0 1 2 3]\n",
      "user_activity_var_7 \n",
      " [1 0 2]\n",
      "user_activity_var_8 \n",
      " [1 0 2]\n",
      "user_activity_var_9 \n",
      " [0 1]\n",
      "user_activity_var_10 \n",
      " [0 1]\n",
      "user_activity_var_11 \n",
      " [0 1 2 3 4]\n",
      "user_activity_var_12 \n",
      " [0 1]\n",
      "buy \n",
      " [0 1]\n"
     ]
    }
   ],
   "source": [
    "for i in train.columns:\n",
    "    print(i,'\\n',train[i].unique())"
   ]
  },
  {
   "cell_type": "code",
   "execution_count": 18,
   "id": "33fcf8bf",
   "metadata": {
    "scrolled": false
   },
   "outputs": [
    {
     "name": "stdout",
     "output_type": "stream",
     "text": [
      "id \n",
      " [39162 39163 39164 ... 52343 52344 52345]\n",
      "created_at \n",
      " ['2022-01-01' '2022-01-02' '2022-01-03' '2022-01-04' '2022-01-05'\n",
      " '2022-01-06' '2022-01-07' '2022-01-08' '2022-01-09' '2022-01-10'\n",
      " '2022-01-11' '2022-01-12' '2022-01-13' '2022-01-14' '2022-01-15'\n",
      " '2022-01-16' '2022-01-17' '2022-01-18' '2022-01-19' '2022-01-20'\n",
      " '2022-01-21' '2022-01-22' '2022-01-23' '2022-01-24' '2022-01-25'\n",
      " '2022-01-26' '2022-01-27' '2022-01-28' '2022-01-29' '2022-01-30'\n",
      " '2022-01-31' '2022-02-01' '2022-02-02' '2022-02-03' '2022-02-04'\n",
      " '2022-02-05' '2022-02-06' '2022-02-07' '2022-02-08' '2022-02-09'\n",
      " '2022-02-10' '2022-02-11' '2022-02-12' '2022-02-13' '2022-02-14'\n",
      " '2022-02-15' '2022-02-16' '2022-02-17' '2022-02-18' '2022-02-19'\n",
      " '2022-02-20' '2022-02-21' '2022-02-22' '2022-02-23' '2022-02-24'\n",
      " '2022-02-25' '2022-02-26' '2022-02-27' '2022-02-28' '2022-03-01'\n",
      " '2022-03-02' '2022-03-03' '2022-03-04' '2022-03-05' '2022-03-06'\n",
      " '2022-03-07' '2022-03-08' '2022-03-09' '2022-03-10' '2022-03-11'\n",
      " '2022-03-12' '2022-03-13' '2022-03-14' '2022-03-15' '2022-03-16'\n",
      " '2022-03-17' '2022-03-18' '2022-03-19' '2022-03-20' '2022-03-21'\n",
      " '2022-03-22' '2022-03-23' '2022-03-24' '2022-03-25' '2022-03-26'\n",
      " '2022-03-27' '2022-03-28' '2022-03-29' '2022-03-30']\n",
      "campaign_var_1 \n",
      " [ 2  4  8  9 13  1  6  3 14  5 10  7 15 11 12 16]\n",
      "campaign_var_2 \n",
      " [ 2  7  8  5  4 12  6  3 11 10  9 13  1 14 15]\n",
      "products_purchased \n",
      " [nan  3.  2.  1.  4.]\n",
      "signup_date \n",
      " ['2021-08-17' '2020-05-21' nan ... '2019-02-12' '2020-03-01' '2019-03-22']\n",
      "user_activity_var_1 \n",
      " [1 0 2 3]\n",
      "user_activity_var_2 \n",
      " [1 0]\n",
      "user_activity_var_3 \n",
      " [0 1]\n",
      "user_activity_var_4 \n",
      " [0 1]\n",
      "user_activity_var_5 \n",
      " [0 1 2]\n",
      "user_activity_var_6 \n",
      " [1 0 2 3]\n",
      "user_activity_var_7 \n",
      " [0 1 2]\n",
      "user_activity_var_8 \n",
      " [0 1 2]\n",
      "user_activity_var_9 \n",
      " [0 1 2]\n",
      "user_activity_var_10 \n",
      " [0 1]\n",
      "user_activity_var_11 \n",
      " [1 0 2 3]\n",
      "user_activity_var_12 \n",
      " [0 1]\n"
     ]
    }
   ],
   "source": [
    "for i in test.columns:\n",
    "    print(i,'\\n',test[i].unique())"
   ]
  },
  {
   "cell_type": "markdown",
   "id": "69862c60",
   "metadata": {},
   "source": [
    "# Preprocessing and EDA"
   ]
  },
  {
   "cell_type": "code",
   "execution_count": 19,
   "id": "caff27a0",
   "metadata": {},
   "outputs": [],
   "source": [
    "#We can just see that almost all vaiables except id and dates are categorical in nature"
   ]
  },
  {
   "cell_type": "code",
   "execution_count": 20,
   "id": "96cf4cb6",
   "metadata": {},
   "outputs": [],
   "source": [
    "#lets create a simple copy and impute using knn imputer"
   ]
  },
  {
   "cell_type": "code",
   "execution_count": 21,
   "id": "3cb1bd8f",
   "metadata": {},
   "outputs": [],
   "source": [
    "train_copy1=train.copy()\n",
    "test_copy1=test.copy()"
   ]
  },
  {
   "cell_type": "code",
   "execution_count": 22,
   "id": "7a95a0b6",
   "metadata": {},
   "outputs": [],
   "source": [
    "train_copy1['signup_day']=pd.to_datetime(train_copy1['signup_date']).dt.day"
   ]
  },
  {
   "cell_type": "code",
   "execution_count": 23,
   "id": "ae61cdfe",
   "metadata": {},
   "outputs": [],
   "source": [
    "train_copy1['signup_year']=pd.to_datetime(train_copy1['signup_date']).dt.year"
   ]
  },
  {
   "cell_type": "code",
   "execution_count": 24,
   "id": "a6482af3",
   "metadata": {},
   "outputs": [],
   "source": [
    "train_copy1['signup_month']=pd.to_datetime(train_copy1['signup_date']).dt.month"
   ]
  },
  {
   "cell_type": "code",
   "execution_count": 25,
   "id": "ecdd26d6",
   "metadata": {},
   "outputs": [],
   "source": [
    "test_copy1['signup_day']=pd.to_datetime(test_copy1['signup_date']).dt.day\n",
    "test_copy1['signup_month']=pd.to_datetime(test_copy1['signup_date']).dt.month\n",
    "test_copy1['signup_year']=pd.to_datetime(test_copy1['signup_date']).dt.year"
   ]
  },
  {
   "cell_type": "code",
   "execution_count": 472,
   "id": "f4fae1d4",
   "metadata": {},
   "outputs": [
    {
     "data": {
      "text/plain": [
       "array([False, False, False, False, False, False, False, False, False])"
      ]
     },
     "execution_count": 472,
     "metadata": {},
     "output_type": "execute_result"
    }
   ],
   "source": [
    "test_copy1['signup_year'].unique()<10"
   ]
  },
  {
   "cell_type": "code",
   "execution_count": 26,
   "id": "fc02d2b6",
   "metadata": {},
   "outputs": [
    {
     "data": {
      "text/html": [
       "<div>\n",
       "<style scoped>\n",
       "    .dataframe tbody tr th:only-of-type {\n",
       "        vertical-align: middle;\n",
       "    }\n",
       "\n",
       "    .dataframe tbody tr th {\n",
       "        vertical-align: top;\n",
       "    }\n",
       "\n",
       "    .dataframe thead th {\n",
       "        text-align: right;\n",
       "    }\n",
       "</style>\n",
       "<table border=\"1\" class=\"dataframe\">\n",
       "  <thead>\n",
       "    <tr style=\"text-align: right;\">\n",
       "      <th></th>\n",
       "      <th>id</th>\n",
       "      <th>created_at</th>\n",
       "      <th>campaign_var_1</th>\n",
       "      <th>campaign_var_2</th>\n",
       "      <th>products_purchased</th>\n",
       "      <th>signup_date</th>\n",
       "      <th>user_activity_var_1</th>\n",
       "      <th>user_activity_var_2</th>\n",
       "      <th>user_activity_var_3</th>\n",
       "      <th>user_activity_var_4</th>\n",
       "      <th>...</th>\n",
       "      <th>user_activity_var_7</th>\n",
       "      <th>user_activity_var_8</th>\n",
       "      <th>user_activity_var_9</th>\n",
       "      <th>user_activity_var_10</th>\n",
       "      <th>user_activity_var_11</th>\n",
       "      <th>user_activity_var_12</th>\n",
       "      <th>buy</th>\n",
       "      <th>signup_day</th>\n",
       "      <th>signup_year</th>\n",
       "      <th>signup_month</th>\n",
       "    </tr>\n",
       "  </thead>\n",
       "  <tbody>\n",
       "    <tr>\n",
       "      <th>0</th>\n",
       "      <td>1</td>\n",
       "      <td>2021-01-01</td>\n",
       "      <td>1</td>\n",
       "      <td>2</td>\n",
       "      <td>2.0</td>\n",
       "      <td>2020-09-24</td>\n",
       "      <td>0</td>\n",
       "      <td>0</td>\n",
       "      <td>0</td>\n",
       "      <td>0</td>\n",
       "      <td>...</td>\n",
       "      <td>1</td>\n",
       "      <td>1</td>\n",
       "      <td>0</td>\n",
       "      <td>0</td>\n",
       "      <td>0</td>\n",
       "      <td>0</td>\n",
       "      <td>0</td>\n",
       "      <td>24.0</td>\n",
       "      <td>2020.0</td>\n",
       "      <td>9.0</td>\n",
       "    </tr>\n",
       "    <tr>\n",
       "      <th>1</th>\n",
       "      <td>2</td>\n",
       "      <td>2021-01-01</td>\n",
       "      <td>2</td>\n",
       "      <td>1</td>\n",
       "      <td>2.0</td>\n",
       "      <td>2020-09-19</td>\n",
       "      <td>1</td>\n",
       "      <td>0</td>\n",
       "      <td>1</td>\n",
       "      <td>0</td>\n",
       "      <td>...</td>\n",
       "      <td>1</td>\n",
       "      <td>0</td>\n",
       "      <td>0</td>\n",
       "      <td>0</td>\n",
       "      <td>0</td>\n",
       "      <td>0</td>\n",
       "      <td>0</td>\n",
       "      <td>19.0</td>\n",
       "      <td>2020.0</td>\n",
       "      <td>9.0</td>\n",
       "    </tr>\n",
       "    <tr>\n",
       "      <th>2</th>\n",
       "      <td>3</td>\n",
       "      <td>2021-01-01</td>\n",
       "      <td>9</td>\n",
       "      <td>3</td>\n",
       "      <td>3.0</td>\n",
       "      <td>2021-08-11</td>\n",
       "      <td>1</td>\n",
       "      <td>0</td>\n",
       "      <td>0</td>\n",
       "      <td>0</td>\n",
       "      <td>...</td>\n",
       "      <td>0</td>\n",
       "      <td>0</td>\n",
       "      <td>0</td>\n",
       "      <td>0</td>\n",
       "      <td>0</td>\n",
       "      <td>0</td>\n",
       "      <td>0</td>\n",
       "      <td>11.0</td>\n",
       "      <td>2021.0</td>\n",
       "      <td>8.0</td>\n",
       "    </tr>\n",
       "    <tr>\n",
       "      <th>3</th>\n",
       "      <td>4</td>\n",
       "      <td>2021-01-01</td>\n",
       "      <td>6</td>\n",
       "      <td>7</td>\n",
       "      <td>2.0</td>\n",
       "      <td>2017-10-04</td>\n",
       "      <td>0</td>\n",
       "      <td>0</td>\n",
       "      <td>0</td>\n",
       "      <td>0</td>\n",
       "      <td>...</td>\n",
       "      <td>0</td>\n",
       "      <td>0</td>\n",
       "      <td>0</td>\n",
       "      <td>0</td>\n",
       "      <td>0</td>\n",
       "      <td>0</td>\n",
       "      <td>0</td>\n",
       "      <td>4.0</td>\n",
       "      <td>2017.0</td>\n",
       "      <td>10.0</td>\n",
       "    </tr>\n",
       "    <tr>\n",
       "      <th>4</th>\n",
       "      <td>5</td>\n",
       "      <td>2021-01-01</td>\n",
       "      <td>4</td>\n",
       "      <td>6</td>\n",
       "      <td>NaN</td>\n",
       "      <td>2020-06-08</td>\n",
       "      <td>0</td>\n",
       "      <td>0</td>\n",
       "      <td>0</td>\n",
       "      <td>0</td>\n",
       "      <td>...</td>\n",
       "      <td>1</td>\n",
       "      <td>0</td>\n",
       "      <td>0</td>\n",
       "      <td>0</td>\n",
       "      <td>1</td>\n",
       "      <td>0</td>\n",
       "      <td>0</td>\n",
       "      <td>8.0</td>\n",
       "      <td>2020.0</td>\n",
       "      <td>6.0</td>\n",
       "    </tr>\n",
       "  </tbody>\n",
       "</table>\n",
       "<p>5 rows × 22 columns</p>\n",
       "</div>"
      ],
      "text/plain": [
       "   id  created_at  campaign_var_1  campaign_var_2  products_purchased  \\\n",
       "0   1  2021-01-01               1               2                 2.0   \n",
       "1   2  2021-01-01               2               1                 2.0   \n",
       "2   3  2021-01-01               9               3                 3.0   \n",
       "3   4  2021-01-01               6               7                 2.0   \n",
       "4   5  2021-01-01               4               6                 NaN   \n",
       "\n",
       "  signup_date  user_activity_var_1  user_activity_var_2  user_activity_var_3  \\\n",
       "0  2020-09-24                    0                    0                    0   \n",
       "1  2020-09-19                    1                    0                    1   \n",
       "2  2021-08-11                    1                    0                    0   \n",
       "3  2017-10-04                    0                    0                    0   \n",
       "4  2020-06-08                    0                    0                    0   \n",
       "\n",
       "   user_activity_var_4  ...  user_activity_var_7  user_activity_var_8  \\\n",
       "0                    0  ...                    1                    1   \n",
       "1                    0  ...                    1                    0   \n",
       "2                    0  ...                    0                    0   \n",
       "3                    0  ...                    0                    0   \n",
       "4                    0  ...                    1                    0   \n",
       "\n",
       "   user_activity_var_9  user_activity_var_10  user_activity_var_11  \\\n",
       "0                    0                     0                     0   \n",
       "1                    0                     0                     0   \n",
       "2                    0                     0                     0   \n",
       "3                    0                     0                     0   \n",
       "4                    0                     0                     1   \n",
       "\n",
       "   user_activity_var_12  buy  signup_day  signup_year  signup_month  \n",
       "0                     0    0        24.0       2020.0           9.0  \n",
       "1                     0    0        19.0       2020.0           9.0  \n",
       "2                     0    0        11.0       2021.0           8.0  \n",
       "3                     0    0         4.0       2017.0          10.0  \n",
       "4                     0    0         8.0       2020.0           6.0  \n",
       "\n",
       "[5 rows x 22 columns]"
      ]
     },
     "execution_count": 26,
     "metadata": {},
     "output_type": "execute_result"
    }
   ],
   "source": [
    "train_copy1.head()"
   ]
  },
  {
   "cell_type": "code",
   "execution_count": 27,
   "id": "ebb26630",
   "metadata": {},
   "outputs": [
    {
     "data": {
      "text/html": [
       "<div>\n",
       "<style scoped>\n",
       "    .dataframe tbody tr th:only-of-type {\n",
       "        vertical-align: middle;\n",
       "    }\n",
       "\n",
       "    .dataframe tbody tr th {\n",
       "        vertical-align: top;\n",
       "    }\n",
       "\n",
       "    .dataframe thead th {\n",
       "        text-align: right;\n",
       "    }\n",
       "</style>\n",
       "<table border=\"1\" class=\"dataframe\">\n",
       "  <thead>\n",
       "    <tr style=\"text-align: right;\">\n",
       "      <th></th>\n",
       "      <th>id</th>\n",
       "      <th>created_at</th>\n",
       "      <th>campaign_var_1</th>\n",
       "      <th>campaign_var_2</th>\n",
       "      <th>products_purchased</th>\n",
       "      <th>signup_date</th>\n",
       "      <th>user_activity_var_1</th>\n",
       "      <th>user_activity_var_2</th>\n",
       "      <th>user_activity_var_3</th>\n",
       "      <th>user_activity_var_4</th>\n",
       "      <th>...</th>\n",
       "      <th>user_activity_var_6</th>\n",
       "      <th>user_activity_var_7</th>\n",
       "      <th>user_activity_var_8</th>\n",
       "      <th>user_activity_var_9</th>\n",
       "      <th>user_activity_var_10</th>\n",
       "      <th>user_activity_var_11</th>\n",
       "      <th>user_activity_var_12</th>\n",
       "      <th>signup_day</th>\n",
       "      <th>signup_month</th>\n",
       "      <th>signup_year</th>\n",
       "    </tr>\n",
       "  </thead>\n",
       "  <tbody>\n",
       "    <tr>\n",
       "      <th>0</th>\n",
       "      <td>39162</td>\n",
       "      <td>2022-01-01</td>\n",
       "      <td>2</td>\n",
       "      <td>2</td>\n",
       "      <td>NaN</td>\n",
       "      <td>2021-08-17</td>\n",
       "      <td>1</td>\n",
       "      <td>1</td>\n",
       "      <td>0</td>\n",
       "      <td>0</td>\n",
       "      <td>...</td>\n",
       "      <td>1</td>\n",
       "      <td>0</td>\n",
       "      <td>0</td>\n",
       "      <td>0</td>\n",
       "      <td>0</td>\n",
       "      <td>1</td>\n",
       "      <td>0</td>\n",
       "      <td>17.0</td>\n",
       "      <td>8.0</td>\n",
       "      <td>2021.0</td>\n",
       "    </tr>\n",
       "    <tr>\n",
       "      <th>1</th>\n",
       "      <td>39163</td>\n",
       "      <td>2022-01-01</td>\n",
       "      <td>4</td>\n",
       "      <td>7</td>\n",
       "      <td>3.0</td>\n",
       "      <td>2020-05-21</td>\n",
       "      <td>1</td>\n",
       "      <td>0</td>\n",
       "      <td>0</td>\n",
       "      <td>0</td>\n",
       "      <td>...</td>\n",
       "      <td>0</td>\n",
       "      <td>0</td>\n",
       "      <td>1</td>\n",
       "      <td>0</td>\n",
       "      <td>0</td>\n",
       "      <td>0</td>\n",
       "      <td>0</td>\n",
       "      <td>21.0</td>\n",
       "      <td>5.0</td>\n",
       "      <td>2020.0</td>\n",
       "    </tr>\n",
       "    <tr>\n",
       "      <th>2</th>\n",
       "      <td>39164</td>\n",
       "      <td>2022-01-01</td>\n",
       "      <td>8</td>\n",
       "      <td>7</td>\n",
       "      <td>NaN</td>\n",
       "      <td>NaN</td>\n",
       "      <td>0</td>\n",
       "      <td>0</td>\n",
       "      <td>0</td>\n",
       "      <td>0</td>\n",
       "      <td>...</td>\n",
       "      <td>1</td>\n",
       "      <td>0</td>\n",
       "      <td>0</td>\n",
       "      <td>0</td>\n",
       "      <td>0</td>\n",
       "      <td>0</td>\n",
       "      <td>0</td>\n",
       "      <td>NaN</td>\n",
       "      <td>NaN</td>\n",
       "      <td>NaN</td>\n",
       "    </tr>\n",
       "    <tr>\n",
       "      <th>3</th>\n",
       "      <td>39165</td>\n",
       "      <td>2022-01-01</td>\n",
       "      <td>9</td>\n",
       "      <td>8</td>\n",
       "      <td>2.0</td>\n",
       "      <td>2020-06-22</td>\n",
       "      <td>0</td>\n",
       "      <td>0</td>\n",
       "      <td>0</td>\n",
       "      <td>0</td>\n",
       "      <td>...</td>\n",
       "      <td>1</td>\n",
       "      <td>1</td>\n",
       "      <td>0</td>\n",
       "      <td>0</td>\n",
       "      <td>0</td>\n",
       "      <td>2</td>\n",
       "      <td>0</td>\n",
       "      <td>22.0</td>\n",
       "      <td>6.0</td>\n",
       "      <td>2020.0</td>\n",
       "    </tr>\n",
       "    <tr>\n",
       "      <th>4</th>\n",
       "      <td>39166</td>\n",
       "      <td>2022-01-01</td>\n",
       "      <td>4</td>\n",
       "      <td>5</td>\n",
       "      <td>2.0</td>\n",
       "      <td>2021-03-10</td>\n",
       "      <td>1</td>\n",
       "      <td>0</td>\n",
       "      <td>0</td>\n",
       "      <td>0</td>\n",
       "      <td>...</td>\n",
       "      <td>0</td>\n",
       "      <td>0</td>\n",
       "      <td>0</td>\n",
       "      <td>0</td>\n",
       "      <td>0</td>\n",
       "      <td>0</td>\n",
       "      <td>0</td>\n",
       "      <td>10.0</td>\n",
       "      <td>3.0</td>\n",
       "      <td>2021.0</td>\n",
       "    </tr>\n",
       "  </tbody>\n",
       "</table>\n",
       "<p>5 rows × 21 columns</p>\n",
       "</div>"
      ],
      "text/plain": [
       "      id  created_at  campaign_var_1  campaign_var_2  products_purchased  \\\n",
       "0  39162  2022-01-01               2               2                 NaN   \n",
       "1  39163  2022-01-01               4               7                 3.0   \n",
       "2  39164  2022-01-01               8               7                 NaN   \n",
       "3  39165  2022-01-01               9               8                 2.0   \n",
       "4  39166  2022-01-01               4               5                 2.0   \n",
       "\n",
       "  signup_date  user_activity_var_1  user_activity_var_2  user_activity_var_3  \\\n",
       "0  2021-08-17                    1                    1                    0   \n",
       "1  2020-05-21                    1                    0                    0   \n",
       "2         NaN                    0                    0                    0   \n",
       "3  2020-06-22                    0                    0                    0   \n",
       "4  2021-03-10                    1                    0                    0   \n",
       "\n",
       "   user_activity_var_4  ...  user_activity_var_6  user_activity_var_7  \\\n",
       "0                    0  ...                    1                    0   \n",
       "1                    0  ...                    0                    0   \n",
       "2                    0  ...                    1                    0   \n",
       "3                    0  ...                    1                    1   \n",
       "4                    0  ...                    0                    0   \n",
       "\n",
       "   user_activity_var_8  user_activity_var_9  user_activity_var_10  \\\n",
       "0                    0                    0                     0   \n",
       "1                    1                    0                     0   \n",
       "2                    0                    0                     0   \n",
       "3                    0                    0                     0   \n",
       "4                    0                    0                     0   \n",
       "\n",
       "   user_activity_var_11  user_activity_var_12  signup_day  signup_month  \\\n",
       "0                     1                     0        17.0           8.0   \n",
       "1                     0                     0        21.0           5.0   \n",
       "2                     0                     0         NaN           NaN   \n",
       "3                     2                     0        22.0           6.0   \n",
       "4                     0                     0        10.0           3.0   \n",
       "\n",
       "   signup_year  \n",
       "0       2021.0  \n",
       "1       2020.0  \n",
       "2          NaN  \n",
       "3       2020.0  \n",
       "4       2021.0  \n",
       "\n",
       "[5 rows x 21 columns]"
      ]
     },
     "execution_count": 27,
     "metadata": {},
     "output_type": "execute_result"
    }
   ],
   "source": [
    "test_copy1.head()"
   ]
  },
  {
   "cell_type": "code",
   "execution_count": 452,
   "id": "d4330339",
   "metadata": {},
   "outputs": [
    {
     "data": {
      "text/plain": [
       "3"
      ]
     },
     "execution_count": 452,
     "metadata": {},
     "output_type": "execute_result"
    }
   ],
   "source": [
    "len(test_copy1['created_at_month'].unique())"
   ]
  },
  {
   "cell_type": "code",
   "execution_count": 444,
   "id": "825cfeae",
   "metadata": {},
   "outputs": [
    {
     "data": {
      "text/plain": [
       "array([2022], dtype=int64)"
      ]
     },
     "execution_count": 444,
     "metadata": {},
     "output_type": "execute_result"
    }
   ],
   "source": [
    "test_copy1['created_at_year'].unique()"
   ]
  },
  {
   "cell_type": "code",
   "execution_count": 28,
   "id": "61236c69",
   "metadata": {},
   "outputs": [],
   "source": [
    "train_copy1['created_at_day']=pd.to_datetime(train_copy1['created_at']).dt.day\n",
    "train_copy1['created_at_month']=pd.to_datetime(train_copy1['created_at']).dt.month\n",
    "train_copy1['created_at_year']=pd.to_datetime(train_copy1['created_at']).dt.year"
   ]
  },
  {
   "cell_type": "code",
   "execution_count": 29,
   "id": "41c136bc",
   "metadata": {},
   "outputs": [],
   "source": [
    "test_copy1['created_at_day']=pd.to_datetime(test_copy1['created_at']).dt.day\n",
    "test_copy1['created_at_month']=pd.to_datetime(test_copy1['created_at']).dt.month\n",
    "test_copy1['created_at_year']=pd.to_datetime(test_copy1['created_at']).dt.year"
   ]
  },
  {
   "cell_type": "code",
   "execution_count": 471,
   "id": "2d1b84ed",
   "metadata": {},
   "outputs": [
    {
     "data": {
      "text/plain": [
       "array([2022], dtype=int64)"
      ]
     },
     "execution_count": 471,
     "metadata": {},
     "output_type": "execute_result"
    }
   ],
   "source": [
    "test_copy1['created_at_year'].unique()"
   ]
  },
  {
   "cell_type": "code",
   "execution_count": 30,
   "id": "e6b5ae7b",
   "metadata": {},
   "outputs": [
    {
     "data": {
      "text/plain": [
       "id                        int64\n",
       "created_at               object\n",
       "campaign_var_1            int64\n",
       "campaign_var_2            int64\n",
       "products_purchased      float64\n",
       "signup_date              object\n",
       "user_activity_var_1       int64\n",
       "user_activity_var_2       int64\n",
       "user_activity_var_3       int64\n",
       "user_activity_var_4       int64\n",
       "user_activity_var_5       int64\n",
       "user_activity_var_6       int64\n",
       "user_activity_var_7       int64\n",
       "user_activity_var_8       int64\n",
       "user_activity_var_9       int64\n",
       "user_activity_var_10      int64\n",
       "user_activity_var_11      int64\n",
       "user_activity_var_12      int64\n",
       "buy                       int64\n",
       "signup_day              float64\n",
       "signup_year             float64\n",
       "signup_month            float64\n",
       "created_at_day            int64\n",
       "created_at_month          int64\n",
       "created_at_year           int64\n",
       "dtype: object"
      ]
     },
     "execution_count": 30,
     "metadata": {},
     "output_type": "execute_result"
    }
   ],
   "source": [
    "train_copy1.dtypes"
   ]
  },
  {
   "cell_type": "code",
   "execution_count": 31,
   "id": "b680e1dd",
   "metadata": {},
   "outputs": [],
   "source": [
    "#lets create the train_copy 2 dataset and drop them from previous dataset"
   ]
  },
  {
   "cell_type": "code",
   "execution_count": 32,
   "id": "324d08d9",
   "metadata": {},
   "outputs": [
    {
     "data": {
      "text/plain": [
       "(39161, 25)"
      ]
     },
     "execution_count": 32,
     "metadata": {},
     "output_type": "execute_result"
    }
   ],
   "source": [
    "train_copy1.shape"
   ]
  },
  {
   "cell_type": "code",
   "execution_count": 33,
   "id": "cd9bbc5e",
   "metadata": {},
   "outputs": [
    {
     "data": {
      "text/plain": [
       "(13184, 24)"
      ]
     },
     "execution_count": 33,
     "metadata": {},
     "output_type": "execute_result"
    }
   ],
   "source": [
    "test_copy1.shape"
   ]
  },
  {
   "cell_type": "code",
   "execution_count": 34,
   "id": "37d6ece5",
   "metadata": {},
   "outputs": [],
   "source": [
    "train_copy2=train_copy1.drop(['signup_date','created_at'],axis=1)\n",
    "test_copy2=test_copy1.drop(['signup_date','created_at'],axis=1)"
   ]
  },
  {
   "cell_type": "code",
   "execution_count": 473,
   "id": "0b3edd53",
   "metadata": {},
   "outputs": [],
   "source": [
    "train_knn=train_copy2.copy()\n",
    "test_knn=test_copy2.copy()"
   ]
  },
  {
   "cell_type": "code",
   "execution_count": 35,
   "id": "9cb1d960",
   "metadata": {},
   "outputs": [],
   "source": [
    "imputer1 = IterativeImputer()\n",
    "# fit on the dataset\n",
    "train_imputed=imputer1.fit_transform(train_copy2.drop('buy',axis=1))\n",
    "# transform the dataset"
   ]
  },
  {
   "cell_type": "code",
   "execution_count": 36,
   "id": "edd1242e",
   "metadata": {},
   "outputs": [],
   "source": [
    "test_imputed = imputer1.transform(test_copy2)"
   ]
  },
  {
   "cell_type": "code",
   "execution_count": 477,
   "id": "d5a659da",
   "metadata": {},
   "outputs": [],
   "source": [
    "from  sklearn.neighbors import KNeighborsRegressor"
   ]
  },
  {
   "cell_type": "code",
   "execution_count": 478,
   "id": "83e334f8",
   "metadata": {},
   "outputs": [],
   "source": [
    "knn=KNeighborsRegressor()"
   ]
  },
  {
   "cell_type": "code",
   "execution_count": 479,
   "id": "4586399d",
   "metadata": {},
   "outputs": [],
   "source": [
    "imputer2 = IterativeImputer(estimator=knn)\n",
    "train_imputed2=imputer2.fit_transform(train_copy2.drop('buy',axis=1))"
   ]
  },
  {
   "cell_type": "code",
   "execution_count": 480,
   "id": "9bfcaf7d",
   "metadata": {},
   "outputs": [],
   "source": [
    "test_imputed2=imputer2.transform(test_copy2)"
   ]
  },
  {
   "cell_type": "code",
   "execution_count": 344,
   "id": "2dc18a3e",
   "metadata": {},
   "outputs": [],
   "source": [
    "train_copy3=pd.DataFrame(train_imputed,columns=train_copy2.drop('buy',axis=1).columns)\n",
    "test_copy3=pd.DataFrame(test_imputed,columns=test_copy2.columns)"
   ]
  },
  {
   "cell_type": "code",
   "execution_count": 382,
   "id": "66b80c9b",
   "metadata": {},
   "outputs": [],
   "source": [
    "train_copy3['buy']=train_copy2['buy']"
   ]
  },
  {
   "cell_type": "code",
   "execution_count": 481,
   "id": "5c102e5e",
   "metadata": {},
   "outputs": [],
   "source": [
    "train_knn=pd.DataFrame(train_imputed2,columns=train_copy2.drop('buy',axis=1).columns)\n",
    "test_knn=pd.DataFrame(test_imputed2,columns=test_copy2.columns)"
   ]
  },
  {
   "cell_type": "code",
   "execution_count": 482,
   "id": "e3bd5a50",
   "metadata": {},
   "outputs": [],
   "source": [
    "train_knn['buy']=train_copy2['buy']"
   ]
  },
  {
   "cell_type": "markdown",
   "id": "6807b97d",
   "metadata": {},
   "source": [
    "# Base Model - Logistic Regression "
   ]
  },
  {
   "cell_type": "code",
   "execution_count": 39,
   "id": "0e7de5bc",
   "metadata": {},
   "outputs": [],
   "source": [
    "def lr_output(x,y):\n",
    "   \n",
    "    xtrain,xtest,ytrain,ytest=train_test_split(x,y,random_state=2,test_size=0.25)\n",
    "   \n",
    "    lr=LogisticRegression(class_weight='balanced',penalty='l1',solver='liblinear')\n",
    "    lr.fit(xtrain, ytrain)\n",
    "    y_pred=lr.predict(xtest)\n",
    "    pred_train=lr.predict(xtrain)\n",
    "    print('confusion_matrix_test','\\n',confusion_matrix(ytest,y_pred),'\\n')\n",
    "    print('classification_report_test','\\n',classification_report(ytest,y_pred),'\\n')\n",
    "    print('confusion_matrix_train','\\n',confusion_matrix(ytrain,pred_train),'\\n')\n",
    "    print('classification_report_train','\\n',classification_report(ytrain,pred_train),'\\n')\n",
    "    print('roc_auc_score_train','\\n','roc_auc_score',roc_auc_score(ytrain,pred_train),'\\n')\n",
    "    print('roc_auc_score_test','\\n','roc_auc_score',roc_auc_score(ytest,y_pred),'\\n')"
   ]
  },
  {
   "cell_type": "code",
   "execution_count": 40,
   "id": "edbd408d",
   "metadata": {},
   "outputs": [],
   "source": [
    "#Above function gives all the report with respect to logistic_regression"
   ]
  },
  {
   "cell_type": "code",
   "execution_count": 383,
   "id": "5c0c0d44",
   "metadata": {},
   "outputs": [
    {
     "name": "stdout",
     "output_type": "stream",
     "text": [
      "confusion_matrix_test \n",
      " [[8019 1275]\n",
      " [  98  399]] \n",
      "\n",
      "classification_report_test \n",
      "               precision    recall  f1-score   support\n",
      "\n",
      "           0       0.99      0.86      0.92      9294\n",
      "           1       0.24      0.80      0.37       497\n",
      "\n",
      "    accuracy                           0.86      9791\n",
      "   macro avg       0.61      0.83      0.64      9791\n",
      "weighted avg       0.95      0.86      0.89      9791\n",
      " \n",
      "\n",
      "confusion_matrix_train \n",
      " [[24147  3722]\n",
      " [  292  1209]] \n",
      "\n",
      "classification_report_train \n",
      "               precision    recall  f1-score   support\n",
      "\n",
      "           0       0.99      0.87      0.92     27869\n",
      "           1       0.25      0.81      0.38      1501\n",
      "\n",
      "    accuracy                           0.86     29370\n",
      "   macro avg       0.62      0.84      0.65     29370\n",
      "weighted avg       0.95      0.86      0.90     29370\n",
      " \n",
      "\n",
      "roc_auc_score_train \n",
      " roc_auc_score 0.8359548070253211 \n",
      "\n",
      "roc_auc_score_test \n",
      " roc_auc_score 0.8328158102910556 \n",
      "\n"
     ]
    }
   ],
   "source": [
    "x=train_copy3.drop('buy',axis=1)\n",
    "y=train_copy3['buy']\n",
    "lr_output(x,y)"
   ]
  },
  {
   "cell_type": "code",
   "execution_count": 42,
   "id": "cb8b4cdf",
   "metadata": {},
   "outputs": [],
   "source": [
    "def rfc_output(x,y):\n",
    "   \n",
    "    xtrain,xtest,ytrain,ytest=train_test_split(x,y,random_state=2,test_size=0.25)\n",
    "    \n",
    "    rf=RandomForestClassifier(class_weight='balanced_subsample')\n",
    "    rf.fit(xtrain, ytrain)\n",
    "    y_pred=rf.predict(xtest)\n",
    "    pred_train=rf.predict(xtrain)\n",
    "    print('confusion_matrix_test','\\n',confusion_matrix(ytest,y_pred),'\\n')\n",
    "    print('classification_report_test','\\n',classification_report(ytest,y_pred),'\\n')\n",
    "    print('confusion_matrix_train','\\n',confusion_matrix(ytrain,pred_train),'\\n')\n",
    "    print('classification_report_train','\\n',classification_report(ytrain,pred_train),'\\n')\n",
    "    print('roc_auc_score_train','\\n','roc_auc_score',roc_auc_score(ytrain,pred_train),'\\n')\n",
    "    print('roc_auc_score_test','\\n','roc_auc_score',roc_auc_score(ytest,y_pred),'\\n')"
   ]
  },
  {
   "cell_type": "code",
   "execution_count": 43,
   "id": "33b9be04",
   "metadata": {},
   "outputs": [
    {
     "name": "stdout",
     "output_type": "stream",
     "text": [
      "confusion_matrix_test \n",
      " [[9283   11]\n",
      " [ 229  268]] \n",
      "\n",
      "classification_report_test \n",
      "               precision    recall  f1-score   support\n",
      "\n",
      "           0       0.98      1.00      0.99      9294\n",
      "           1       0.96      0.54      0.69       497\n",
      "\n",
      "    accuracy                           0.98      9791\n",
      "   macro avg       0.97      0.77      0.84      9791\n",
      "weighted avg       0.98      0.98      0.97      9791\n",
      " \n",
      "\n",
      "confusion_matrix_train \n",
      " [[27869     0]\n",
      " [    0  1501]] \n",
      "\n",
      "classification_report_train \n",
      "               precision    recall  f1-score   support\n",
      "\n",
      "           0       1.00      1.00      1.00     27869\n",
      "           1       1.00      1.00      1.00      1501\n",
      "\n",
      "    accuracy                           1.00     29370\n",
      "   macro avg       1.00      1.00      1.00     29370\n",
      "weighted avg       1.00      1.00      1.00     29370\n",
      " \n",
      "\n",
      "roc_auc_score_train \n",
      " roc_auc_score 1.0 \n",
      "\n",
      "roc_auc_score_test \n",
      " roc_auc_score 0.7690259265946442 \n",
      "\n"
     ]
    }
   ],
   "source": [
    "rfc_output(x,y)"
   ]
  },
  {
   "cell_type": "code",
   "execution_count": 44,
   "id": "12e22368",
   "metadata": {},
   "outputs": [],
   "source": [
    "rf1=RandomForestClassifier(class_weight='balanced_subsample')\n",
    "rf1.fit(x, y)\n",
    "y_pred1=rf1.predict(test_copy3)\n"
   ]
  },
  {
   "cell_type": "code",
   "execution_count": 45,
   "id": "125d0bb1",
   "metadata": {},
   "outputs": [],
   "source": [
    "sub_1=pd.read_csv('~/documents/job_a_thon/sample_submission.csv')\n",
    "sub_1['buy']=y_pred1\n",
    "sub_1.to_csv('sub_1.csv',index=False)"
   ]
  },
  {
   "cell_type": "code",
   "execution_count": 46,
   "id": "4c571bd7",
   "metadata": {},
   "outputs": [],
   "source": [
    "#This gave highest f1 of around 0.73 by now."
   ]
  },
  {
   "cell_type": "markdown",
   "id": "153c46b0",
   "metadata": {},
   "source": [
    "# "
   ]
  },
  {
   "cell_type": "code",
   "execution_count": 47,
   "id": "e59cbadf",
   "metadata": {},
   "outputs": [],
   "source": [
    "def dt_output(x,y):\n",
    "    \n",
    "    dt=DecisionTreeClassifier(class_weight='balanced',criterion='entropy',max_depth=25)\n",
    "    \n",
    "    \n",
    "    output_cross=cross_validate(estimator=dt,X=x,y=y,cv=8,scoring='f1',return_train_score=True)\n",
    "    output_cross_df=pd.DataFrame({'Train_score':output_cross['train_score'],'Test_score':output_cross['test_score']})\n",
    "    print('train_mean',output_cross_df['Train_score'].mean())\n",
    "    print('train_std',output_cross_df['Train_score'].std())\n",
    "    print('test_mean',output_cross_df['Test_score'].mean())\n",
    "    print('test_std',output_cross_df['Test_score'].std())\n",
    "    \n",
    "    xtrain,xtest,ytrain,ytest=train_test_split(x,y,random_state=2,test_size=0.25)\n",
    "    xtrain_final=xtrain\n",
    "    xtest_final=xtest\n",
    "  \n",
    "    dt.fit(xtrain_final, ytrain)\n",
    "    y_pred=dt.predict(xtest_final)\n",
    "    pred_train=dt.predict(xtrain_final)\n",
    "    print('confusion_matrix_test','\\n',confusion_matrix(ytest,y_pred),'\\n')\n",
    "    print('classification_report_test','\\n',classification_report(ytest,y_pred),'\\n')\n",
    "    print('confusion_matrix_train','\\n',confusion_matrix(ytrain,pred_train),'\\n')\n",
    "    print('classification_report_train','\\n',classification_report(ytrain,pred_train),'\\n')\n",
    "    print('roc_auc_score_train','\\n','roc_auc_score',roc_auc_score(ytrain,pred_train),'\\n')\n",
    "    print('roc_auc_score_test','\\n','roc_auc_score',roc_auc_score(ytest,y_pred),'\\n')"
   ]
  },
  {
   "cell_type": "code",
   "execution_count": 48,
   "id": "0c201843",
   "metadata": {},
   "outputs": [
    {
     "name": "stdout",
     "output_type": "stream",
     "text": [
      "train_mean 0.8502652913802516\n",
      "train_std 0.04564742181490849\n",
      "test_mean 0.44600425741066985\n",
      "test_std 0.13735624116118283\n",
      "confusion_matrix_test \n",
      " [[8927  367]\n",
      " [ 180  317]] \n",
      "\n",
      "classification_report_test \n",
      "               precision    recall  f1-score   support\n",
      "\n",
      "           0       0.98      0.96      0.97      9294\n",
      "           1       0.46      0.64      0.54       497\n",
      "\n",
      "    accuracy                           0.94      9791\n",
      "   macro avg       0.72      0.80      0.75      9791\n",
      "weighted avg       0.95      0.94      0.95      9791\n",
      " \n",
      "\n",
      "confusion_matrix_train \n",
      " [[27432   437]\n",
      " [    3  1498]] \n",
      "\n",
      "classification_report_train \n",
      "               precision    recall  f1-score   support\n",
      "\n",
      "           0       1.00      0.98      0.99     27869\n",
      "           1       0.77      1.00      0.87      1501\n",
      "\n",
      "    accuracy                           0.99     29370\n",
      "   macro avg       0.89      0.99      0.93     29370\n",
      "weighted avg       0.99      0.99      0.99     29370\n",
      " \n",
      "\n",
      "roc_auc_score_train \n",
      " roc_auc_score 0.9911604136120911 \n",
      "\n",
      "roc_auc_score_test \n",
      " roc_auc_score 0.7991695600761876 \n",
      "\n"
     ]
    }
   ],
   "source": [
    "dt_output(x,y)"
   ]
  },
  {
   "cell_type": "code",
   "execution_count": 49,
   "id": "a40a20e9",
   "metadata": {},
   "outputs": [],
   "source": [
    "#In the below iterations different variations of xgboost is tried."
   ]
  },
  {
   "cell_type": "code",
   "execution_count": 50,
   "id": "e30dabd8",
   "metadata": {},
   "outputs": [],
   "source": [
    "xtrain,xtest,ytrain,ytest=train_test_split(x,y,random_state=2,test_size=0.25)"
   ]
  },
  {
   "cell_type": "code",
   "execution_count": 51,
   "id": "78e650e0",
   "metadata": {},
   "outputs": [
    {
     "data": {
      "text/plain": [
       "(29370, 22)"
      ]
     },
     "execution_count": 51,
     "metadata": {},
     "output_type": "execute_result"
    }
   ],
   "source": [
    "xtrain.shape"
   ]
  },
  {
   "cell_type": "code",
   "execution_count": 52,
   "id": "d4960125",
   "metadata": {},
   "outputs": [
    {
     "data": {
      "text/plain": [
       "(29370,)"
      ]
     },
     "execution_count": 52,
     "metadata": {},
     "output_type": "execute_result"
    }
   ],
   "source": [
    "ytrain.shape"
   ]
  },
  {
   "cell_type": "code",
   "execution_count": 53,
   "id": "52bca34e",
   "metadata": {},
   "outputs": [],
   "source": [
    "xgb_classifier=XGBClassifier()"
   ]
  },
  {
   "cell_type": "code",
   "execution_count": 54,
   "id": "8cebf3ee",
   "metadata": {},
   "outputs": [],
   "source": [
    "from sklearn.utils import class_weight\n",
    "weight=len(y[y==0])/len(y[y==1])\n"
   ]
  },
  {
   "cell_type": "code",
   "execution_count": 55,
   "id": "87b04148",
   "metadata": {},
   "outputs": [
    {
     "data": {
      "text/plain": [
       "37163"
      ]
     },
     "execution_count": 55,
     "metadata": {},
     "output_type": "execute_result"
    }
   ],
   "source": [
    "len(y[y==0])"
   ]
  },
  {
   "cell_type": "code",
   "execution_count": 56,
   "id": "681e4b57",
   "metadata": {},
   "outputs": [
    {
     "data": {
      "text/plain": [
       "1998"
      ]
     },
     "execution_count": 56,
     "metadata": {},
     "output_type": "execute_result"
    }
   ],
   "source": [
    "len(y[y==1])"
   ]
  },
  {
   "cell_type": "code",
   "execution_count": 57,
   "id": "1467e9ab",
   "metadata": {},
   "outputs": [
    {
     "data": {
      "text/plain": [
       "18.6001001001001"
      ]
     },
     "execution_count": 57,
     "metadata": {},
     "output_type": "execute_result"
    }
   ],
   "source": [
    "weight"
   ]
  },
  {
   "cell_type": "code",
   "execution_count": 58,
   "id": "66294635",
   "metadata": {},
   "outputs": [],
   "source": [
    "xgb=XGBClassifier(scale_pos_weight=weight)"
   ]
  },
  {
   "cell_type": "code",
   "execution_count": 59,
   "id": "6ebd1759",
   "metadata": {},
   "outputs": [
    {
     "name": "stdout",
     "output_type": "stream",
     "text": [
      "[19:42:11] WARNING: C:/Users/Administrator/workspace/xgboost-win64_release_1.5.1/src/learner.cc:1115: Starting in XGBoost 1.3.0, the default evaluation metric used with the objective 'binary:logistic' was changed from 'error' to 'logloss'. Explicitly set eval_metric if you'd like to restore the old behavior.\n"
     ]
    },
    {
     "data": {
      "text/plain": [
       "XGBClassifier(base_score=0.5, booster='gbtree', colsample_bylevel=1,\n",
       "              colsample_bynode=1, colsample_bytree=1, enable_categorical=False,\n",
       "              gamma=0, gpu_id=-1, importance_type=None,\n",
       "              interaction_constraints='', learning_rate=0.300000012,\n",
       "              max_delta_step=0, max_depth=6, min_child_weight=1, missing=nan,\n",
       "              monotone_constraints='()', n_estimators=100, n_jobs=4,\n",
       "              num_parallel_tree=1, predictor='auto', random_state=0,\n",
       "              reg_alpha=0, reg_lambda=1, scale_pos_weight=18.6001001001001,\n",
       "              subsample=1, tree_method='exact', validate_parameters=1,\n",
       "              verbosity=None)"
      ]
     },
     "execution_count": 59,
     "metadata": {},
     "output_type": "execute_result"
    }
   ],
   "source": [
    "xgb.fit(x,y)"
   ]
  },
  {
   "cell_type": "code",
   "execution_count": 60,
   "id": "d89d1748",
   "metadata": {},
   "outputs": [],
   "source": [
    "y_pred2=xgb.predict(test_copy3)"
   ]
  },
  {
   "cell_type": "code",
   "execution_count": 61,
   "id": "6a064248",
   "metadata": {},
   "outputs": [],
   "source": [
    "sub_2=pd.read_csv('~/documents/job_a_thon/sample_submission.csv')\n",
    "sub_2['buy']=y_pred2\n",
    "sub_2.to_csv('sub_2.csv',index=False)"
   ]
  },
  {
   "cell_type": "code",
   "execution_count": 62,
   "id": "02204579",
   "metadata": {},
   "outputs": [],
   "source": [
    "#f1 score received is around 0.42."
   ]
  },
  {
   "cell_type": "code",
   "execution_count": 63,
   "id": "8fb464a0",
   "metadata": {},
   "outputs": [
    {
     "name": "stdout",
     "output_type": "stream",
     "text": [
      "[19:42:15] WARNING: C:/Users/Administrator/workspace/xgboost-win64_release_1.5.1/src/learner.cc:1115: Starting in XGBoost 1.3.0, the default evaluation metric used with the objective 'binary:logistic' was changed from 'error' to 'logloss'. Explicitly set eval_metric if you'd like to restore the old behavior.\n"
     ]
    }
   ],
   "source": [
    "xgb2=XGBClassifier()\n",
    "xgb2.fit(x,y)\n",
    "y_pred3=xgb2.predict(test_copy3)"
   ]
  },
  {
   "cell_type": "code",
   "execution_count": 64,
   "id": "e1c04c36",
   "metadata": {},
   "outputs": [],
   "source": [
    "sub_3=pd.read_csv('~/documents/job_a_thon/sample_submission.csv')\n",
    "sub_3['buy']=y_pred3\n",
    "sub_3.to_csv('sub_3.csv',index=False)"
   ]
  },
  {
   "cell_type": "code",
   "execution_count": 65,
   "id": "32df3c94",
   "metadata": {},
   "outputs": [
    {
     "name": "stdout",
     "output_type": "stream",
     "text": [
      "[19:42:18] WARNING: C:/Users/Administrator/workspace/xgboost-win64_release_1.5.1/src/learner.cc:1115: Starting in XGBoost 1.3.0, the default evaluation metric used with the objective 'binary:logistic' was changed from 'error' to 'logloss'. Explicitly set eval_metric if you'd like to restore the old behavior.\n"
     ]
    }
   ],
   "source": [
    "weight2=len(y[y==1])/len(y[y==0])\n",
    "xgb3=XGBClassifier(scale_pos_weight=weight2)\n",
    "xgb3.fit(x,y)\n",
    "y_pred4=xgb2.predict(test_copy3)"
   ]
  },
  {
   "cell_type": "code",
   "execution_count": 66,
   "id": "8020dcb6",
   "metadata": {},
   "outputs": [],
   "source": [
    "sub_4=pd.read_csv('~/documents/job_a_thon/sample_submission.csv')\n",
    "sub_4['buy']=y_pred4\n",
    "sub_4.to_csv('sub_4.csv',index=False)"
   ]
  },
  {
   "cell_type": "code",
   "execution_count": 67,
   "id": "ddf6eb13",
   "metadata": {},
   "outputs": [],
   "source": [
    "#Tried different ways no improvement in xgb classifier"
   ]
  },
  {
   "cell_type": "code",
   "execution_count": 68,
   "id": "b55aa787",
   "metadata": {},
   "outputs": [],
   "source": [
    "#lets try adjusting weights of random forest classifier"
   ]
  },
  {
   "cell_type": "code",
   "execution_count": 335,
   "id": "1f730cac",
   "metadata": {},
   "outputs": [
    {
     "name": "stdout",
     "output_type": "stream",
     "text": [
      "Fitting 5 folds for each of 100 candidates, totalling 500 fits\n"
     ]
    },
    {
     "data": {
      "text/plain": [
       "GridSearchCV(cv=StratifiedKFold(n_splits=5, random_state=None, shuffle=False),\n",
       "             estimator=LogisticRegression(solver='newton-cg'), n_jobs=-1,\n",
       "             param_grid={'class_weight': [{0: 0.0, 1: 1.0}, {0: 0.01, 1: 0.99},\n",
       "                                          {0: 0.02, 1: 0.98},\n",
       "                                          {0: 0.03, 1: 0.97},\n",
       "                                          {0: 0.04, 1: 0.96},\n",
       "                                          {0: 0.05, 1: 0.95},\n",
       "                                          {0: 0.06, 1: 0.94},\n",
       "                                          {0: 0.07, 1: 0.9299999999999999},\n",
       "                                          {0: 0.08, 1: 0.92},\n",
       "                                          {0: 0.09, 1: 0.91}, {0: 0.1, 1: 0.9},\n",
       "                                          {0: 0.11, 1: 0.89},\n",
       "                                          {0: 0.12, 1: 0.88},\n",
       "                                          {0: 0.13, 1: 0.87},\n",
       "                                          {0: 0.14, 1: 0.86},\n",
       "                                          {0: 0.15, 1: 0.85},\n",
       "                                          {0: 0.16, 1: 0.84},\n",
       "                                          {0: 0.17, 1: 0.83},\n",
       "                                          {0: 0.18, 1: 0.8200000000000001},\n",
       "                                          {0: 0.19, 1: 0.81}, {0: 0.2, 1: 0.8},\n",
       "                                          {0: 0.21, 1: 0.79},\n",
       "                                          {0: 0.22, 1: 0.78},\n",
       "                                          {0: 0.23, 1: 0.77},\n",
       "                                          {0: 0.24, 1: 0.76},\n",
       "                                          {0: 0.25, 1: 0.75},\n",
       "                                          {0: 0.26, 1: 0.74},\n",
       "                                          {0: 0.27, 1: 0.73},\n",
       "                                          {0: 0.28, 1: 0.72},\n",
       "                                          {0: 0.29, 1: 0.71}, ...]},\n",
       "             scoring='f1', verbose=2)"
      ]
     },
     "execution_count": 335,
     "metadata": {},
     "output_type": "execute_result"
    }
   ],
   "source": [
    "from sklearn.model_selection import GridSearchCV, StratifiedKFold\n",
    "lr = LogisticRegression(solver='newton-cg')\n",
    "\n",
    "#Setting the range for class weights\n",
    "weights1 = np.linspace(0.0,0.99,100)\n",
    "\n",
    "#Creating a dictionary grid for grid search\n",
    "param_grid1 = {'class_weight': [{0:x, 1:1.0-x} for x in weights1]}\n",
    "\n",
    "#Fitting grid search to the train data with 5 folds\n",
    "gridsearch1 = GridSearchCV(estimator= lr, \n",
    "                          param_grid= param_grid1,\n",
    "                          cv=StratifiedKFold(), \n",
    "                          n_jobs=-1, \n",
    "                          scoring='f1', \n",
    "                          verbose=2)\n",
    "gridsearch1.fit(x,y)\n"
   ]
  },
  {
   "cell_type": "code",
   "execution_count": 339,
   "id": "dca2fca1",
   "metadata": {},
   "outputs": [
    {
     "data": {
      "text/plain": [
       "Text(0.5, 1.0, 'Scoring for different class weights')"
      ]
     },
     "execution_count": 339,
     "metadata": {},
     "output_type": "execute_result"
    },
    {
     "data": {
      "image/png": "[encoded data removed]",
      "text/plain": [
       "<Figure size 864x576 with 1 Axes>"
      ]
     },
     "metadata": {},
     "output_type": "display_data"
    }
   ],
   "source": [
    "#Ploting the score for different values of weight\n",
    "sns.set_style('whitegrid')\n",
    "plt.figure(figsize=(12,8))\n",
    "weigh_data = pd.DataFrame({ 'score': gridsearch1.cv_results_['mean_test_score'], 'weight': (1- weights)})\n",
    "sns.lineplot(weigh_data['weight'], weigh_data['score'])\n",
    "plt.xlabel('Weight for class 1')\n",
    "plt.ylabel('F1 score')\n",
    "plt.xticks([round(i/10,1) for i in range(0,11,1)])\n",
    "plt.title('Scoring for different class weights', fontsize=24)"
   ]
  },
  {
   "cell_type": "code",
   "execution_count": null,
   "id": "98ad1922",
   "metadata": {},
   "outputs": [],
   "source": [
    "#In this graph we can see the optimum class weight to achieve good f1 in logistic. Same can be done  in Random Forest"
   ]
  },
  {
   "cell_type": "code",
   "execution_count": 70,
   "id": "d7259fbb",
   "metadata": {},
   "outputs": [
    {
     "name": "stdout",
     "output_type": "stream",
     "text": [
      "confusion_matrix_test \n",
      " [[7418   12]\n",
      " [ 174  229]] \n",
      "\n",
      "classification_report_test \n",
      "               precision    recall  f1-score   support\n",
      "\n",
      "           0       0.98      1.00      0.99      7430\n",
      "           1       0.95      0.57      0.71       403\n",
      "\n",
      "    accuracy                           0.98      7833\n",
      "   macro avg       0.96      0.78      0.85      7833\n",
      "weighted avg       0.98      0.98      0.97      7833\n",
      " \n",
      "\n",
      "confusion_matrix_train \n",
      " [[29733     0]\n",
      " [    0  1595]] \n",
      "\n",
      "classification_report_train \n",
      "               precision    recall  f1-score   support\n",
      "\n",
      "           0       1.00      1.00      1.00     29733\n",
      "           1       1.00      1.00      1.00      1595\n",
      "\n",
      "    accuracy                           1.00     31328\n",
      "   macro avg       1.00      1.00      1.00     31328\n",
      "weighted avg       1.00      1.00      1.00     31328\n",
      " \n",
      "\n",
      "roc_auc_score_train \n",
      " roc_auc_score 1.0 \n",
      "\n",
      "roc_auc_score_test \n",
      " roc_auc_score 0.7833115696876388 \n",
      "\n"
     ]
    }
   ],
   "source": [
    "xtrain1,xtest1,ytrain1,ytest1=train_test_split(x,y,random_state=42,test_size=0.20)\n",
    "rf1=RandomForestClassifier(class_weight='balanced_subsample',random_state=42)\n",
    "rf1.fit(xtrain1, ytrain1)\n",
    "y_pred1=rf1.predict(xtest1)\n",
    "pred_train1=rf1.predict(xtrain1)\n",
    "print('confusion_matrix_test','\\n',confusion_matrix(ytest1,y_pred1),'\\n')\n",
    "print('classification_report_test','\\n',classification_report(ytest1,y_pred1),'\\n')\n",
    "print('confusion_matrix_train','\\n',confusion_matrix(ytrain1,pred_train1),'\\n')\n",
    "print('classification_report_train','\\n',classification_report(ytrain1,pred_train1),'\\n')\n",
    "print('roc_auc_score_train','\\n','roc_auc_score',roc_auc_score(ytrain1,pred_train1),'\\n')\n",
    "print('roc_auc_score_test','\\n','roc_auc_score',roc_auc_score(ytest1,y_pred1),'\\n')"
   ]
  },
  {
   "cell_type": "code",
   "execution_count": 71,
   "id": "f248ef7e",
   "metadata": {},
   "outputs": [],
   "source": [
    "y_pred3=rf1.fit(x,y).predict(test_copy3)\n",
    "sub_5=pd.read_csv('~/documents/job_a_thon/sample_submission.csv')\n",
    "sub_5['buy']=y_pred3\n",
    "sub_5.to_csv('sub_5.csv',index=False)"
   ]
  },
  {
   "cell_type": "code",
   "execution_count": 72,
   "id": "4260ab95",
   "metadata": {},
   "outputs": [],
   "source": [
    "from sklearn.naive_bayes import GaussianNB\n",
    "classifier = GaussianNB()\n",
    "classifier.fit(xtrain1, ytrain1)\n",
    "#Let’s predict the test results\n",
    "y_pred4  =  classifier.predict(xtest1)"
   ]
  },
  {
   "cell_type": "code",
   "execution_count": 73,
   "id": "f9a8d2c3",
   "metadata": {},
   "outputs": [
    {
     "name": "stdout",
     "output_type": "stream",
     "text": [
      "confusion_matrix_test \n",
      " [[7410   20]\n",
      " [ 268  135]] \n",
      "\n",
      "classification_report_test \n",
      "               precision    recall  f1-score   support\n",
      "\n",
      "           0       0.97      1.00      0.98      7430\n",
      "           1       0.87      0.33      0.48       403\n",
      "\n",
      "    accuracy                           0.96      7833\n",
      "   macro avg       0.92      0.67      0.73      7833\n",
      "weighted avg       0.96      0.96      0.96      7833\n",
      " \n",
      "\n",
      "confusion_matrix_train \n",
      " [[29627   106]\n",
      " [ 1074   521]] \n",
      "\n",
      "classification_report_train \n",
      "               precision    recall  f1-score   support\n",
      "\n",
      "           0       0.97      1.00      0.98     29733\n",
      "           1       0.83      0.33      0.47      1595\n",
      "\n",
      "    accuracy                           0.96     31328\n",
      "   macro avg       0.90      0.66      0.72     31328\n",
      "weighted avg       0.96      0.96      0.95     31328\n",
      " \n",
      "\n",
      "roc_auc_score_train \n",
      " roc_auc_score 0.6615403528182432 \n",
      "\n",
      "roc_auc_score_test \n",
      " roc_auc_score 0.666147901505866 \n",
      "\n"
     ]
    }
   ],
   "source": [
    "pred_train4=classifier.predict(xtrain1)\n",
    "print('confusion_matrix_test','\\n',confusion_matrix(ytest1,y_pred4),'\\n')\n",
    "print('classification_report_test','\\n',classification_report(ytest1,y_pred4),'\\n')\n",
    "print('confusion_matrix_train','\\n',confusion_matrix(ytrain1,pred_train4),'\\n')\n",
    "print('classification_report_train','\\n',classification_report(ytrain1,pred_train4),'\\n')\n",
    "print('roc_auc_score_train','\\n','roc_auc_score',roc_auc_score(ytrain1,pred_train4),'\\n')\n",
    "print('roc_auc_score_test','\\n','roc_auc_score',roc_auc_score(ytest1,y_pred4),'\\n')"
   ]
  },
  {
   "cell_type": "code",
   "execution_count": 74,
   "id": "7535b994",
   "metadata": {},
   "outputs": [],
   "source": [
    "from sklearn.neighbors import KNeighborsClassifier"
   ]
  },
  {
   "cell_type": "code",
   "execution_count": 75,
   "id": "833ebb7f",
   "metadata": {},
   "outputs": [
    {
     "name": "stdout",
     "output_type": "stream",
     "text": [
      "confusion_matrix_test \n",
      " [[7374   56]\n",
      " [ 401    2]] \n",
      "\n",
      "classification_report_test \n",
      "               precision    recall  f1-score   support\n",
      "\n",
      "           0       0.95      0.99      0.97      7430\n",
      "           1       0.03      0.00      0.01       403\n",
      "\n",
      "    accuracy                           0.94      7833\n",
      "   macro avg       0.49      0.50      0.49      7833\n",
      "weighted avg       0.90      0.94      0.92      7833\n",
      " \n",
      "\n",
      "confusion_matrix_train \n",
      " [[29683    50]\n",
      " [ 1409   186]] \n",
      "\n",
      "classification_report_train \n",
      "               precision    recall  f1-score   support\n",
      "\n",
      "           0       0.95      1.00      0.98     29733\n",
      "           1       0.79      0.12      0.20      1595\n",
      "\n",
      "    accuracy                           0.95     31328\n",
      "   macro avg       0.87      0.56      0.59     31328\n",
      "weighted avg       0.95      0.95      0.94     31328\n",
      " \n",
      "\n",
      "roc_auc_score_train \n",
      " roc_auc_score 0.5574663934302649 \n",
      "\n",
      "roc_auc_score_test \n",
      " roc_auc_score 0.49871288352163623 \n",
      "\n"
     ]
    }
   ],
   "source": [
    "knn=KNeighborsClassifier(n_neighbors=3) \n",
    "knn.fit(xtrain1,ytrain1)\n",
    "y_pred5=knn.predict(xtest1)\n",
    "pred_train5=knn.predict(xtrain1)\n",
    "print('confusion_matrix_test','\\n',confusion_matrix(ytest1,y_pred5),'\\n')\n",
    "print('classification_report_test','\\n',classification_report(ytest1,y_pred5),'\\n')\n",
    "print('confusion_matrix_train','\\n',confusion_matrix(ytrain1,pred_train5),'\\n')\n",
    "print('classification_report_train','\\n',classification_report(ytrain1,pred_train5),'\\n')\n",
    "print('roc_auc_score_train','\\n','roc_auc_score',roc_auc_score(ytrain1,pred_train5),'\\n')\n",
    "print('roc_auc_score_test','\\n','roc_auc_score',roc_auc_score(ytest1,y_pred5),'\\n')"
   ]
  },
  {
   "cell_type": "code",
   "execution_count": 76,
   "id": "cfeb77bd",
   "metadata": {},
   "outputs": [
    {
     "name": "stdout",
     "output_type": "stream",
     "text": [
      "confusion_matrix_test \n",
      " [[7417   13]\n",
      " [ 173  230]] \n",
      "\n",
      "classification_report_test \n",
      "               precision    recall  f1-score   support\n",
      "\n",
      "           0       0.98      1.00      0.99      7430\n",
      "           1       0.95      0.57      0.71       403\n",
      "\n",
      "    accuracy                           0.98      7833\n",
      "   macro avg       0.96      0.78      0.85      7833\n",
      "weighted avg       0.98      0.98      0.97      7833\n",
      " \n",
      "\n",
      "confusion_matrix_train \n",
      " [[29733     0]\n",
      " [    1  1594]] \n",
      "\n",
      "classification_report_train \n",
      "               precision    recall  f1-score   support\n",
      "\n",
      "           0       1.00      1.00      1.00     29733\n",
      "           1       1.00      1.00      1.00      1595\n",
      "\n",
      "    accuracy                           1.00     31328\n",
      "   macro avg       1.00      1.00      1.00     31328\n",
      "weighted avg       1.00      1.00      1.00     31328\n",
      " \n",
      "\n",
      "roc_auc_score_train \n",
      " roc_auc_score 0.9996865203761756 \n",
      "\n",
      "roc_auc_score_test \n",
      " roc_auc_score 0.7844849697257112 \n",
      "\n"
     ]
    }
   ],
   "source": [
    "rf2=RandomForestClassifier(class_weight='balanced',random_state=2)\n",
    "rf2.fit(xtrain1, ytrain1)\n",
    "y_pred6=rf2.predict(xtest1)\n",
    "pred_train6=rf1.predict(xtrain1)\n",
    "print('confusion_matrix_test','\\n',confusion_matrix(ytest1,y_pred6),'\\n')\n",
    "print('classification_report_test','\\n',classification_report(ytest1,y_pred6),'\\n')\n",
    "print('confusion_matrix_train','\\n',confusion_matrix(ytrain1,pred_train6),'\\n')\n",
    "print('classification_report_train','\\n',classification_report(ytrain1,pred_train6),'\\n')\n",
    "print('roc_auc_score_train','\\n','roc_auc_score',roc_auc_score(ytrain1,pred_train6),'\\n')\n",
    "print('roc_auc_score_test','\\n','roc_auc_score',roc_auc_score(ytest1,y_pred6),'\\n')"
   ]
  },
  {
   "cell_type": "code",
   "execution_count": 77,
   "id": "4c982be1",
   "metadata": {},
   "outputs": [],
   "source": [
    "y_pred_6=rf2.predict(test_copy3)\n",
    "sub_6=pd.read_csv('~/documents/job_a_thon/sample_submission.csv')\n",
    "sub_6['buy']=y_pred_6\n",
    "sub_6.to_csv('sub_6.csv',index=False)"
   ]
  },
  {
   "cell_type": "code",
   "execution_count": 78,
   "id": "7f84cc0b",
   "metadata": {},
   "outputs": [],
   "source": [
    "#Lets apply logistic after scaling and transformation"
   ]
  },
  {
   "cell_type": "code",
   "execution_count": 79,
   "id": "3fbba164",
   "metadata": {},
   "outputs": [],
   "source": [
    "#before transforming lets create copy"
   ]
  },
  {
   "cell_type": "code",
   "execution_count": 80,
   "id": "87c7c841",
   "metadata": {},
   "outputs": [],
   "source": [
    "train_copy4=train_copy3.copy()\n",
    "test_copy4=test_copy3.copy()"
   ]
  },
  {
   "cell_type": "code",
   "execution_count": 81,
   "id": "30698f07",
   "metadata": {},
   "outputs": [],
   "source": [
    "from sklearn.preprocessing import StandardScaler,PowerTransformer\n",
    "sc=StandardScaler()\n",
    "pt=PowerTransformer()\n",
    "scaled_train=sc.fit_transform(train_copy4.drop('buy',axis=1))\n",
    "scaled_test=sc.transform(test_copy4)\n",
    "transformed_train=pt.fit_transform(scaled_train)\n",
    "transformed_test=pt.transform(scaled_test)"
   ]
  },
  {
   "cell_type": "code",
   "execution_count": 82,
   "id": "a843b645",
   "metadata": {},
   "outputs": [],
   "source": [
    "train_copy5=pd.DataFrame(transformed_train,columns=train_copy4.drop('buy',axis=1).columns)\n",
    "train_copy5['buy']=train_copy4['buy']\n",
    "test_copy5=pd.DataFrame(transformed_test,columns=test_copy4.columns)"
   ]
  },
  {
   "cell_type": "code",
   "execution_count": 83,
   "id": "cda4b07d",
   "metadata": {},
   "outputs": [],
   "source": [
    "x1=train_copy5.drop('buy',axis=1)\n",
    "y1=train_copy5['buy']"
   ]
  },
  {
   "cell_type": "code",
   "execution_count": 84,
   "id": "62905550",
   "metadata": {},
   "outputs": [],
   "source": [
    "def lr_output2(x,y):\n",
    "   \n",
    "    xtrain,xtest,ytrain,ytest=train_test_split(x,y,random_state=2,test_size=0.25)\n",
    "   \n",
    "    lr=LogisticRegression(penalty='l1',solver='liblinear', class_weight={0: 31 , 1: 0.69})\n",
    "    lr.fit(xtrain, ytrain)\n",
    "    y_pred=lr.predict(xtest)\n",
    "    pred_train=lr.predict(xtrain)\n",
    "    print('confusion_matrix_test','\\n',confusion_matrix(ytest,y_pred),'\\n')\n",
    "    print('classification_report_test','\\n',classification_report(ytest,y_pred),'\\n')\n",
    "    print('confusion_matrix_train','\\n',confusion_matrix(ytrain,pred_train),'\\n')\n",
    "    print('classification_report_train','\\n',classification_report(ytrain,pred_train),'\\n')\n",
    "    print('roc_auc_score_train','\\n','roc_auc_score',roc_auc_score(ytrain,pred_train),'\\n')\n",
    "    print('roc_auc_score_test','\\n','roc_auc_score',roc_auc_score(ytest,y_pred),'\\n')"
   ]
  },
  {
   "cell_type": "code",
   "execution_count": 85,
   "id": "ab8e5f1f",
   "metadata": {},
   "outputs": [
    {
     "name": "stdout",
     "output_type": "stream",
     "text": [
      "confusion_matrix_test \n",
      " [[9293    1]\n",
      " [ 308  189]] \n",
      "\n",
      "classification_report_test \n",
      "               precision    recall  f1-score   support\n",
      "\n",
      "           0       0.97      1.00      0.98      9294\n",
      "           1       0.99      0.38      0.55       497\n",
      "\n",
      "    accuracy                           0.97      9791\n",
      "   macro avg       0.98      0.69      0.77      9791\n",
      "weighted avg       0.97      0.97      0.96      9791\n",
      " \n",
      "\n",
      "confusion_matrix_train \n",
      " [[27869     0]\n",
      " [  983   518]] \n",
      "\n",
      "classification_report_train \n",
      "               precision    recall  f1-score   support\n",
      "\n",
      "           0       0.97      1.00      0.98     27869\n",
      "           1       1.00      0.35      0.51      1501\n",
      "\n",
      "    accuracy                           0.97     29370\n",
      "   macro avg       0.98      0.67      0.75     29370\n",
      "weighted avg       0.97      0.97      0.96     29370\n",
      " \n",
      "\n",
      "roc_auc_score_train \n",
      " roc_auc_score 0.6725516322451699 \n",
      "\n",
      "roc_auc_score_test \n",
      " roc_auc_score 0.6900870469210788 \n",
      "\n"
     ]
    }
   ],
   "source": [
    "lr_output2(x1,y1)"
   ]
  },
  {
   "cell_type": "code",
   "execution_count": 86,
   "id": "3bf15800",
   "metadata": {},
   "outputs": [
    {
     "name": "stdout",
     "output_type": "stream",
     "text": [
      "confusion_matrix_test \n",
      " [[7418   12]\n",
      " [ 174  229]] \n",
      "\n",
      "classification_report_test \n",
      "               precision    recall  f1-score   support\n",
      "\n",
      "           0       0.98      1.00      0.99      7430\n",
      "           1       0.95      0.57      0.71       403\n",
      "\n",
      "    accuracy                           0.98      7833\n",
      "   macro avg       0.96      0.78      0.85      7833\n",
      "weighted avg       0.98      0.98      0.97      7833\n",
      " \n",
      "\n",
      "confusion_matrix_train \n",
      " [[29733     0]\n",
      " [    0  1595]] \n",
      "\n",
      "classification_report_train \n",
      "               precision    recall  f1-score   support\n",
      "\n",
      "           0       1.00      1.00      1.00     29733\n",
      "           1       1.00      1.00      1.00      1595\n",
      "\n",
      "    accuracy                           1.00     31328\n",
      "   macro avg       1.00      1.00      1.00     31328\n",
      "weighted avg       1.00      1.00      1.00     31328\n",
      " \n",
      "\n",
      "roc_auc_score_train \n",
      " roc_auc_score 1.0 \n",
      "\n",
      "roc_auc_score_test \n",
      " roc_auc_score 0.7833115696876388 \n",
      "\n"
     ]
    }
   ],
   "source": [
    "xtrain1,xtest1,ytrain1,ytest1=train_test_split(x,y,random_state=42,test_size=0.20)\n",
    "    \n",
    "rf3=RandomForestClassifier(class_weight='balanced_subsample',random_state=42)\n",
    "rf3.fit(xtrain1, ytrain1)\n",
    "y_pred6=rf3.predict(xtest1)\n",
    "pred_train6=rf3.predict(xtrain1)\n",
    "print('confusion_matrix_test','\\n',confusion_matrix(ytest1,y_pred6),'\\n')\n",
    "print('classification_report_test','\\n',classification_report(ytest1,y_pred6),'\\n')\n",
    "print('confusion_matrix_train','\\n',confusion_matrix(ytrain1,pred_train6),'\\n')\n",
    "print('classification_report_train','\\n',classification_report(ytrain1,pred_train6),'\\n')\n",
    "print('roc_auc_score_train','\\n','roc_auc_score',roc_auc_score(ytrain1,pred_train6),'\\n')\n",
    "print('roc_auc_score_test','\\n','roc_auc_score',roc_auc_score(ytest1,y_pred6),'\\n')"
   ]
  },
  {
   "cell_type": "code",
   "execution_count": 87,
   "id": "9918f817",
   "metadata": {},
   "outputs": [],
   "source": [
    "ypred_7=rf3.predict(test_copy3)\n",
    "sub_9=pd.read_csv('~/documents/job_a_thon/sample_submission.csv')\n",
    "sub_9['buy']=ypred_7\n",
    "sub_9.to_csv('sub_9.csv',index=False)"
   ]
  },
  {
   "cell_type": "code",
   "execution_count": 88,
   "id": "ab673082",
   "metadata": {},
   "outputs": [
    {
     "name": "stdout",
     "output_type": "stream",
     "text": [
      "confusion_matrix_test \n",
      " [[7419   11]\n",
      " [ 167  236]] \n",
      "\n",
      "classification_report_test \n",
      "               precision    recall  f1-score   support\n",
      "\n",
      "           0       0.98      1.00      0.99      7430\n",
      "           1       0.96      0.59      0.73       403\n",
      "\n",
      "    accuracy                           0.98      7833\n",
      "   macro avg       0.97      0.79      0.86      7833\n",
      "weighted avg       0.98      0.98      0.97      7833\n",
      " \n",
      "\n",
      "confusion_matrix_train \n",
      " [[29733     0]\n",
      " [    0  1595]] \n",
      "\n",
      "classification_report_train \n",
      "               precision    recall  f1-score   support\n",
      "\n",
      "           0       1.00      1.00      1.00     29733\n",
      "           1       1.00      1.00      1.00      1595\n",
      "\n",
      "    accuracy                           1.00     31328\n",
      "   macro avg       1.00      1.00      1.00     31328\n",
      "weighted avg       1.00      1.00      1.00     31328\n",
      " \n",
      "\n",
      "roc_auc_score_train \n",
      " roc_auc_score 1.0 \n",
      "\n",
      "roc_auc_score_test \n",
      " roc_auc_score 0.7920637279622214 \n",
      "\n"
     ]
    }
   ],
   "source": [
    "xtrain1,xtest1,ytrain1,ytest1=train_test_split(x,y,random_state=42,test_size=0.20)\n",
    "rf3=RandomForestClassifier(class_weight={1:0.70,0:30},random_state=42)\n",
    "rf3.fit(xtrain1, ytrain1)\n",
    "y_pred6=rf3.predict(xtest1)\n",
    "pred_train6=rf3.predict(xtrain1)\n",
    "print('confusion_matrix_test','\\n',confusion_matrix(ytest1,y_pred6),'\\n')\n",
    "print('classification_report_test','\\n',classification_report(ytest1,y_pred6),'\\n')\n",
    "print('confusion_matrix_train','\\n',confusion_matrix(ytrain1,pred_train6),'\\n')\n",
    "print('classification_report_train','\\n',classification_report(ytrain1,pred_train6),'\\n')\n",
    "print('roc_auc_score_train','\\n','roc_auc_score',roc_auc_score(ytrain1,pred_train6),'\\n')\n",
    "print('roc_auc_score_test','\\n','roc_auc_score',roc_auc_score(ytest1,y_pred6),'\\n')"
   ]
  },
  {
   "cell_type": "code",
   "execution_count": 89,
   "id": "126f49e7",
   "metadata": {},
   "outputs": [],
   "source": [
    "ypred_8=rf3.predict(test_copy3)\n",
    "sub_10=pd.read_csv('~/documents/job_a_thon/sample_submission.csv')\n",
    "sub_10['buy']=ypred_8\n",
    "sub_10.to_csv('sub_10.csv',index=False)"
   ]
  },
  {
   "cell_type": "code",
   "execution_count": 90,
   "id": "9282287e",
   "metadata": {},
   "outputs": [],
   "source": [
    "def rf_output(x,y,classweight,n_estimators):\n",
    "    \n",
    "    rf=RandomForestClassifier(class_weight=classweight,criterion='entropy',n_estimators=n_estimators,random_state=42)\n",
    "    output_cross=cross_validate(estimator=rf,X=x,y=y,cv=7,scoring='f1',return_train_score=True)\n",
    "    output_cross_df=pd.DataFrame({'Train_score':output_cross['train_score'],'Test_score':output_cross['test_score']})\n",
    "    print('train_mean',output_cross_df['Train_score'].mean())\n",
    "    print('train_std',output_cross_df['Train_score'].std())\n",
    "    print('test_mean',output_cross_df['Test_score'].mean())\n",
    "    print('test_std',output_cross_df['Test_score'].std())\n",
    "    \n",
    "    xtrain,xtest,ytrain,ytest=train_test_split(x,y,random_state=42,test_size=0.20)\n",
    "    rf.fit(xtrain, ytrain)\n",
    "    y_pred=rf.predict(xtest)\n",
    "    pred_train=rf.predict(xtrain)\n",
    "    print('confusion_matrix_test','\\n',confusion_matrix(ytest,y_pred),'\\n')\n",
    "    print('classification_report_test','\\n',classification_report(ytest,y_pred),'\\n')\n",
    "    print('confusion_matrix_train','\\n',confusion_matrix(ytrain,pred_train),'\\n')\n",
    "    print('classification_report_train','\\n',classification_report(ytrain,pred_train),'\\n')\n",
    "    print('roc_auc_score_train','\\n','roc_auc_score',roc_auc_score(ytrain,pred_train),'\\n')\n",
    "    print('roc_auc_score_test','\\n','roc_auc_score',roc_auc_score(ytest,y_pred),'\\n')"
   ]
  },
  {
   "cell_type": "code",
   "execution_count": 91,
   "id": "3c5b7279",
   "metadata": {},
   "outputs": [
    {
     "name": "stdout",
     "output_type": "stream",
     "text": [
      "train_mean 0.9995826550766983\n",
      "train_std 0.0002852175768739017\n",
      "test_mean 0.668984719776333\n",
      "test_std 0.03275350423742985\n",
      "confusion_matrix_test \n",
      " [[7417   13]\n",
      " [ 171  232]] \n",
      "\n",
      "classification_report_test \n",
      "               precision    recall  f1-score   support\n",
      "\n",
      "           0       0.98      1.00      0.99      7430\n",
      "           1       0.95      0.58      0.72       403\n",
      "\n",
      "    accuracy                           0.98      7833\n",
      "   macro avg       0.96      0.79      0.85      7833\n",
      "weighted avg       0.98      0.98      0.97      7833\n",
      " \n",
      "\n",
      "confusion_matrix_train \n",
      " [[29733     0]\n",
      " [    0  1595]] \n",
      "\n",
      "classification_report_train \n",
      "               precision    recall  f1-score   support\n",
      "\n",
      "           0       1.00      1.00      1.00     29733\n",
      "           1       1.00      1.00      1.00      1595\n",
      "\n",
      "    accuracy                           1.00     31328\n",
      "   macro avg       1.00      1.00      1.00     31328\n",
      "weighted avg       1.00      1.00      1.00     31328\n",
      " \n",
      "\n",
      "roc_auc_score_train \n",
      " roc_auc_score 1.0 \n",
      "\n",
      "roc_auc_score_test \n",
      " roc_auc_score 0.786966359303875 \n",
      "\n"
     ]
    }
   ],
   "source": [
    "x=train_copy3.drop('buy',axis=1)\n",
    "y=train['buy']\n",
    "rf_output(x,y,classweight={1:0.68,0:0.32},n_estimators=100)"
   ]
  },
  {
   "cell_type": "code",
   "execution_count": 92,
   "id": "891a7531",
   "metadata": {},
   "outputs": [],
   "source": [
    "rf4=RandomForestClassifier(class_weight={1:0.68,0:0.32},criterion='entropy')\n",
    "rf4.fit(x,y)\n",
    "ypred_9=rf4.predict(test_copy3)\n"
   ]
  },
  {
   "cell_type": "code",
   "execution_count": 93,
   "id": "de71f19a",
   "metadata": {},
   "outputs": [],
   "source": [
    "sub_11=pd.read_csv('~/documents/job_a_thon/sample_submission.csv')\n",
    "sub_11['buy']=ypred_9\n",
    "sub_11.to_csv('sub_11.csv',index=False)"
   ]
  },
  {
   "cell_type": "code",
   "execution_count": 337,
   "id": "7f10dca0",
   "metadata": {},
   "outputs": [
    {
     "name": "stdout",
     "output_type": "stream",
     "text": [
      "Fitting 5 folds for each of 100 candidates, totalling 500 fits\n"
     ]
    },
    {
     "data": {
      "text/plain": [
       "GridSearchCV(cv=StratifiedKFold(n_splits=5, random_state=None, shuffle=False),\n",
       "             estimator=RandomForestClassifier(), n_jobs=-1,\n",
       "             param_grid={'class_weight': [{0: 0.0, 1: 1.0}, {0: 0.01, 1: 0.99},\n",
       "                                          {0: 0.02, 1: 0.98},\n",
       "                                          {0: 0.03, 1: 0.97},\n",
       "                                          {0: 0.04, 1: 0.96},\n",
       "                                          {0: 0.05, 1: 0.95},\n",
       "                                          {0: 0.06, 1: 0.94},\n",
       "                                          {0: 0.07, 1: 0.9299999999999999},\n",
       "                                          {0: 0.08, 1: 0.92},\n",
       "                                          {0: 0.09, 1: 0.91}, {0: 0.1, 1: 0.9},\n",
       "                                          {0: 0.11, 1: 0.89},\n",
       "                                          {0: 0.12, 1: 0.88},\n",
       "                                          {0: 0.13, 1: 0.87},\n",
       "                                          {0: 0.14, 1: 0.86},\n",
       "                                          {0: 0.15, 1: 0.85},\n",
       "                                          {0: 0.16, 1: 0.84},\n",
       "                                          {0: 0.17, 1: 0.83},\n",
       "                                          {0: 0.18, 1: 0.8200000000000001},\n",
       "                                          {0: 0.19, 1: 0.81}, {0: 0.2, 1: 0.8},\n",
       "                                          {0: 0.21, 1: 0.79},\n",
       "                                          {0: 0.22, 1: 0.78},\n",
       "                                          {0: 0.23, 1: 0.77},\n",
       "                                          {0: 0.24, 1: 0.76},\n",
       "                                          {0: 0.25, 1: 0.75},\n",
       "                                          {0: 0.26, 1: 0.74},\n",
       "                                          {0: 0.27, 1: 0.73},\n",
       "                                          {0: 0.28, 1: 0.72},\n",
       "                                          {0: 0.29, 1: 0.71}, ...]},\n",
       "             scoring='f1', verbose=2)"
      ]
     },
     "execution_count": 337,
     "metadata": {},
     "output_type": "execute_result"
    }
   ],
   "source": [
    "from sklearn.model_selection import GridSearchCV, StratifiedKFold\n",
    "rf = RandomForestClassifier() \n",
    "\n",
    "#Setting the range for class weights\n",
    "weights2 = np.linspace(0.0,0.99,100)\n",
    "\n",
    "#Creating a dictionary grid for grid search\n",
    "param_grid2 = {'class_weight': [{0:x, 1:1.0-x} for x in weights2]}\n",
    "\n",
    "#Fitting grid search to the train data with 5 folds\n",
    "gridsearch2 = GridSearchCV(estimator= rf, \n",
    "                          param_grid=param_grid2,\n",
    "                          cv=StratifiedKFold(), \n",
    "                          n_jobs=-1, \n",
    "                          scoring='f1', \n",
    "                          verbose=2)\n",
    "gridsearch2.fit(x,y)"
   ]
  },
  {
   "cell_type": "code",
   "execution_count": 489,
   "id": "f33ba5d4",
   "metadata": {},
   "outputs": [
    {
     "data": {
      "text/plain": [
       "Text(0.5, 1.0, 'Scoring for different class weights')"
      ]
     },
     "execution_count": 489,
     "metadata": {},
     "output_type": "execute_result"
    },
    {
     "data": {
      "image/png": "[encoded data removed]",
      "text/plain": [
       "<Figure size 864x576 with 1 Axes>"
      ]
     },
     "metadata": {},
     "output_type": "display_data"
    }
   ],
   "source": [
    "#Ploting the score for different values of weight\n",
    "sns.set_style('whitegrid')\n",
    "plt.figure(figsize=(12,8))\n",
    "weigh_data = pd.DataFrame({'score': gridsearch2.cv_results_['mean_test_score'],'weight':(1- weights2)})\n",
    "sns.lineplot(weigh_data['weight'],weigh_data['score'])\n",
    "plt.xlabel('Weight for class 1')\n",
    "plt.ylabel('F1 score')\n",
    "plt.xticks([round(i/10,1) for i in range(0,11,1)])\n",
    "plt.title('Scoring for different class weights',fontsize=24)"
   ]
  },
  {
   "cell_type": "code",
   "execution_count": 490,
   "id": "7d8b3bee",
   "metadata": {},
   "outputs": [
    {
     "data": {
      "text/html": [
       "<div>\n",
       "<style scoped>\n",
       "    .dataframe tbody tr th:only-of-type {\n",
       "        vertical-align: middle;\n",
       "    }\n",
       "\n",
       "    .dataframe tbody tr th {\n",
       "        vertical-align: top;\n",
       "    }\n",
       "\n",
       "    .dataframe thead th {\n",
       "        text-align: right;\n",
       "    }\n",
       "</style>\n",
       "<table border=\"1\" class=\"dataframe\">\n",
       "  <thead>\n",
       "    <tr style=\"text-align: right;\">\n",
       "      <th></th>\n",
       "      <th>score</th>\n",
       "      <th>weight</th>\n",
       "    </tr>\n",
       "  </thead>\n",
       "  <tbody>\n",
       "    <tr>\n",
       "      <th>13</th>\n",
       "      <td>0.653996</td>\n",
       "      <td>0.87</td>\n",
       "    </tr>\n",
       "  </tbody>\n",
       "</table>\n",
       "</div>"
      ],
      "text/plain": [
       "       score  weight\n",
       "13  0.653996    0.87"
      ]
     },
     "execution_count": 490,
     "metadata": {},
     "output_type": "execute_result"
    }
   ],
   "source": [
    "weigh_data[weigh_data['score']==weigh_data['score'].max()]"
   ]
  },
  {
   "cell_type": "code",
   "execution_count": 95,
   "id": "5a71b737",
   "metadata": {},
   "outputs": [
    {
     "name": "stdout",
     "output_type": "stream",
     "text": [
      "train_mean 0.9994574760557057\n",
      "train_std 0.00031230851358081673\n",
      "test_mean 0.6659826498239759\n",
      "test_std 0.03140633985276028\n",
      "confusion_matrix_test \n",
      " [[7418   12]\n",
      " [ 174  229]] \n",
      "\n",
      "classification_report_test \n",
      "               precision    recall  f1-score   support\n",
      "\n",
      "           0       0.98      1.00      0.99      7430\n",
      "           1       0.95      0.57      0.71       403\n",
      "\n",
      "    accuracy                           0.98      7833\n",
      "   macro avg       0.96      0.78      0.85      7833\n",
      "weighted avg       0.98      0.98      0.97      7833\n",
      " \n",
      "\n",
      "confusion_matrix_train \n",
      " [[29733     0]\n",
      " [    0  1595]] \n",
      "\n",
      "classification_report_train \n",
      "               precision    recall  f1-score   support\n",
      "\n",
      "           0       1.00      1.00      1.00     29733\n",
      "           1       1.00      1.00      1.00      1595\n",
      "\n",
      "    accuracy                           1.00     31328\n",
      "   macro avg       1.00      1.00      1.00     31328\n",
      "weighted avg       1.00      1.00      1.00     31328\n",
      " \n",
      "\n",
      "roc_auc_score_train \n",
      " roc_auc_score 1.0 \n",
      "\n",
      "roc_auc_score_test \n",
      " roc_auc_score 0.7833115696876388 \n",
      "\n"
     ]
    }
   ],
   "source": [
    "rf_output(x,y,classweight={1:0.86,0:0.14},n_estimators=100)"
   ]
  },
  {
   "cell_type": "code",
   "execution_count": 96,
   "id": "19dd5b65",
   "metadata": {},
   "outputs": [],
   "source": [
    "rf5=RandomForestClassifier(class_weight={1:0.84,0:0.16},criterion='entropy')\n",
    "rf5.fit(x,y)\n",
    "ypred_10=rf5.predict(test_copy3)"
   ]
  },
  {
   "cell_type": "code",
   "execution_count": 97,
   "id": "62eb03ee",
   "metadata": {},
   "outputs": [],
   "source": [
    "sub_12=pd.read_csv('~/documents/job_a_thon/sample_submission.csv')\n",
    "sub_12['buy']=ypred_10\n",
    "sub_12.to_csv('sub_12.csv',index=False)"
   ]
  },
  {
   "cell_type": "code",
   "execution_count": 98,
   "id": "4493bc7a",
   "metadata": {},
   "outputs": [],
   "source": [
    "#This is strong transition in itself score reached to 0.757"
   ]
  },
  {
   "cell_type": "code",
   "execution_count": 99,
   "id": "e1f16001",
   "metadata": {},
   "outputs": [
    {
     "data": {
      "text/plain": [
       "array([0.06695127, 0.04881698, 0.048105  , 0.05626302, 0.01580123,\n",
       "       0.05675445, 0.00599457, 0.07889851, 0.04159807, 0.01440968,\n",
       "       0.01043994, 0.02844233, 0.11186935, 0.0011764 , 0.11665566,\n",
       "       0.00128134, 0.08594639, 0.05188859, 0.07085577, 0.05367691,\n",
       "       0.03417455, 0.        ])"
      ]
     },
     "execution_count": 99,
     "metadata": {},
     "output_type": "execute_result"
    }
   ],
   "source": [
    "rf5.feature_importances_"
   ]
  },
  {
   "cell_type": "code",
   "execution_count": 100,
   "id": "60020dc1",
   "metadata": {},
   "outputs": [
    {
     "name": "stdout",
     "output_type": "stream",
     "text": [
      "train_mean 1.0\n",
      "train_std 0.0\n",
      "test_mean 0.6695916892147897\n",
      "test_std 0.0265069473212744\n",
      "confusion_matrix_test \n",
      " [[7418   12]\n",
      " [ 172  231]] \n",
      "\n",
      "classification_report_test \n",
      "               precision    recall  f1-score   support\n",
      "\n",
      "           0       0.98      1.00      0.99      7430\n",
      "           1       0.95      0.57      0.72       403\n",
      "\n",
      "    accuracy                           0.98      7833\n",
      "   macro avg       0.96      0.79      0.85      7833\n",
      "weighted avg       0.98      0.98      0.97      7833\n",
      " \n",
      "\n",
      "confusion_matrix_train \n",
      " [[29733     0]\n",
      " [    0  1595]] \n",
      "\n",
      "classification_report_train \n",
      "               precision    recall  f1-score   support\n",
      "\n",
      "           0       1.00      1.00      1.00     29733\n",
      "           1       1.00      1.00      1.00      1595\n",
      "\n",
      "    accuracy                           1.00     31328\n",
      "   macro avg       1.00      1.00      1.00     31328\n",
      "weighted avg       1.00      1.00      1.00     31328\n",
      " \n",
      "\n",
      "roc_auc_score_train \n",
      " roc_auc_score 1.0 \n",
      "\n",
      "roc_auc_score_test \n",
      " roc_auc_score 0.7857929592658025 \n",
      "\n"
     ]
    }
   ],
   "source": [
    "rf_output(x,y,classweight={1:0.86,0:0.14},n_estimators=150)"
   ]
  },
  {
   "cell_type": "code",
   "execution_count": 101,
   "id": "35d8b4ec",
   "metadata": {},
   "outputs": [],
   "source": [
    "def rf_output2(x,y,classweight,n_estimators,max_depth):\n",
    "    \n",
    "    rf=RandomForestClassifier(class_weight=classweight,criterion='entropy',random_state=42,n_estimators=n_estimators,max_depth=max_depth)\n",
    "    output_cross=cross_validate(estimator=rf,X=x,y=y,cv=7,scoring='f1',return_train_score=True)\n",
    "    output_cross_df=pd.DataFrame({'Train_score':output_cross['train_score'],'Test_score':output_cross['test_score']})\n",
    "    print('train_mean',output_cross_df['Train_score'].mean())\n",
    "    print('train_std',output_cross_df['Train_score'].std())\n",
    "    print('test_mean',output_cross_df['Test_score'].mean())\n",
    "    print('test_std',output_cross_df['Test_score'].std())\n",
    "    \n",
    "    xtrain,xtest,ytrain,ytest=train_test_split(x,y,random_state=42,test_size=0.20)\n",
    "    rf.fit(xtrain, ytrain)\n",
    "    y_pred=rf.predict(xtest)\n",
    "    pred_train=rf.predict(xtrain)\n",
    "    print('confusion_matrix_test','\\n',confusion_matrix(ytest,y_pred),'\\n')\n",
    "    print('classification_report_test','\\n',classification_report(ytest,y_pred),'\\n')\n",
    "    print('confusion_matrix_train','\\n',confusion_matrix(ytrain,pred_train),'\\n')\n",
    "    print('classification_report_train','\\n',classification_report(ytrain,pred_train),'\\n')\n",
    "    print('roc_auc_score_train','\\n','roc_auc_score',roc_auc_score(ytrain,pred_train),'\\n')\n",
    "    print('roc_auc_score_test','\\n','roc_auc_score',roc_auc_score(ytest,y_pred),'\\n')"
   ]
  },
  {
   "cell_type": "code",
   "execution_count": 102,
   "id": "bcfcca82",
   "metadata": {},
   "outputs": [
    {
     "name": "stdout",
     "output_type": "stream",
     "text": [
      "train_mean 0.7484588101703242\n",
      "train_std 0.004075054557234276\n",
      "test_mean 0.6723016577343872\n",
      "test_std 0.024138492740649924\n",
      "confusion_matrix_test \n",
      " [[7364   66]\n",
      " [ 141  262]] \n",
      "\n",
      "classification_report_test \n",
      "               precision    recall  f1-score   support\n",
      "\n",
      "           0       0.98      0.99      0.99      7430\n",
      "           1       0.80      0.65      0.72       403\n",
      "\n",
      "    accuracy                           0.97      7833\n",
      "   macro avg       0.89      0.82      0.85      7833\n",
      "weighted avg       0.97      0.97      0.97      7833\n",
      " \n",
      "\n",
      "confusion_matrix_train \n",
      " [[29522   211]\n",
      " [  533  1062]] \n",
      "\n",
      "classification_report_train \n",
      "               precision    recall  f1-score   support\n",
      "\n",
      "           0       0.98      0.99      0.99     29733\n",
      "           1       0.83      0.67      0.74      1595\n",
      "\n",
      "    accuracy                           0.98     31328\n",
      "   macro avg       0.91      0.83      0.86     31328\n",
      "weighted avg       0.97      0.98      0.97     31328\n",
      " \n",
      "\n",
      "roc_auc_score_train \n",
      " roc_auc_score 0.8293671144449972 \n",
      "\n",
      "roc_auc_score_test \n",
      " roc_auc_score 0.8206205811728324 \n",
      "\n"
     ]
    }
   ],
   "source": [
    "rf_output2(x,y,classweight={1:0.86,0:0.14},n_estimators=100,max_depth=12)"
   ]
  },
  {
   "cell_type": "markdown",
   "id": "8b81402f",
   "metadata": {},
   "source": [
    "# Manual HyperParameter Tuning "
   ]
  },
  {
   "cell_type": "code",
   "execution_count": 103,
   "id": "f319e9ba",
   "metadata": {},
   "outputs": [],
   "source": [
    "rf6=RandomForestClassifier(class_weight={1:0.86,0:0.14},criterion='entropy',random_state=42,n_estimators=150,max_depth=12)\n",
    "rf6.fit(x,y)\n",
    "ypred_11=rf6.predict(test_copy3)"
   ]
  },
  {
   "cell_type": "code",
   "execution_count": 104,
   "id": "5804930c",
   "metadata": {},
   "outputs": [],
   "source": [
    "sub_13=pd.read_csv('~/documents/job_a_thon/sample_submission.csv')\n",
    "sub_13['buy']=ypred_11\n",
    "sub_13.to_csv('sub_13.csv',index=False)"
   ]
  },
  {
   "cell_type": "code",
   "execution_count": 105,
   "id": "96294b14",
   "metadata": {},
   "outputs": [],
   "source": [
    "rf7=RandomForestClassifier(class_weight={1:0.86,0:0.14},criterion='entropy',max_depth=12)\n",
    "rf7.fit(x,y)\n",
    "ypred_12=rf7.predict(test_copy3)"
   ]
  },
  {
   "cell_type": "code",
   "execution_count": 106,
   "id": "60ab3f79",
   "metadata": {},
   "outputs": [],
   "source": [
    "sub_16=pd.read_csv('~/documents/job_a_thon/sample_submission.csv')\n",
    "sub_16['buy']=ypred_12\n",
    "sub_16.to_csv('sub_16.csv',index=False)"
   ]
  },
  {
   "cell_type": "code",
   "execution_count": 107,
   "id": "6e8f89e9",
   "metadata": {},
   "outputs": [],
   "source": [
    "rf6=RandomForestClassifier(class_weight={1:0.84,0:0.16},criterion='entropy')\n",
    "rf6.fit(x,y)\n",
    "ypred_13=rf6.predict(test_copy3)"
   ]
  },
  {
   "cell_type": "code",
   "execution_count": 110,
   "id": "1f7f861c",
   "metadata": {},
   "outputs": [],
   "source": [
    "sub_17=pd.read_csv('~/documents/job_a_thon/sample_submission.csv')\n",
    "sub_17['buy']=ypred_13\n",
    "sub_17.to_csv('sub_17.csv',index=False)"
   ]
  },
  {
   "cell_type": "code",
   "execution_count": 109,
   "id": "8ca1954e",
   "metadata": {},
   "outputs": [],
   "source": [
    "#This submission is repeatitive for the highest score"
   ]
  },
  {
   "cell_type": "code",
   "execution_count": 111,
   "id": "c1e87347",
   "metadata": {},
   "outputs": [],
   "source": [
    "#even after doing same submission it was found that due to random_state it couldnt get better. It was due to luck last time"
   ]
  },
  {
   "cell_type": "code",
   "execution_count": 112,
   "id": "068dce05",
   "metadata": {},
   "outputs": [],
   "source": [
    "rf7=RandomForestClassifier(random_state=1,class_weight={1:0.84,0:0.16},criterion='entropy')\n",
    "rf7.fit(x,y)\n",
    "ypred_14=rf7.predict(test_copy3)"
   ]
  },
  {
   "cell_type": "code",
   "execution_count": 113,
   "id": "86a00512",
   "metadata": {},
   "outputs": [],
   "source": [
    "sub_18=pd.read_csv('~/documents/job_a_thon/sample_submission.csv')\n",
    "sub_18['buy']=ypred_14\n",
    "sub_18.to_csv('sub_18.csv',index=False)"
   ]
  },
  {
   "cell_type": "code",
   "execution_count": 121,
   "id": "fecca0bd",
   "metadata": {},
   "outputs": [],
   "source": [
    "#74.hd"
   ]
  },
  {
   "cell_type": "code",
   "execution_count": 116,
   "id": "727538db",
   "metadata": {},
   "outputs": [],
   "source": [
    "rf8=RandomForestClassifier(random_state=11,class_weight={1:0.84,0:0.16},criterion='entropy')\n",
    "rf8.fit(x,y)\n",
    "ypred_15=rf8.predict(test_copy3)"
   ]
  },
  {
   "cell_type": "code",
   "execution_count": 117,
   "id": "05267e2c",
   "metadata": {},
   "outputs": [],
   "source": [
    "sub_19=pd.read_csv('~/documents/job_a_thon/sample_submission.csv')\n",
    "sub_19['buy']=ypred_15\n",
    "sub_19.to_csv('sub_19.csv',index=False)"
   ]
  },
  {
   "cell_type": "code",
   "execution_count": 122,
   "id": "adc2b39d",
   "metadata": {},
   "outputs": [],
   "source": [
    "#72"
   ]
  },
  {
   "cell_type": "code",
   "execution_count": 119,
   "id": "407985d9",
   "metadata": {},
   "outputs": [],
   "source": [
    "rf9=RandomForestClassifier(random_state=21,class_weight={1:0.84,0:0.16},criterion='entropy')\n",
    "rf9.fit(x,y)\n",
    "ypred_16=rf9.predict(test_copy3)"
   ]
  },
  {
   "cell_type": "code",
   "execution_count": 120,
   "id": "e4255961",
   "metadata": {},
   "outputs": [],
   "source": [
    "sub_20=pd.read_csv('~/documents/job_a_thon/sample_submission.csv')\n",
    "sub_20['buy']=ypred_16\n",
    "sub_20.to_csv('sub_20.csv',index=False)"
   ]
  },
  {
   "cell_type": "code",
   "execution_count": 123,
   "id": "b7c04804",
   "metadata": {},
   "outputs": [],
   "source": [
    "#74."
   ]
  },
  {
   "cell_type": "code",
   "execution_count": 124,
   "id": "1d2d8635",
   "metadata": {},
   "outputs": [],
   "source": [
    "rf10=RandomForestClassifier(random_state=31,class_weight={1:0.84,0:0.16},criterion='entropy')\n",
    "rf10.fit(x,y)\n",
    "ypred_17=rf10.predict(test_copy3)"
   ]
  },
  {
   "cell_type": "code",
   "execution_count": 125,
   "id": "67567828",
   "metadata": {},
   "outputs": [],
   "source": [
    "sub_21=pd.read_csv('~/documents/job_a_thon/sample_submission.csv')\n",
    "sub_21['buy']=ypred_17\n",
    "sub_21.to_csv('sub_21.csv',index=False)"
   ]
  },
  {
   "cell_type": "code",
   "execution_count": 126,
   "id": "667f21ba",
   "metadata": {},
   "outputs": [],
   "source": [
    "#72.8"
   ]
  },
  {
   "cell_type": "code",
   "execution_count": 127,
   "id": "c1c900e2",
   "metadata": {},
   "outputs": [],
   "source": [
    "rf11=RandomForestClassifier(random_state=41,class_weight={1:0.84,0:0.16},criterion='entropy')\n",
    "rf11.fit(x,y)\n",
    "ypred_18=rf11.predict(test_copy3)\n",
    "sub_22=pd.read_csv('~/documents/job_a_thon/sample_submission.csv')\n",
    "sub_22['buy']=ypred_18\n",
    "sub_22.to_csv('sub_22.csv',index=False)"
   ]
  },
  {
   "cell_type": "code",
   "execution_count": 128,
   "id": "4ea55109",
   "metadata": {},
   "outputs": [],
   "source": [
    "#73.6"
   ]
  },
  {
   "cell_type": "code",
   "execution_count": 129,
   "id": "4343ad97",
   "metadata": {},
   "outputs": [],
   "source": [
    "rf12=RandomForestClassifier(random_state=51,class_weight={1:0.84,0:0.16},criterion='entropy')\n",
    "rf12.fit(x,y)\n",
    "ypred_19=rf12.predict(test_copy3)\n",
    "sub_23=pd.read_csv('~/documents/job_a_thon/sample_submission.csv')\n",
    "sub_23['buy']=ypred_19\n",
    "sub_23.to_csv('sub_23.csv',index=False)"
   ]
  },
  {
   "cell_type": "code",
   "execution_count": 130,
   "id": "2cd8ae4f",
   "metadata": {},
   "outputs": [],
   "source": [
    "#74.48"
   ]
  },
  {
   "cell_type": "code",
   "execution_count": 131,
   "id": "31e38450",
   "metadata": {},
   "outputs": [],
   "source": [
    "rf13=RandomForestClassifier(random_state=61,class_weight={1:0.84,0:0.16},criterion='entropy')\n",
    "rf13.fit(x,y)\n",
    "ypred_20=rf13.predict(test_copy3)\n",
    "sub_24=pd.read_csv('~/documents/job_a_thon/sample_submission.csv')\n",
    "sub_24['buy']=ypred_20\n",
    "sub_24.to_csv('sub_24.csv',index=False)"
   ]
  },
  {
   "cell_type": "code",
   "execution_count": 132,
   "id": "41e77548",
   "metadata": {},
   "outputs": [],
   "source": [
    "#74.78"
   ]
  },
  {
   "cell_type": "code",
   "execution_count": 133,
   "id": "8446922d",
   "metadata": {},
   "outputs": [],
   "source": [
    "rf14=RandomForestClassifier(random_state=71,class_weight={1:0.84,0:0.16},criterion='entropy')\n",
    "rf14.fit(x,y)\n",
    "ypred_21=rf14.predict(test_copy3)\n",
    "sub_25=pd.read_csv('~/documents/job_a_thon/sample_submission.csv')\n",
    "sub_25['buy']=ypred_21\n",
    "sub_25.to_csv('sub_25.csv',index=False)"
   ]
  },
  {
   "cell_type": "code",
   "execution_count": 134,
   "id": "8e7f80a8",
   "metadata": {},
   "outputs": [],
   "source": [
    "#72.4"
   ]
  },
  {
   "cell_type": "code",
   "execution_count": 135,
   "id": "65f540e3",
   "metadata": {},
   "outputs": [],
   "source": [
    "rf15=RandomForestClassifier(random_state=81,class_weight={1:0.84,0:0.16},criterion='entropy')\n",
    "rf15.fit(x,y)\n",
    "ypred_22=rf15.predict(test_copy3)\n",
    "sub_26=pd.read_csv('~/documents/job_a_thon/sample_submission.csv')\n",
    "sub_26['buy']=ypred_22\n",
    "sub_26.to_csv('sub_26.csv',index=False)"
   ]
  },
  {
   "cell_type": "code",
   "execution_count": 136,
   "id": "444591e8",
   "metadata": {},
   "outputs": [],
   "source": [
    "#72.72"
   ]
  },
  {
   "cell_type": "code",
   "execution_count": 137,
   "id": "4cb6d59f",
   "metadata": {},
   "outputs": [],
   "source": [
    "rf16=RandomForestClassifier(random_state=91,class_weight={1:0.84,0:0.16},criterion='entropy')\n",
    "rf16.fit(x,y)\n",
    "ypred_23=rf16.predict(test_copy3)\n",
    "sub_27=pd.read_csv('~/documents/job_a_thon/sample_submission.csv')\n",
    "sub_27['buy']=ypred_23\n",
    "sub_27.to_csv('sub_27.csv',index=False)"
   ]
  },
  {
   "cell_type": "code",
   "execution_count": 138,
   "id": "242bb42b",
   "metadata": {},
   "outputs": [],
   "source": [
    "#0.73"
   ]
  },
  {
   "cell_type": "code",
   "execution_count": 139,
   "id": "4d42c259",
   "metadata": {},
   "outputs": [],
   "source": [
    "rf17=RandomForestClassifier(random_state=101,class_weight={1:0.84,0:0.16},criterion='entropy')\n",
    "rf17.fit(x,y)\n",
    "ypred_24=rf17.predict(test_copy3)\n",
    "sub_28=pd.read_csv('~/documents/job_a_thon/sample_submission.csv')\n",
    "sub_28['buy']=ypred_24\n",
    "sub_28.to_csv('sub_28.csv',index=False)"
   ]
  },
  {
   "cell_type": "code",
   "execution_count": 140,
   "id": "0ddfbe8d",
   "metadata": {},
   "outputs": [],
   "source": [
    "#73.5"
   ]
  },
  {
   "cell_type": "code",
   "execution_count": 141,
   "id": "a1f6c818",
   "metadata": {},
   "outputs": [],
   "source": [
    "rf18=RandomForestClassifier(random_state=60,class_weight={1:0.84,0:0.16},criterion='entropy')\n",
    "rf18.fit(x,y)\n",
    "ypred_25=rf18.predict(test_copy3)\n",
    "sub_29=pd.read_csv('~/documents/job_a_thon/sample_submission.csv')\n",
    "sub_29['buy']=ypred_25\n",
    "sub_29.to_csv('sub_29.csv',index=False)"
   ]
  },
  {
   "cell_type": "code",
   "execution_count": 142,
   "id": "574fe19c",
   "metadata": {},
   "outputs": [],
   "source": [
    "#73.7"
   ]
  },
  {
   "cell_type": "code",
   "execution_count": 143,
   "id": "dea4b5c6",
   "metadata": {},
   "outputs": [],
   "source": [
    "rf19=RandomForestClassifier(random_state=59,class_weight={1:0.84,0:0.16},criterion='entropy')\n",
    "rf19.fit(x,y)\n",
    "ypred_26=rf19.predict(test_copy3)\n",
    "sub_30=pd.read_csv('~/documents/job_a_thon/sample_submission.csv')\n",
    "sub_30['buy']=ypred_26\n",
    "sub_30.to_csv('sub_30.csv',index=False)"
   ]
  },
  {
   "cell_type": "code",
   "execution_count": 144,
   "id": "6b9e9ea4",
   "metadata": {},
   "outputs": [],
   "source": [
    "#74.5"
   ]
  },
  {
   "cell_type": "code",
   "execution_count": 145,
   "id": "f4dff025",
   "metadata": {},
   "outputs": [],
   "source": [
    "rf20=RandomForestClassifier(random_state=58,class_weight={1:0.84,0:0.16},criterion='entropy')\n",
    "rf20.fit(x,y)\n",
    "ypred_27=rf20.predict(test_copy3)\n",
    "sub_31=pd.read_csv('~/documents/job_a_thon/sample_submission.csv')\n",
    "sub_31['buy']=ypred_27\n",
    "sub_31.to_csv('sub_31.csv',index=False)"
   ]
  },
  {
   "cell_type": "code",
   "execution_count": 146,
   "id": "021289dd",
   "metadata": {},
   "outputs": [],
   "source": [
    "#72.4"
   ]
  },
  {
   "cell_type": "code",
   "execution_count": 147,
   "id": "9d1fb19e",
   "metadata": {},
   "outputs": [],
   "source": [
    "rf21=RandomForestClassifier(random_state=57,class_weight={1:0.84,0:0.16},criterion='entropy')\n",
    "rf21.fit(x,y)\n",
    "ypred_28=rf21.predict(test_copy3)\n",
    "sub_32=pd.read_csv('~/documents/job_a_thon/sample_submission.csv')\n",
    "sub_32['buy']=ypred_28\n",
    "sub_32.to_csv('sub_32.csv',index=False)"
   ]
  },
  {
   "cell_type": "code",
   "execution_count": 148,
   "id": "1b4f53af",
   "metadata": {},
   "outputs": [],
   "source": [
    "#74.11"
   ]
  },
  {
   "cell_type": "code",
   "execution_count": 149,
   "id": "25ce6a55",
   "metadata": {},
   "outputs": [],
   "source": [
    "rf22=RandomForestClassifier(random_state=56,class_weight={1:0.84,0:0.16},criterion='entropy')\n",
    "rf22.fit(x,y)\n",
    "ypred_29=rf22.predict(test_copy3)\n",
    "sub_33=pd.read_csv('~/documents/job_a_thon/sample_submission.csv')\n",
    "sub_33['buy']=ypred_29\n",
    "sub_33.to_csv('sub_33.csv',index=False)"
   ]
  },
  {
   "cell_type": "code",
   "execution_count": 150,
   "id": "be1fb513",
   "metadata": {},
   "outputs": [],
   "source": [
    "#76.2"
   ]
  },
  {
   "cell_type": "code",
   "execution_count": 240,
   "id": "2261d4e2",
   "metadata": {},
   "outputs": [],
   "source": [
    "#Highest by now"
   ]
  },
  {
   "cell_type": "code",
   "execution_count": 151,
   "id": "1e7861fb",
   "metadata": {},
   "outputs": [],
   "source": [
    "rf23=RandomForestClassifier(random_state=55,class_weight={1:0.84,0:0.16},criterion='entropy')\n",
    "rf23.fit(x,y)\n",
    "ypred_30=rf23.predict(test_copy3)\n",
    "sub_34=pd.read_csv('~/documents/job_a_thon/sample_submission.csv')\n",
    "sub_34['buy']=ypred_30\n",
    "sub_34.to_csv('sub_34.csv',index=False)"
   ]
  },
  {
   "cell_type": "code",
   "execution_count": 152,
   "id": "510e4ffb",
   "metadata": {},
   "outputs": [],
   "source": [
    "#72.6"
   ]
  },
  {
   "cell_type": "code",
   "execution_count": 154,
   "id": "87f7afbc",
   "metadata": {},
   "outputs": [],
   "source": [
    "rf24=RandomForestClassifier(random_state=62,class_weight={1:0.84,0:0.16},criterion='entropy')\n",
    "rf24.fit(x,y)\n",
    "ypred_31=rf24.predict(test_copy3)\n",
    "sub_35=pd.read_csv('~/documents/job_a_thon/sample_submission.csv')\n",
    "sub_35['buy']=ypred_31\n",
    "sub_35.to_csv('sub_35.csv',index=False)"
   ]
  },
  {
   "cell_type": "code",
   "execution_count": 155,
   "id": "5c727147",
   "metadata": {},
   "outputs": [],
   "source": [
    "#73.8"
   ]
  },
  {
   "cell_type": "code",
   "execution_count": 156,
   "id": "d2bc1482",
   "metadata": {},
   "outputs": [],
   "source": [
    "rf25=RandomForestClassifier(random_state=63,class_weight={1:0.84,0:0.16},criterion='entropy')\n",
    "rf25.fit(x,y)\n",
    "ypred_32=rf25.predict(test_copy3)\n",
    "sub_36=pd.read_csv('~/documents/job_a_thon/sample_submission.csv')\n",
    "sub_36['buy']=ypred_32\n",
    "sub_36.to_csv('sub_36.csv',index=False)"
   ]
  },
  {
   "cell_type": "code",
   "execution_count": 157,
   "id": "43cd9aa7",
   "metadata": {},
   "outputs": [],
   "source": [
    "#73.25"
   ]
  },
  {
   "cell_type": "code",
   "execution_count": 158,
   "id": "3ad64791",
   "metadata": {},
   "outputs": [],
   "source": [
    "rf26=RandomForestClassifier(random_state=64,class_weight={1:0.84,0:0.16},criterion='entropy')\n",
    "rf26.fit(x,y)\n",
    "ypred_33=rf26.predict(test_copy3)\n",
    "sub_37=pd.read_csv('~/documents/job_a_thon/sample_submission.csv')\n",
    "sub_37['buy']=ypred_33\n",
    "sub_37.to_csv('sub_37.csv',index=False)"
   ]
  },
  {
   "cell_type": "code",
   "execution_count": 159,
   "id": "f4748157",
   "metadata": {},
   "outputs": [],
   "source": [
    "#73.4"
   ]
  },
  {
   "cell_type": "code",
   "execution_count": 162,
   "id": "5e1e4d11",
   "metadata": {},
   "outputs": [],
   "source": [
    "rf27=RandomForestClassifier(random_state=65,class_weight={1:0.84,0:0.16},criterion='entropy')\n",
    "rf27.fit(x,y)\n",
    "ypred_34=rf27.predict(test_copy3)\n",
    "sub_38=pd.read_csv('~/documents/job_a_thon/sample_submission.csv')\n",
    "sub_38['buy']=ypred_34\n",
    "sub_38.to_csv('sub_38.csv',index=False)"
   ]
  },
  {
   "cell_type": "code",
   "execution_count": 163,
   "id": "e53116a5",
   "metadata": {},
   "outputs": [],
   "source": [
    "#73.4"
   ]
  },
  {
   "cell_type": "code",
   "execution_count": 164,
   "id": "eb2a5560",
   "metadata": {},
   "outputs": [],
   "source": [
    "rf28=RandomForestClassifier(random_state=66,class_weight={1:0.84,0:0.16},criterion='entropy')\n",
    "rf28.fit(x,y)\n",
    "ypred_35=rf28.predict(test_copy3)\n",
    "sub_39=pd.read_csv('~/documents/job_a_thon/sample_submission.csv')\n",
    "sub_39['buy']=ypred_35\n",
    "sub_39.to_csv('sub_39.csv',index=False)"
   ]
  },
  {
   "cell_type": "code",
   "execution_count": 165,
   "id": "6dd88126",
   "metadata": {},
   "outputs": [],
   "source": [
    "#74.7"
   ]
  },
  {
   "cell_type": "code",
   "execution_count": 167,
   "id": "718fb246",
   "metadata": {},
   "outputs": [],
   "source": [
    "rf29=RandomForestClassifier(random_state=67,class_weight={1:0.84,0:0.16},criterion='entropy')\n",
    "rf29.fit(x,y)\n",
    "ypred_36=rf29.predict(test_copy3)\n",
    "sub_40=pd.read_csv('~/documents/job_a_thon/sample_submission.csv')\n",
    "sub_40['buy']=ypred_36\n",
    "sub_40.to_csv('sub_40.csv',index=False)"
   ]
  },
  {
   "cell_type": "code",
   "execution_count": 168,
   "id": "a68c19f4",
   "metadata": {},
   "outputs": [],
   "source": [
    "#74.85"
   ]
  },
  {
   "cell_type": "code",
   "execution_count": 169,
   "id": "2093a8c2",
   "metadata": {},
   "outputs": [],
   "source": [
    "rf30=RandomForestClassifier(random_state=68,class_weight={1:0.84,0:0.16},criterion='entropy')\n",
    "rf30.fit(x,y)\n",
    "ypred_37=rf30.predict(test_copy3)\n",
    "sub_41=pd.read_csv('~/documents/job_a_thon/sample_submission.csv')\n",
    "sub_41['buy']=ypred_37\n",
    "sub_41.to_csv('sub_41.csv',index=False)"
   ]
  },
  {
   "cell_type": "code",
   "execution_count": 170,
   "id": "c8bcd33f",
   "metadata": {},
   "outputs": [],
   "source": [
    "#73.3"
   ]
  },
  {
   "cell_type": "code",
   "execution_count": 171,
   "id": "78f31801",
   "metadata": {},
   "outputs": [],
   "source": [
    "rf31=RandomForestClassifier(random_state=69,class_weight={1:0.84,0:0.16},criterion='entropy')\n",
    "rf31.fit(x,y)\n",
    "ypred_38=rf31.predict(test_copy3)\n",
    "sub_42=pd.read_csv('~/documents/job_a_thon/sample_submission.csv')\n",
    "sub_42['buy']=ypred_38\n",
    "sub_42.to_csv('sub_42.csv',index=False)"
   ]
  },
  {
   "cell_type": "code",
   "execution_count": 172,
   "id": "4781b56d",
   "metadata": {},
   "outputs": [],
   "source": [
    "#72.9"
   ]
  },
  {
   "cell_type": "code",
   "execution_count": 174,
   "id": "0ba34287",
   "metadata": {},
   "outputs": [],
   "source": [
    "rf32=RandomForestClassifier(random_state=70,class_weight={1:0.84,0:0.16},criterion='entropy')\n",
    "rf32.fit(x,y)\n",
    "ypred_39=rf32.predict(test_copy3)\n",
    "sub_43=pd.read_csv('~/documents/job_a_thon/sample_submission.csv')\n",
    "sub_43['buy']=ypred_39\n",
    "sub_43.to_csv('sub_43.csv',index=False)"
   ]
  },
  {
   "cell_type": "code",
   "execution_count": 175,
   "id": "f15fe4ba",
   "metadata": {},
   "outputs": [],
   "source": [
    "#74"
   ]
  },
  {
   "cell_type": "code",
   "execution_count": 176,
   "id": "9cb37ba4",
   "metadata": {},
   "outputs": [],
   "source": [
    "rf33=RandomForestClassifier(random_state=72,class_weight={1:0.84,0:0.16},criterion='entropy')\n",
    "rf33.fit(x,y)\n",
    "ypred_40=rf33.predict(test_copy3)\n",
    "sub_44=pd.read_csv('~/documents/job_a_thon/sample_submission.csv')\n",
    "sub_44['buy']=ypred_40\n",
    "sub_44.to_csv('sub_44.csv',index=False)"
   ]
  },
  {
   "cell_type": "code",
   "execution_count": 177,
   "id": "8dae8ede",
   "metadata": {},
   "outputs": [],
   "source": [
    "#73.3"
   ]
  },
  {
   "cell_type": "code",
   "execution_count": 178,
   "id": "0ac6da05",
   "metadata": {},
   "outputs": [],
   "source": [
    "rf34=RandomForestClassifier(random_state=73,class_weight={1:0.84,0:0.16},criterion='entropy')\n",
    "rf34.fit(x,y)\n",
    "ypred_41=rf34.predict(test_copy3)\n",
    "sub_45=pd.read_csv('~/documents/job_a_thon/sample_submission.csv')\n",
    "sub_45['buy']=ypred_41\n",
    "sub_45.to_csv('sub_45.csv',index=False)"
   ]
  },
  {
   "cell_type": "code",
   "execution_count": 179,
   "id": "d7b61021",
   "metadata": {},
   "outputs": [],
   "source": [
    "#73.3"
   ]
  },
  {
   "cell_type": "code",
   "execution_count": 181,
   "id": "5fb13221",
   "metadata": {},
   "outputs": [],
   "source": [
    "rf35=RandomForestClassifier(random_state=74,class_weight={1:0.84,0:0.16},criterion='entropy')\n",
    "rf35.fit(x,y)\n",
    "ypred_42=rf35.predict(test_copy3)\n",
    "sub_46=pd.read_csv('~/documents/job_a_thon/sample_submission.csv')\n",
    "sub_46['buy']=ypred_42\n",
    "sub_46.to_csv('sub_46.csv',index=False)"
   ]
  },
  {
   "cell_type": "code",
   "execution_count": 182,
   "id": "8d30106b",
   "metadata": {},
   "outputs": [],
   "source": [
    "#73.9"
   ]
  },
  {
   "cell_type": "code",
   "execution_count": 183,
   "id": "529dbc1c",
   "metadata": {},
   "outputs": [],
   "source": [
    "rf36=RandomForestClassifier(random_state=75,class_weight={1:0.84,0:0.16},criterion='entropy')\n",
    "rf36.fit(x,y)\n",
    "ypred_43=rf36.predict(test_copy3)\n",
    "sub_47=pd.read_csv('~/documents/job_a_thon/sample_submission.csv')\n",
    "sub_47['buy']=ypred_43\n",
    "sub_47.to_csv('sub_47.csv',index=False)"
   ]
  },
  {
   "cell_type": "code",
   "execution_count": 184,
   "id": "bcda8e4f",
   "metadata": {},
   "outputs": [],
   "source": [
    "#73"
   ]
  },
  {
   "cell_type": "code",
   "execution_count": 185,
   "id": "1da36e4b",
   "metadata": {},
   "outputs": [],
   "source": [
    "rf37=RandomForestClassifier(random_state=76,class_weight={1:0.84,0:0.16},criterion='entropy')\n",
    "rf37.fit(x,y)\n",
    "ypred_44=rf37.predict(test_copy3)\n",
    "sub_48=pd.read_csv('~/documents/job_a_thon/sample_submission.csv')\n",
    "sub_48['buy']=ypred_44\n",
    "sub_48.to_csv('sub_48.csv',index=False)"
   ]
  },
  {
   "cell_type": "code",
   "execution_count": 186,
   "id": "2bca2dbc",
   "metadata": {},
   "outputs": [],
   "source": [
    "#75.27"
   ]
  },
  {
   "cell_type": "code",
   "execution_count": 187,
   "id": "f08d41bc",
   "metadata": {},
   "outputs": [],
   "source": [
    "rf38=RandomForestClassifier(random_state=77,class_weight={1:0.84,0:0.16},criterion='entropy')\n",
    "rf38.fit(x,y)\n",
    "ypred_45=rf38.predict(test_copy3)\n",
    "sub_49=pd.read_csv('~/documents/job_a_thon/sample_submission.csv')\n",
    "sub_49['buy']=ypred_45\n",
    "sub_49.to_csv('sub_49.csv',index=False)"
   ]
  },
  {
   "cell_type": "code",
   "execution_count": 188,
   "id": "ad2eca95",
   "metadata": {},
   "outputs": [],
   "source": [
    "#72"
   ]
  },
  {
   "cell_type": "code",
   "execution_count": 189,
   "id": "294026c7",
   "metadata": {},
   "outputs": [],
   "source": [
    "rf39=RandomForestClassifier(random_state=78,class_weight={1:0.84,0:0.16},criterion='entropy')\n",
    "rf39.fit(x,y)\n",
    "ypred_46=rf39.predict(test_copy3)\n",
    "sub_50=pd.read_csv('~/documents/job_a_thon/sample_submission.csv')\n",
    "sub_50['buy']=ypred_46\n",
    "sub_50.to_csv('sub_50.csv',index=False)"
   ]
  },
  {
   "cell_type": "code",
   "execution_count": 190,
   "id": "c949357e",
   "metadata": {},
   "outputs": [],
   "source": [
    "#74.4"
   ]
  },
  {
   "cell_type": "code",
   "execution_count": 193,
   "id": "cbbb86c2",
   "metadata": {},
   "outputs": [],
   "source": [
    "rf40=RandomForestClassifier(random_state=79,class_weight={1:0.84,0:0.16},criterion='entropy')\n",
    "rf40.fit(x,y)\n",
    "ypred_47=rf40.predict(test_copy3)\n",
    "sub_51=pd.read_csv('~/documents/job_a_thon/sample_submission.csv')\n",
    "sub_51['buy']=ypred_47\n",
    "sub_51.to_csv('sub_51.csv',index=False)"
   ]
  },
  {
   "cell_type": "code",
   "execution_count": 192,
   "id": "782396a0",
   "metadata": {},
   "outputs": [],
   "source": [
    "#74.4"
   ]
  },
  {
   "cell_type": "code",
   "execution_count": 194,
   "id": "6e055e52",
   "metadata": {},
   "outputs": [],
   "source": [
    "rf41=RandomForestClassifier(random_state=80,class_weight={1:0.84,0:0.16},criterion='entropy')\n",
    "rf41.fit(x,y)\n",
    "ypred_48=rf41.predict(test_copy3)\n",
    "sub_52=pd.read_csv('~/documents/job_a_thon/sample_submission.csv')\n",
    "sub_52['buy']=ypred_48\n",
    "sub_52.to_csv('sub_52.csv',index=False)"
   ]
  },
  {
   "cell_type": "code",
   "execution_count": 195,
   "id": "95517ffb",
   "metadata": {},
   "outputs": [],
   "source": [
    "#72.5"
   ]
  },
  {
   "cell_type": "code",
   "execution_count": 196,
   "id": "69f79164",
   "metadata": {},
   "outputs": [],
   "source": [
    "rf42=RandomForestClassifier(random_state=180,class_weight={1:0.84,0:0.16},criterion='entropy')\n",
    "rf42.fit(x,y)\n",
    "ypred_49=rf42.predict(test_copy3)\n",
    "sub_53=pd.read_csv('~/documents/job_a_thon/sample_submission.csv')\n",
    "sub_53['buy']=ypred_49\n",
    "sub_53.to_csv('sub_53.csv',index=False)"
   ]
  },
  {
   "cell_type": "code",
   "execution_count": 197,
   "id": "77749182",
   "metadata": {},
   "outputs": [],
   "source": [
    "#74.13"
   ]
  },
  {
   "cell_type": "code",
   "execution_count": 198,
   "id": "3ce8194b",
   "metadata": {},
   "outputs": [],
   "source": [
    "rf43=RandomForestClassifier(random_state=181,class_weight={1:0.84,0:0.16},criterion='entropy')\n",
    "rf43.fit(x,y)\n",
    "ypred_50=rf43.predict(test_copy3)\n",
    "sub_54=pd.read_csv('~/documents/job_a_thon/sample_submission.csv')\n",
    "sub_54['buy']=ypred_50\n",
    "sub_54.to_csv('sub_54.csv',index=False)"
   ]
  },
  {
   "cell_type": "code",
   "execution_count": 199,
   "id": "5edf35ba",
   "metadata": {},
   "outputs": [],
   "source": [
    "#72.72"
   ]
  },
  {
   "cell_type": "code",
   "execution_count": 200,
   "id": "a8de77d9",
   "metadata": {},
   "outputs": [],
   "source": [
    "rf44=RandomForestClassifier(random_state=182,class_weight={1:0.84,0:0.16},criterion='entropy')\n",
    "rf44.fit(x,y)\n",
    "ypred_51=rf44.predict(test_copy3)\n",
    "sub_55=pd.read_csv('~/documents/job_a_thon/sample_submission.csv')\n",
    "sub_55['buy']=ypred_51\n",
    "sub_55.to_csv('sub_55.csv',index=False)"
   ]
  },
  {
   "cell_type": "code",
   "execution_count": 201,
   "id": "3533a3a5",
   "metadata": {},
   "outputs": [],
   "source": [
    "#72.8"
   ]
  },
  {
   "cell_type": "code",
   "execution_count": 202,
   "id": "a7a4f673",
   "metadata": {},
   "outputs": [],
   "source": [
    "rf45=RandomForestClassifier(random_state=183,class_weight={1:0.84,0:0.16},criterion='entropy')\n",
    "rf45.fit(x,y)\n",
    "ypred_52=rf45.predict(test_copy3)\n",
    "sub_56=pd.read_csv('~/documents/job_a_thon/sample_submission.csv')\n",
    "sub_56['buy']=ypred_52\n",
    "sub_56.to_csv('sub_56.csv',index=False)"
   ]
  },
  {
   "cell_type": "code",
   "execution_count": 203,
   "id": "753398f8",
   "metadata": {},
   "outputs": [],
   "source": [
    "#73"
   ]
  },
  {
   "cell_type": "code",
   "execution_count": 204,
   "id": "f6dc1f8c",
   "metadata": {},
   "outputs": [],
   "source": [
    "rf46=RandomForestClassifier(random_state=184,class_weight={1:0.84,0:0.16},criterion='entropy')\n",
    "rf46.fit(x,y)\n",
    "ypred_53=rf46.predict(test_copy3)\n",
    "sub_57=pd.read_csv('~/documents/job_a_thon/sample_submission.csv')\n",
    "sub_57['buy']=ypred_53\n",
    "sub_57.to_csv('sub_57.csv',index=False)"
   ]
  },
  {
   "cell_type": "code",
   "execution_count": 205,
   "id": "240169a1",
   "metadata": {},
   "outputs": [],
   "source": [
    "#74.26"
   ]
  },
  {
   "cell_type": "code",
   "execution_count": 206,
   "id": "608098c3",
   "metadata": {},
   "outputs": [],
   "source": [
    "rf47=RandomForestClassifier(random_state=185,class_weight={1:0.84,0:0.16},criterion='entropy')\n",
    "rf47.fit(x,y)\n",
    "ypred_54=rf47.predict(test_copy3)\n",
    "sub_58=pd.read_csv('~/documents/job_a_thon/sample_submission.csv')\n",
    "sub_58['buy']=ypred_54\n",
    "sub_58.to_csv('sub_58.csv',index=False)"
   ]
  },
  {
   "cell_type": "code",
   "execution_count": 207,
   "id": "e6e1206e",
   "metadata": {},
   "outputs": [],
   "source": [
    "#71.6"
   ]
  },
  {
   "cell_type": "code",
   "execution_count": 208,
   "id": "1855579c",
   "metadata": {},
   "outputs": [],
   "source": [
    "rf48=RandomForestClassifier(random_state=186,class_weight={1:0.84,0:0.16},criterion='entropy')\n",
    "rf48.fit(x,y)\n",
    "ypred_55=rf48.predict(test_copy3)\n",
    "sub_59=pd.read_csv('~/documents/job_a_thon/sample_submission.csv')\n",
    "sub_59['buy']=ypred_55\n",
    "sub_59.to_csv('sub_59.csv',index=False)"
   ]
  },
  {
   "cell_type": "code",
   "execution_count": 209,
   "id": "71eeed6a",
   "metadata": {},
   "outputs": [],
   "source": [
    "#72.8"
   ]
  },
  {
   "cell_type": "code",
   "execution_count": 210,
   "id": "0902077e",
   "metadata": {},
   "outputs": [],
   "source": [
    "rf49=RandomForestClassifier(random_state=187,class_weight={1:0.84,0:0.16},criterion='entropy')\n",
    "rf49.fit(x,y)\n",
    "ypred_56=rf49.predict(test_copy3)\n",
    "sub_60=pd.read_csv('~/documents/job_a_thon/sample_submission.csv')\n",
    "sub_60['buy']=ypred_56\n",
    "sub_60.to_csv('sub_60.csv',index=False)"
   ]
  },
  {
   "cell_type": "code",
   "execution_count": 211,
   "id": "7c978696",
   "metadata": {},
   "outputs": [],
   "source": [
    "#73.15"
   ]
  },
  {
   "cell_type": "code",
   "execution_count": 212,
   "id": "b04f5c3d",
   "metadata": {},
   "outputs": [],
   "source": [
    "rf50=RandomForestClassifier(random_state=188,class_weight={1:0.84,0:0.16},criterion='entropy')\n",
    "rf50.fit(x,y)\n",
    "ypred_57=rf50.predict(test_copy3)\n",
    "sub_61=pd.read_csv('~/documents/job_a_thon/sample_submission.csv')\n",
    "sub_61['buy']=ypred_57\n",
    "sub_61.to_csv('sub_61.csv',index=False)"
   ]
  },
  {
   "cell_type": "code",
   "execution_count": 213,
   "id": "6cac10a2",
   "metadata": {},
   "outputs": [],
   "source": [
    "#73.05"
   ]
  },
  {
   "cell_type": "code",
   "execution_count": 215,
   "id": "d81e4ba1",
   "metadata": {},
   "outputs": [],
   "source": [
    "rf51=RandomForestClassifier(random_state=189,class_weight={1:0.84,0:0.16},criterion='entropy')\n",
    "rf51.fit(x,y)\n",
    "ypred_58=rf51.predict(test_copy3)\n",
    "sub_62=pd.read_csv('~/documents/job_a_thon/sample_submission.csv')\n",
    "sub_62['buy']=ypred_58\n",
    "sub_62.to_csv('sub_62.csv',index=False)"
   ]
  },
  {
   "cell_type": "code",
   "execution_count": 216,
   "id": "6d0ede5a",
   "metadata": {},
   "outputs": [],
   "source": [
    "#73.15"
   ]
  },
  {
   "cell_type": "code",
   "execution_count": 218,
   "id": "2aaf5f7e",
   "metadata": {},
   "outputs": [],
   "source": [
    "rf52=RandomForestClassifier(random_state=190,class_weight={1:0.84,0:0.16},criterion='entropy')\n",
    "rf52.fit(x,y)\n",
    "ypred_59=rf52.predict(test_copy3)\n",
    "sub_63=pd.read_csv('~/documents/job_a_thon/sample_submission.csv')\n",
    "sub_63['buy']=ypred_59\n",
    "sub_63.to_csv('sub_63.csv',index=False)"
   ]
  },
  {
   "cell_type": "code",
   "execution_count": 219,
   "id": "c8d532c9",
   "metadata": {},
   "outputs": [],
   "source": [
    "#73.68"
   ]
  },
  {
   "cell_type": "code",
   "execution_count": 220,
   "id": "ebcdc8bd",
   "metadata": {},
   "outputs": [],
   "source": [
    "rf53=RandomForestClassifier(random_state=191,class_weight={1:0.84,0:0.16},criterion='entropy')\n",
    "rf53.fit(x,y)\n",
    "ypred_60=rf53.predict(test_copy3)\n",
    "sub_64=pd.read_csv('~/documents/job_a_thon/sample_submission.csv')\n",
    "sub_64['buy']=ypred_60\n",
    "sub_64.to_csv('sub_64.csv',index=False)"
   ]
  },
  {
   "cell_type": "code",
   "execution_count": 221,
   "id": "3ff12e26",
   "metadata": {},
   "outputs": [],
   "source": [
    "#73.18"
   ]
  },
  {
   "cell_type": "code",
   "execution_count": 222,
   "id": "9c3e7a94",
   "metadata": {},
   "outputs": [],
   "source": [
    "rf54=RandomForestClassifier(random_state=192,class_weight={1:0.84,0:0.16},criterion='entropy')\n",
    "rf54.fit(x,y)\n",
    "ypred_61=rf54.predict(test_copy3)\n",
    "sub_65=pd.read_csv('~/documents/job_a_thon/sample_submission.csv')\n",
    "sub_65['buy']=ypred_61\n",
    "sub_65.to_csv('sub_65.csv',index=False)"
   ]
  },
  {
   "cell_type": "code",
   "execution_count": 223,
   "id": "f6ac5b40",
   "metadata": {},
   "outputs": [],
   "source": [
    "#73.96"
   ]
  },
  {
   "cell_type": "code",
   "execution_count": 224,
   "id": "550a83a4",
   "metadata": {},
   "outputs": [],
   "source": [
    "rf55=RandomForestClassifier(random_state=193,class_weight={1:0.84,0:0.16},criterion='entropy')\n",
    "rf55.fit(x,y)\n",
    "ypred_62=rf55.predict(test_copy3)\n",
    "sub_66=pd.read_csv('~/documents/job_a_thon/sample_submission.csv')\n",
    "sub_66['buy']=ypred_62\n",
    "sub_66.to_csv('sub_66.csv',index=False)"
   ]
  },
  {
   "cell_type": "code",
   "execution_count": 225,
   "id": "948226a9",
   "metadata": {},
   "outputs": [],
   "source": [
    "#72.8"
   ]
  },
  {
   "cell_type": "code",
   "execution_count": 226,
   "id": "111a1ca0",
   "metadata": {},
   "outputs": [],
   "source": [
    "rf56=RandomForestClassifier(random_state=194,class_weight={1:0.84,0:0.16},criterion='entropy')\n",
    "rf56.fit(x,y)\n",
    "ypred_63=rf56.predict(test_copy3)\n",
    "sub_67=pd.read_csv('~/documents/job_a_thon/sample_submission.csv')\n",
    "sub_67['buy']=ypred_63\n",
    "sub_67.to_csv('sub_67.csv',index=False)"
   ]
  },
  {
   "cell_type": "code",
   "execution_count": 227,
   "id": "1f9b0eea",
   "metadata": {},
   "outputs": [],
   "source": [
    "#74.7"
   ]
  },
  {
   "cell_type": "code",
   "execution_count": 228,
   "id": "b38ee0bd",
   "metadata": {},
   "outputs": [],
   "source": [
    "rf57=RandomForestClassifier(random_state=195,class_weight={1:0.84,0:0.16},criterion='entropy')\n",
    "rf57.fit(x,y)\n",
    "ypred_64=rf57.predict(test_copy3)\n",
    "sub_68=pd.read_csv('~/documents/job_a_thon/sample_submission.csv')\n",
    "sub_68['buy']=ypred_64\n",
    "sub_68.to_csv('sub_68.csv',index=False)"
   ]
  },
  {
   "cell_type": "code",
   "execution_count": 229,
   "id": "edc58ced",
   "metadata": {},
   "outputs": [],
   "source": [
    "#74.41"
   ]
  },
  {
   "cell_type": "code",
   "execution_count": 230,
   "id": "e0dcd4d1",
   "metadata": {},
   "outputs": [],
   "source": [
    "rf58=RandomForestClassifier(random_state=196,class_weight={1:0.84,0:0.16},criterion='entropy')\n",
    "rf58.fit(x,y)\n",
    "ypred_65=rf58.predict(test_copy3)\n",
    "sub_69=pd.read_csv('~/documents/job_a_thon/sample_submission.csv')\n",
    "sub_69['buy']=ypred_65\n",
    "sub_69.to_csv('sub_69.csv',index=False)"
   ]
  },
  {
   "cell_type": "code",
   "execution_count": 231,
   "id": "7e3624a4",
   "metadata": {},
   "outputs": [],
   "source": [
    "#72.8"
   ]
  },
  {
   "cell_type": "code",
   "execution_count": 232,
   "id": "651ca69f",
   "metadata": {},
   "outputs": [],
   "source": [
    "rf59=RandomForestClassifier(random_state=197,class_weight={1:0.84,0:0.16},criterion='entropy')\n",
    "rf59.fit(x,y)\n",
    "ypred_66=rf59.predict(test_copy3)\n",
    "sub_70=pd.read_csv('~/documents/job_a_thon/sample_submission.csv')\n",
    "sub_70['buy']=ypred_66\n",
    "sub_70.to_csv('sub_70.csv',index=False)"
   ]
  },
  {
   "cell_type": "code",
   "execution_count": 233,
   "id": "d73df348",
   "metadata": {},
   "outputs": [],
   "source": [
    "#72.8"
   ]
  },
  {
   "cell_type": "code",
   "execution_count": 234,
   "id": "038e4ae3",
   "metadata": {},
   "outputs": [],
   "source": [
    "rf60=RandomForestClassifier(random_state=198,class_weight={1:0.84,0:0.16},criterion='entropy')\n",
    "rf60.fit(x,y)\n",
    "ypred_67=rf60.predict(test_copy3)\n",
    "sub_71=pd.read_csv('~/documents/job_a_thon/sample_submission.csv')\n",
    "sub_71['buy']=ypred_67\n",
    "sub_71.to_csv('sub_71.csv',index=False)"
   ]
  },
  {
   "cell_type": "code",
   "execution_count": 235,
   "id": "239a8d48",
   "metadata": {},
   "outputs": [],
   "source": [
    "#74"
   ]
  },
  {
   "cell_type": "code",
   "execution_count": 236,
   "id": "24287ca6",
   "metadata": {},
   "outputs": [],
   "source": [
    "rf61=RandomForestClassifier(random_state=199,class_weight={1:0.84,0:0.16},criterion='entropy')\n",
    "rf61.fit(x,y)\n",
    "ypred_68=rf61.predict(test_copy3)\n",
    "sub_72=pd.read_csv('~/documents/job_a_thon/sample_submission.csv')\n",
    "sub_72['buy']=ypred_68\n",
    "sub_72.to_csv('sub_72.csv',index=False)"
   ]
  },
  {
   "cell_type": "code",
   "execution_count": 237,
   "id": "3ac38365",
   "metadata": {},
   "outputs": [],
   "source": [
    "#73.68"
   ]
  },
  {
   "cell_type": "code",
   "execution_count": 238,
   "id": "a0357095",
   "metadata": {},
   "outputs": [],
   "source": [
    "rf62=RandomForestClassifier(random_state=200,class_weight={1:0.84,0:0.16},criterion='entropy')\n",
    "rf62.fit(x,y)\n",
    "ypred_69=rf62.predict(test_copy3)\n",
    "sub_73=pd.read_csv('~/documents/job_a_thon/sample_submission.csv')\n",
    "sub_73['buy']=ypred_69\n",
    "sub_73.to_csv('sub_73.csv',index=False)"
   ]
  },
  {
   "cell_type": "code",
   "execution_count": 239,
   "id": "b09842ed",
   "metadata": {},
   "outputs": [],
   "source": [
    "#73.4"
   ]
  },
  {
   "cell_type": "code",
   "execution_count": null,
   "id": "f30ac069",
   "metadata": {},
   "outputs": [],
   "source": []
  },
  {
   "cell_type": "code",
   "execution_count": 385,
   "id": "64719603",
   "metadata": {},
   "outputs": [],
   "source": [
    "def rf_output_new(x,y,classweight,n_estimators,max_depth):\n",
    "    \n",
    "    rf=RandomForestClassifier(class_weight=classweight,criterion='entropy',random_state=56,n_estimators=n_estimators,max_depth=max_depth)\n",
    "    output_cross=cross_validate(estimator=rf,X=x,y=y,cv=7,scoring='f1',return_train_score=True)\n",
    "    output_cross_df=pd.DataFrame({'Train_score':output_cross['train_score'],'Test_score':output_cross['test_score']})\n",
    "    print('train_mean',output_cross_df['Train_score'].mean())\n",
    "    print('train_std',output_cross_df['Train_score'].std())\n",
    "    print('test_mean',output_cross_df['Test_score'].mean())\n",
    "    print('test_std',output_cross_df['Test_score'].std())\n",
    "    \n",
    "    xtrain,xtest,ytrain,ytest=train_test_split(x,y,random_state=56,test_size=0.20)\n",
    "    rf.fit(xtrain, ytrain)\n",
    "    y_pred=rf.predict(xtest)\n",
    "    pred_train=rf.predict(xtrain)\n",
    "    print('confusion_matrix_test','\\n',confusion_matrix(ytest,y_pred),'\\n')\n",
    "    print('classification_report_test','\\n',classification_report(ytest,y_pred),'\\n')\n",
    "    print('confusion_matrix_train','\\n',confusion_matrix(ytrain,pred_train),'\\n')\n",
    "    print('classification_report_train','\\n',classification_report(ytrain,pred_train),'\\n')\n",
    "    print('roc_auc_score_train','\\n','roc_auc_score',roc_auc_score(ytrain,pred_train),'\\n')\n",
    "    print('roc_auc_score_test','\\n','roc_auc_score',roc_auc_score(ytest,y_pred),'\\n')"
   ]
  },
  {
   "cell_type": "code",
   "execution_count": 386,
   "id": "9f775d61",
   "metadata": {},
   "outputs": [
    {
     "name": "stdout",
     "output_type": "stream",
     "text": [
      "train_mean 0.8543238934348355\n",
      "train_std 0.005117963947958689\n",
      "test_mean 0.6750865389697015\n",
      "test_std 0.018932811160464254\n",
      "confusion_matrix_test \n",
      " [[7405   24]\n",
      " [ 212  192]] \n",
      "\n",
      "classification_report_test \n",
      "               precision    recall  f1-score   support\n",
      "\n",
      "           0       0.97      1.00      0.98      7429\n",
      "           1       0.89      0.48      0.62       404\n",
      "\n",
      "    accuracy                           0.97      7833\n",
      "   macro avg       0.93      0.74      0.80      7833\n",
      "weighted avg       0.97      0.97      0.97      7833\n",
      " \n",
      "\n",
      "confusion_matrix_train \n",
      " [[29727     7]\n",
      " [  358  1236]] \n",
      "\n",
      "classification_report_train \n",
      "               precision    recall  f1-score   support\n",
      "\n",
      "           0       0.99      1.00      0.99     29734\n",
      "           1       0.99      0.78      0.87      1594\n",
      "\n",
      "    accuracy                           0.99     31328\n",
      "   macro avg       0.99      0.89      0.93     31328\n",
      "weighted avg       0.99      0.99      0.99     31328\n",
      " \n",
      "\n",
      "roc_auc_score_train \n",
      " roc_auc_score 0.8875861792207088 \n",
      "\n",
      "roc_auc_score_test \n",
      " roc_auc_score 0.736008470950743 \n",
      "\n"
     ]
    }
   ],
   "source": [
    "rf_output_new(x,y,classweight={1:0.84,0:0.16},n_estimators=100,max_depth=16)"
   ]
  },
  {
   "cell_type": "code",
   "execution_count": 259,
   "id": "6a8a1edd",
   "metadata": {},
   "outputs": [],
   "source": [
    "#lets create a new model with max_depth=16"
   ]
  },
  {
   "cell_type": "code",
   "execution_count": 260,
   "id": "7cf9e9a0",
   "metadata": {},
   "outputs": [],
   "source": [
    "rf_new=RandomForestClassifier(random_state=56,class_weight={1:0.84,0:0.16},max_depth=16,criterion='entropy')\n",
    "rf_new.fit(x,y)\n",
    "ypred_70=rf_new.predict(test_copy3)\n",
    "sub_74=pd.read_csv('~/documents/job_a_thon/sample_submission.csv')\n",
    "sub_74['buy']=ypred_70\n",
    "sub_74.to_csv('sub_74.csv',index=False)"
   ]
  },
  {
   "cell_type": "code",
   "execution_count": 261,
   "id": "a36ba9f1",
   "metadata": {},
   "outputs": [],
   "source": [
    "#72.77"
   ]
  },
  {
   "cell_type": "code",
   "execution_count": 262,
   "id": "6220fcf6",
   "metadata": {},
   "outputs": [],
   "source": [
    "rf_new2=RandomForestClassifier(random_state=56,class_weight={1:0.84,0:0.16},criterion='entropy')\n",
    "rf_new2.fit(x,y)\n",
    "ypred_71=rf_new2.predict(test_copy3)\n",
    "sub_75=pd.read_csv('~/documents/job_a_thon/sample_submission.csv')\n",
    "sub_75['buy']=ypred_71\n",
    "sub_75.to_csv('sub_75.csv',index=False)"
   ]
  },
  {
   "cell_type": "code",
   "execution_count": 263,
   "id": "09c51dea",
   "metadata": {},
   "outputs": [],
   "source": [
    "#76.27"
   ]
  },
  {
   "cell_type": "code",
   "execution_count": 264,
   "id": "de6e2720",
   "metadata": {},
   "outputs": [],
   "source": [
    "rf_new3=RandomForestClassifier(random_state=56,class_weight={1:0.84,0:0.16},max_depth=10,criterion='entropy')\n",
    "rf_new3.fit(x,y)\n",
    "ypred_72=rf_new3.predict(test_copy3)\n",
    "sub_76=pd.read_csv('~/documents/job_a_thon/sample_submission.csv')\n",
    "sub_76['buy']=ypred_72\n",
    "sub_76.to_csv('sub_76.csv',index=False)"
   ]
  },
  {
   "cell_type": "code",
   "execution_count": 265,
   "id": "a62e218e",
   "metadata": {},
   "outputs": [],
   "source": [
    "#70.9"
   ]
  },
  {
   "cell_type": "code",
   "execution_count": 266,
   "id": "3f440329",
   "metadata": {},
   "outputs": [],
   "source": [
    "rf_new4=RandomForestClassifier(random_state=56,class_weight={1:0.84,0:0.16},max_depth=12,criterion='entropy')\n",
    "rf_new4.fit(x,y)\n",
    "ypred_73=rf_new4.predict(test_copy3)\n",
    "sub_77=pd.read_csv('~/documents/job_a_thon/sample_submission.csv')\n",
    "sub_77['buy']=ypred_73\n",
    "sub_77.to_csv('sub_77.csv',index=False)"
   ]
  },
  {
   "cell_type": "code",
   "execution_count": 267,
   "id": "2cc78bbb",
   "metadata": {},
   "outputs": [],
   "source": [
    "#71.9"
   ]
  },
  {
   "cell_type": "code",
   "execution_count": 268,
   "id": "a2057f2d",
   "metadata": {},
   "outputs": [],
   "source": [
    "rf_new5=RandomForestClassifier(random_state=56,class_weight={1:0.84,0:0.16},max_depth=18,criterion='entropy')\n",
    "rf_new5.fit(x,y)\n",
    "ypred_74=rf_new5.predict(test_copy3)\n",
    "sub_78=pd.read_csv('~/documents/job_a_thon/sample_submission.csv')\n",
    "sub_78['buy']=ypred_74\n",
    "sub_78.to_csv('sub_78.csv',index=False)"
   ]
  },
  {
   "cell_type": "code",
   "execution_count": 269,
   "id": "599b00c1",
   "metadata": {},
   "outputs": [],
   "source": [
    "#72"
   ]
  },
  {
   "cell_type": "code",
   "execution_count": 270,
   "id": "ded5712e",
   "metadata": {},
   "outputs": [],
   "source": [
    "rf_new6=RandomForestClassifier(random_state=56,class_weight={1:0.84,0:0.16},max_depth=24,criterion='entropy')\n",
    "rf_new6.fit(x,y)\n",
    "ypred_75=rf_new6.predict(test_copy3)\n",
    "sub_79=pd.read_csv('~/documents/job_a_thon/sample_submission.csv')\n",
    "sub_79['buy']=ypred_75\n",
    "sub_79.to_csv('sub_79.csv',index=False)"
   ]
  },
  {
   "cell_type": "code",
   "execution_count": 271,
   "id": "2e1601e8",
   "metadata": {},
   "outputs": [],
   "source": [
    "#72"
   ]
  },
  {
   "cell_type": "code",
   "execution_count": 272,
   "id": "fb357e16",
   "metadata": {},
   "outputs": [],
   "source": [
    "rf_new7=RandomForestClassifier(random_state=56,class_weight={1:0.84,0:0.16},max_depth=30,criterion='entropy')\n",
    "rf_new7.fit(x,y)\n",
    "ypred_76=rf_new7.predict(test_copy3)\n",
    "sub_80=pd.read_csv('~/documents/job_a_thon/sample_submission.csv')\n",
    "sub_80['buy']=ypred_76\n",
    "sub_80.to_csv('sub_80.csv',index=False)"
   ]
  },
  {
   "cell_type": "code",
   "execution_count": 273,
   "id": "f9588b53",
   "metadata": {},
   "outputs": [],
   "source": [
    "#74.8"
   ]
  },
  {
   "cell_type": "code",
   "execution_count": 274,
   "id": "32130698",
   "metadata": {},
   "outputs": [],
   "source": [
    "rf_new8=RandomForestClassifier(random_state=56,class_weight={1:0.84,0:0.16},max_depth=35,criterion='entropy')\n",
    "rf_new8.fit(x,y)\n",
    "ypred_77=rf_new8.predict(test_copy3)\n",
    "sub_81=pd.read_csv('~/documents/job_a_thon/sample_submission.csv')\n",
    "sub_81['buy']=ypred_77\n",
    "sub_81.to_csv('sub_81.csv',index=False)"
   ]
  },
  {
   "cell_type": "code",
   "execution_count": 275,
   "id": "1b51b3f0",
   "metadata": {},
   "outputs": [],
   "source": [
    "#75"
   ]
  },
  {
   "cell_type": "code",
   "execution_count": 276,
   "id": "f73f3a65",
   "metadata": {},
   "outputs": [],
   "source": [
    "rf_new9=RandomForestClassifier(random_state=56,class_weight={1:0.84,0:0.16},max_depth=40,criterion='entropy')\n",
    "rf_new9.fit(x,y)\n",
    "ypred_78=rf_new9.predict(test_copy3)\n",
    "sub_82=pd.read_csv('~/documents/job_a_thon/sample_submission.csv')\n",
    "sub_82['buy']=ypred_78\n",
    "sub_82.to_csv('sub_82.csv',index=False)"
   ]
  },
  {
   "cell_type": "code",
   "execution_count": 279,
   "id": "6b55fb64",
   "metadata": {},
   "outputs": [],
   "source": [
    "#76.48\n",
    "#Highest uptil now"
   ]
  },
  {
   "cell_type": "code",
   "execution_count": 281,
   "id": "09ef4c62",
   "metadata": {},
   "outputs": [],
   "source": [
    "rf_new10=RandomForestClassifier(random_state=56,class_weight={1:0.84,0:0.16},max_depth=45,criterion='entropy')\n",
    "rf_new10.fit(x,y)\n",
    "ypred_79=rf_new10.predict(test_copy3)\n",
    "sub_83=pd.read_csv('~/documents/job_a_thon/sample_submission.csv')\n",
    "sub_83['buy']=ypred_79\n",
    "sub_83.to_csv('sub_83.csv',index=False)"
   ]
  },
  {
   "cell_type": "code",
   "execution_count": 282,
   "id": "7287d701",
   "metadata": {},
   "outputs": [],
   "source": [
    "#76.2"
   ]
  },
  {
   "cell_type": "code",
   "execution_count": 283,
   "id": "9b3881df",
   "metadata": {},
   "outputs": [],
   "source": [
    "rf_new11=RandomForestClassifier(random_state=56,class_weight={1:0.84,0:0.16},max_depth=50,criterion='entropy')\n",
    "rf_new11.fit(x,y)\n",
    "ypred_80=rf_new11.predict(test_copy3)\n",
    "sub_84=pd.read_csv('~/documents/job_a_thon/sample_submission.csv')\n",
    "sub_84['buy']=ypred_80\n",
    "sub_84.to_csv('sub_84.csv',index=False)"
   ]
  },
  {
   "cell_type": "code",
   "execution_count": 284,
   "id": "c8744f61",
   "metadata": {},
   "outputs": [],
   "source": [
    "#76.27"
   ]
  },
  {
   "cell_type": "code",
   "execution_count": 285,
   "id": "a42524fc",
   "metadata": {},
   "outputs": [],
   "source": [
    "rf_new12=RandomForestClassifier(random_state=56,class_weight={1:0.84,0:0.16},max_depth=55,criterion='entropy')\n",
    "rf_new12.fit(x,y)\n",
    "ypred_81=rf_new12.predict(test_copy3)\n",
    "sub_85=pd.read_csv('~/documents/job_a_thon/sample_submission.csv')\n",
    "sub_85['buy']=ypred_81\n",
    "sub_85.to_csv('sub_85.csv',index=False)"
   ]
  },
  {
   "cell_type": "code",
   "execution_count": 286,
   "id": "171e4c60",
   "metadata": {},
   "outputs": [],
   "source": [
    "#76.27"
   ]
  },
  {
   "cell_type": "code",
   "execution_count": 287,
   "id": "6ddbb675",
   "metadata": {},
   "outputs": [],
   "source": [
    "#stagnating at 76.27"
   ]
  },
  {
   "cell_type": "code",
   "execution_count": 288,
   "id": "41920bf2",
   "metadata": {},
   "outputs": [],
   "source": [
    "rf_new13=RandomForestClassifier(random_state=56,class_weight={1:0.84,0:0.16},max_depth=38,criterion='entropy')\n",
    "rf_new13.fit(x,y)\n",
    "ypred_82=rf_new13.predict(test_copy3)\n",
    "sub_86=pd.read_csv('~/documents/job_a_thon/sample_submission.csv')\n",
    "sub_86['buy']=ypred_82\n",
    "sub_86.to_csv('sub_86.csv',index=False)"
   ]
  },
  {
   "cell_type": "code",
   "execution_count": 289,
   "id": "a523b9c1",
   "metadata": {},
   "outputs": [],
   "source": [
    "#76.05"
   ]
  },
  {
   "cell_type": "code",
   "execution_count": 290,
   "id": "b24bacbc",
   "metadata": {},
   "outputs": [],
   "source": [
    "rf_new14=RandomForestClassifier(random_state=56,class_weight={1:0.84,0:0.16},max_depth=39,criterion='entropy')\n",
    "rf_new14.fit(x,y)\n",
    "ypred_83=rf_new14.predict(test_copy3)\n",
    "sub_87=pd.read_csv('~/documents/job_a_thon/sample_submission.csv')\n",
    "sub_87['buy']=ypred_83\n",
    "sub_87.to_csv('sub_87.csv',index=False)"
   ]
  },
  {
   "cell_type": "code",
   "execution_count": 291,
   "id": "e86633ea",
   "metadata": {},
   "outputs": [],
   "source": [
    "#76.4872"
   ]
  },
  {
   "cell_type": "code",
   "execution_count": 295,
   "id": "2b228cdc",
   "metadata": {},
   "outputs": [],
   "source": [
    "#highest till now"
   ]
  },
  {
   "cell_type": "code",
   "execution_count": 292,
   "id": "33850cd0",
   "metadata": {},
   "outputs": [],
   "source": [
    "rf_new15=RandomForestClassifier(random_state=56,class_weight={1:0.84,0:0.16},max_depth=41,criterion='entropy')\n",
    "rf_new15.fit(x,y)\n",
    "ypred_84=rf_new15.predict(test_copy3)\n",
    "sub_88=pd.read_csv('~/documents/job_a_thon/sample_submission.csv')\n",
    "sub_88['buy']=ypred_84\n",
    "sub_88.to_csv('sub_88.csv',index=False)"
   ]
  },
  {
   "cell_type": "code",
   "execution_count": 293,
   "id": "3273aa3f",
   "metadata": {},
   "outputs": [],
   "source": [
    "#76.27"
   ]
  },
  {
   "cell_type": "code",
   "execution_count": 294,
   "id": "c7e13875",
   "metadata": {},
   "outputs": [],
   "source": [
    "rf_new16=RandomForestClassifier(random_state=56,class_weight={1:0.84,0:0.16},max_depth=42,criterion='entropy')\n",
    "rf_new16.fit(x,y)\n",
    "ypred_85=rf_new16.predict(test_copy3)\n",
    "sub_89=pd.read_csv('~/documents/job_a_thon/sample_submission.csv')\n",
    "sub_89['buy']=ypred_85\n",
    "sub_89.to_csv('sub_89.csv',index=False)"
   ]
  },
  {
   "cell_type": "code",
   "execution_count": 296,
   "id": "85a11d09",
   "metadata": {},
   "outputs": [],
   "source": [
    "#76.27"
   ]
  },
  {
   "cell_type": "code",
   "execution_count": 297,
   "id": "679d7bd6",
   "metadata": {},
   "outputs": [],
   "source": [
    "#lets optimize n_estimators now"
   ]
  },
  {
   "cell_type": "code",
   "execution_count": 298,
   "id": "b89f4c39",
   "metadata": {},
   "outputs": [],
   "source": [
    "rf_new17=RandomForestClassifier(random_state=56,class_weight={1:0.84,0:0.16},max_depth=39,n_estimators=120,criterion='entropy')\n",
    "rf_new17.fit(x,y)\n",
    "ypred_86=rf_new17.predict(test_copy3)\n",
    "sub_90=pd.read_csv('~/documents/job_a_thon/sample_submission.csv')\n",
    "sub_90['buy']=ypred_86\n",
    "sub_90.to_csv('sub_90.csv',index=False)"
   ]
  },
  {
   "cell_type": "code",
   "execution_count": 299,
   "id": "ebef12fb",
   "metadata": {},
   "outputs": [],
   "source": [
    "#0.76"
   ]
  },
  {
   "cell_type": "code",
   "execution_count": 300,
   "id": "7b3e036f",
   "metadata": {},
   "outputs": [],
   "source": [
    "rf_new18=RandomForestClassifier(random_state=56,class_weight={1:0.84,0:0.16},max_depth=39,n_estimators=110,criterion='entropy')\n",
    "rf_new18.fit(x,y)\n",
    "ypred_87=rf_new18.predict(test_copy3)\n",
    "sub_91=pd.read_csv('~/documents/job_a_thon/sample_submission.csv')\n",
    "sub_91['buy']=ypred_87\n",
    "sub_91.to_csv('sub_91.csv',index=False)"
   ]
  },
  {
   "cell_type": "code",
   "execution_count": 301,
   "id": "f2be086a",
   "metadata": {},
   "outputs": [],
   "source": [
    "#0.76.4872"
   ]
  },
  {
   "cell_type": "code",
   "execution_count": 302,
   "id": "27ef3bb7",
   "metadata": {},
   "outputs": [],
   "source": [
    "rf_new19=RandomForestClassifier(random_state=56,class_weight={1:0.84,0:0.16},max_depth=39,n_estimators=90,criterion='entropy')\n",
    "rf_new19.fit(x,y)\n",
    "ypred_88=rf_new19.predict(test_copy3)\n",
    "sub_92=pd.read_csv('~/documents/job_a_thon/sample_submission.csv')\n",
    "sub_92['buy']=ypred_88\n",
    "sub_92.to_csv('sub_92.csv',index=False)"
   ]
  },
  {
   "cell_type": "code",
   "execution_count": 303,
   "id": "075904b1",
   "metadata": {},
   "outputs": [],
   "source": [
    "#0.75"
   ]
  },
  {
   "cell_type": "code",
   "execution_count": 304,
   "id": "aac05cc8",
   "metadata": {},
   "outputs": [],
   "source": [
    "rf_new20=RandomForestClassifier(random_state=56,class_weight={1:0.84,0:0.16},max_depth=39,n_estimators=95,criterion='entropy')\n",
    "rf_new20.fit(x,y)\n",
    "ypred_89=rf_new20.predict(test_copy3)\n",
    "sub_93=pd.read_csv('~/documents/job_a_thon/sample_submission.csv')\n",
    "sub_93['buy']=ypred_89\n",
    "sub_93.to_csv('sub_93.csv',index=False)"
   ]
  },
  {
   "cell_type": "code",
   "execution_count": 305,
   "id": "8662bb40",
   "metadata": {},
   "outputs": [],
   "source": [
    "#0.964"
   ]
  },
  {
   "cell_type": "code",
   "execution_count": 306,
   "id": "d0d94da1",
   "metadata": {},
   "outputs": [],
   "source": [
    "rf_new21=RandomForestClassifier(random_state=56,class_weight={1:0.84,0:0.16},max_depth=39,n_estimators=98,criterion='entropy')\n",
    "rf_new21.fit(x,y)\n",
    "ypred_90=rf_new21.predict(test_copy3)\n",
    "sub_94=pd.read_csv('~/documents/job_a_thon/sample_submission.csv')\n",
    "sub_94['buy']=ypred_90\n",
    "sub_94.to_csv('sub_94.csv',index=False)"
   ]
  },
  {
   "cell_type": "code",
   "execution_count": 307,
   "id": "ea0b0339",
   "metadata": {},
   "outputs": [],
   "source": [
    "#0.7578"
   ]
  },
  {
   "cell_type": "code",
   "execution_count": 308,
   "id": "04ec6984",
   "metadata": {},
   "outputs": [],
   "source": [
    "rf_new22=RandomForestClassifier(random_state=56,class_weight={1:0.84,0:0.16},max_depth=39,n_estimators=99,criterion='entropy')\n",
    "rf_new22.fit(x,y)\n",
    "ypred_90=rf_new22.predict(test_copy3)\n",
    "sub_95=pd.read_csv('~/documents/job_a_thon/sample_submission.csv')\n",
    "sub_95['buy']=ypred_90\n",
    "sub_95.to_csv('sub_95.csv',index=False)"
   ]
  },
  {
   "cell_type": "code",
   "execution_count": 309,
   "id": "93c99123",
   "metadata": {},
   "outputs": [],
   "source": [
    "#0.76.4872"
   ]
  },
  {
   "cell_type": "code",
   "execution_count": 310,
   "id": "8ea436c1",
   "metadata": {},
   "outputs": [],
   "source": [
    "rf_new23=RandomForestClassifier(random_state=56,class_weight={1:0.84,0:0.16},max_depth=39,n_estimators=100,criterion='entropy')\n",
    "rf_new23.fit(x,y)\n",
    "ypred_91=rf_new23.predict(test_copy3)\n",
    "sub_96=pd.read_csv('~/documents/job_a_thon/sample_submission.csv')\n",
    "sub_96['buy']=ypred_91\n",
    "sub_96.to_csv('sub_96.csv',index=False)"
   ]
  },
  {
   "cell_type": "code",
   "execution_count": 311,
   "id": "608c9669",
   "metadata": {},
   "outputs": [],
   "source": [
    "#0.76.4872"
   ]
  },
  {
   "cell_type": "code",
   "execution_count": 312,
   "id": "22e89a54",
   "metadata": {},
   "outputs": [],
   "source": [
    "rf_new24=RandomForestClassifier(random_state=56,class_weight={1:0.84,0:0.16},max_depth=39,n_estimators=102,criterion='entropy')\n",
    "rf_new24.fit(x,y)\n",
    "ypred_92=rf_new24.predict(test_copy3)\n",
    "sub_97=pd.read_csv('~/documents/job_a_thon/sample_submission.csv')\n",
    "sub_97['buy']=ypred_92\n",
    "sub_97.to_csv('sub_97.csv',index=False)"
   ]
  },
  {
   "cell_type": "code",
   "execution_count": 313,
   "id": "eb421c4a",
   "metadata": {},
   "outputs": [],
   "source": [
    "#0.7613"
   ]
  },
  {
   "cell_type": "code",
   "execution_count": 314,
   "id": "2e3259fe",
   "metadata": {},
   "outputs": [],
   "source": [
    "rf_new25=RandomForestClassifier(random_state=56,class_weight={1:0.84,0:0.16},max_depth=39,n_estimators=104,criterion='entropy')\n",
    "rf_new25.fit(x,y)\n",
    "ypred_93=rf_new25.predict(test_copy3)\n",
    "sub_98=pd.read_csv('~/documents/job_a_thon/sample_submission.csv')\n",
    "sub_98['buy']=ypred_93\n",
    "sub_98.to_csv('sub_98.csv',index=False)"
   ]
  },
  {
   "cell_type": "code",
   "execution_count": 315,
   "id": "c2d7b426",
   "metadata": {},
   "outputs": [],
   "source": [
    "#75.92"
   ]
  },
  {
   "cell_type": "code",
   "execution_count": 316,
   "id": "72bb3124",
   "metadata": {},
   "outputs": [],
   "source": [
    "rf_new26=RandomForestClassifier(random_state=56,class_weight={1:0.84,0:0.16},max_depth=39,n_estimators=106,criterion='entropy')\n",
    "rf_new26.fit(x,y)\n",
    "ypred_94=rf_new26.predict(test_copy3)\n",
    "sub_99=pd.read_csv('~/documents/job_a_thon/sample_submission.csv')\n",
    "sub_99['buy']=ypred_94\n",
    "sub_99.to_csv('sub_99.csv',index=False)"
   ]
  },
  {
   "cell_type": "code",
   "execution_count": 317,
   "id": "8f84c8ab",
   "metadata": {},
   "outputs": [],
   "source": [
    "#0.7613"
   ]
  },
  {
   "cell_type": "code",
   "execution_count": 319,
   "id": "80b4aa8a",
   "metadata": {},
   "outputs": [],
   "source": [
    "rf_new27=RandomForestClassifier(random_state=56,class_weight={1:0.84,0:0.16},max_depth=39,n_estimators=108,criterion='entropy')\n",
    "rf_new27.fit(x,y)\n",
    "ypred_95=rf_new27.predict(test_copy3)\n",
    "sub_100=pd.read_csv('~/documents/job_a_thon/sample_submission.csv')\n",
    "sub_100['buy']=ypred_95\n",
    "sub_100.to_csv('sub_100.csv',index=False)"
   ]
  },
  {
   "cell_type": "code",
   "execution_count": 320,
   "id": "8b9b2c13",
   "metadata": {},
   "outputs": [],
   "source": [
    "#75.78"
   ]
  },
  {
   "cell_type": "code",
   "execution_count": 322,
   "id": "6b08d854",
   "metadata": {},
   "outputs": [],
   "source": [
    "rf_new28=RandomForestClassifier(random_state=56,class_weight={1:0.84,0:0.16},max_depth=39,n_estimators=110,criterion='entropy')\n",
    "rf_new28.fit(x,y)\n",
    "ypred_96=rf_new28.predict(test_copy3)\n",
    "sub_101=pd.read_csv('~/documents/job_a_thon/sample_submission.csv')\n",
    "sub_101['buy']=ypred_96\n",
    "sub_101.to_csv('sub_101.csv',index=False)"
   ]
  },
  {
   "cell_type": "code",
   "execution_count": 323,
   "id": "037434e6",
   "metadata": {},
   "outputs": [],
   "source": [
    "#0.7648"
   ]
  },
  {
   "cell_type": "code",
   "execution_count": 324,
   "id": "208c6975",
   "metadata": {},
   "outputs": [],
   "source": [
    "rf_new29=RandomForestClassifier(random_state=56,class_weight={1:0.84,0:0.16},max_depth=39,n_estimators=109,criterion='entropy')\n",
    "rf_new29.fit(x,y)\n",
    "ypred_97=rf_new29.predict(test_copy3)\n",
    "sub_102=pd.read_csv('~/documents/job_a_thon/sample_submission.csv')\n",
    "sub_102['buy']=ypred_97\n",
    "sub_102.to_csv('sub_102.csv',index=False)"
   ]
  },
  {
   "cell_type": "code",
   "execution_count": 325,
   "id": "f943acea",
   "metadata": {},
   "outputs": [],
   "source": [
    "#0.7648"
   ]
  },
  {
   "cell_type": "markdown",
   "id": "e513bb6e",
   "metadata": {},
   "source": [
    "# Final-Model Random Forest Classifier "
   ]
  },
  {
   "cell_type": "code",
   "execution_count": 326,
   "id": "96919022",
   "metadata": {},
   "outputs": [],
   "source": [
    "rf_new30=RandomForestClassifier(random_state=56,class_weight={1:0.84,0:0.16},max_depth=39,n_estimators=111,criterion='entropy')\n",
    "rf_new30.fit(x,y)\n",
    "ypred_98=rf_new30.predict(test_copy3)\n",
    "sub_103=pd.read_csv('~/documents/job_a_thon/sample_submission.csv')\n",
    "sub_103['buy']=ypred_98\n",
    "sub_103.to_csv('sub_103.csv',index=False)"
   ]
  },
  {
   "cell_type": "code",
   "execution_count": 327,
   "id": "bbba57c6",
   "metadata": {},
   "outputs": [],
   "source": [
    "#76.9 Highest uptill now"
   ]
  },
  {
   "cell_type": "code",
   "execution_count": 328,
   "id": "916ffdd4",
   "metadata": {},
   "outputs": [],
   "source": [
    "rf_new31=RandomForestClassifier(random_state=56,class_weight={1:0.84,0:0.16},max_depth=39,n_estimators=112,criterion='entropy')\n",
    "rf_new31.fit(x,y)\n",
    "ypred_99=rf_new31.predict(test_copy3)\n",
    "sub_104=pd.read_csv('~/documents/job_a_thon/sample_submission.csv')\n",
    "sub_104['buy']=ypred_99\n",
    "sub_104.to_csv('sub_104.csv',index=False)"
   ]
  },
  {
   "cell_type": "code",
   "execution_count": 330,
   "id": "6f4361fe",
   "metadata": {},
   "outputs": [],
   "source": [
    "#76.4872 "
   ]
  },
  {
   "cell_type": "code",
   "execution_count": 331,
   "id": "0f044119",
   "metadata": {},
   "outputs": [],
   "source": [
    "rf_new32=RandomForestClassifier(random_state=56,class_weight={1:0.84,0:0.16},max_depth=39,n_estimators=113,criterion='entropy')\n",
    "rf_new32.fit(x,y)\n",
    "ypred_101=rf_new32.predict(test_copy3)\n",
    "sub_105=pd.read_csv('~/documents/job_a_thon/sample_submission.csv')\n",
    "sub_105['buy']=ypred_101\n",
    "sub_105.to_csv('sub_105.csv',index=False)"
   ]
  },
  {
   "cell_type": "code",
   "execution_count": 332,
   "id": "1d8edd78",
   "metadata": {},
   "outputs": [],
   "source": [
    "#76.4872 "
   ]
  },
  {
   "cell_type": "code",
   "execution_count": 333,
   "id": "5d95f243",
   "metadata": {},
   "outputs": [],
   "source": [
    "rf_new33=RandomForestClassifier(random_state=56,class_weight={1:0.84,0:0.16},max_depth=39,n_estimators=115,criterion='entropy')\n",
    "rf_new33.fit(x,y)\n",
    "ypred_102=rf_new33.predict(test_copy3)\n",
    "sub_106=pd.read_csv('~/documents/job_a_thon/sample_submission.csv')\n",
    "sub_106['buy']=ypred_102\n",
    "sub_106.to_csv('sub_106.csv',index=False)"
   ]
  },
  {
   "cell_type": "code",
   "execution_count": 334,
   "id": "4a7baaca",
   "metadata": {},
   "outputs": [],
   "source": [
    "#76.4872 "
   ]
  },
  {
   "cell_type": "code",
   "execution_count": 340,
   "id": "2dc75de1",
   "metadata": {},
   "outputs": [
    {
     "name": "stdout",
     "output_type": "stream",
     "text": [
      "train_mean 0.999749519913167\n",
      "train_std 0.0003124035557129114\n",
      "test_mean 0.6672242351997214\n",
      "test_std 0.033192558746885384\n",
      "confusion_matrix_test \n",
      " [[7419   10]\n",
      " [ 225  179]] \n",
      "\n",
      "classification_report_test \n",
      "               precision    recall  f1-score   support\n",
      "\n",
      "           0       0.97      1.00      0.98      7429\n",
      "           1       0.95      0.44      0.60       404\n",
      "\n",
      "    accuracy                           0.97      7833\n",
      "   macro avg       0.96      0.72      0.79      7833\n",
      "weighted avg       0.97      0.97      0.96      7833\n",
      " \n",
      "\n",
      "confusion_matrix_train \n",
      " [[29734     0]\n",
      " [    0  1594]] \n",
      "\n",
      "classification_report_train \n",
      "               precision    recall  f1-score   support\n",
      "\n",
      "           0       1.00      1.00      1.00     29734\n",
      "           1       1.00      1.00      1.00      1594\n",
      "\n",
      "    accuracy                           1.00     31328\n",
      "   macro avg       1.00      1.00      1.00     31328\n",
      "weighted avg       1.00      1.00      1.00     31328\n",
      " \n",
      "\n",
      "roc_auc_score_train \n",
      " roc_auc_score 1.0 \n",
      "\n",
      "roc_auc_score_test \n",
      " roc_auc_score 0.7208616153713904 \n",
      "\n"
     ]
    }
   ],
   "source": [
    "rf_output_new(x,y,classweight={1:0.84,0:0.16},n_estimators=115,max_depth=39)"
   ]
  },
  {
   "cell_type": "code",
   "execution_count": 341,
   "id": "ea764f72",
   "metadata": {},
   "outputs": [
    {
     "data": {
      "text/html": [
       "<div>\n",
       "<style scoped>\n",
       "    .dataframe tbody tr th:only-of-type {\n",
       "        vertical-align: middle;\n",
       "    }\n",
       "\n",
       "    .dataframe tbody tr th {\n",
       "        vertical-align: top;\n",
       "    }\n",
       "\n",
       "    .dataframe thead th {\n",
       "        text-align: right;\n",
       "    }\n",
       "</style>\n",
       "<table border=\"1\" class=\"dataframe\">\n",
       "  <thead>\n",
       "    <tr style=\"text-align: right;\">\n",
       "      <th></th>\n",
       "      <th>id</th>\n",
       "      <th>campaign_var_1</th>\n",
       "      <th>campaign_var_2</th>\n",
       "      <th>products_purchased</th>\n",
       "      <th>user_activity_var_1</th>\n",
       "      <th>user_activity_var_2</th>\n",
       "      <th>user_activity_var_3</th>\n",
       "      <th>user_activity_var_4</th>\n",
       "      <th>user_activity_var_5</th>\n",
       "      <th>user_activity_var_6</th>\n",
       "      <th>...</th>\n",
       "      <th>user_activity_var_10</th>\n",
       "      <th>user_activity_var_11</th>\n",
       "      <th>user_activity_var_12</th>\n",
       "      <th>signup_day</th>\n",
       "      <th>signup_year</th>\n",
       "      <th>signup_month</th>\n",
       "      <th>created_at_day</th>\n",
       "      <th>created_at_month</th>\n",
       "      <th>created_at_year</th>\n",
       "      <th>buy</th>\n",
       "    </tr>\n",
       "  </thead>\n",
       "  <tbody>\n",
       "    <tr>\n",
       "      <th>0</th>\n",
       "      <td>1.0</td>\n",
       "      <td>1.0</td>\n",
       "      <td>2.0</td>\n",
       "      <td>2.00000</td>\n",
       "      <td>0.0</td>\n",
       "      <td>0.0</td>\n",
       "      <td>0.0</td>\n",
       "      <td>0.0</td>\n",
       "      <td>0.0</td>\n",
       "      <td>0.0</td>\n",
       "      <td>...</td>\n",
       "      <td>0.0</td>\n",
       "      <td>0.0</td>\n",
       "      <td>0.0</td>\n",
       "      <td>24.0</td>\n",
       "      <td>2020.0</td>\n",
       "      <td>9.0</td>\n",
       "      <td>1.0</td>\n",
       "      <td>1.0</td>\n",
       "      <td>2021.0</td>\n",
       "      <td>0</td>\n",
       "    </tr>\n",
       "    <tr>\n",
       "      <th>1</th>\n",
       "      <td>2.0</td>\n",
       "      <td>2.0</td>\n",
       "      <td>1.0</td>\n",
       "      <td>2.00000</td>\n",
       "      <td>1.0</td>\n",
       "      <td>0.0</td>\n",
       "      <td>1.0</td>\n",
       "      <td>0.0</td>\n",
       "      <td>0.0</td>\n",
       "      <td>0.0</td>\n",
       "      <td>...</td>\n",
       "      <td>0.0</td>\n",
       "      <td>0.0</td>\n",
       "      <td>0.0</td>\n",
       "      <td>19.0</td>\n",
       "      <td>2020.0</td>\n",
       "      <td>9.0</td>\n",
       "      <td>1.0</td>\n",
       "      <td>1.0</td>\n",
       "      <td>2021.0</td>\n",
       "      <td>0</td>\n",
       "    </tr>\n",
       "    <tr>\n",
       "      <th>2</th>\n",
       "      <td>3.0</td>\n",
       "      <td>9.0</td>\n",
       "      <td>3.0</td>\n",
       "      <td>3.00000</td>\n",
       "      <td>1.0</td>\n",
       "      <td>0.0</td>\n",
       "      <td>0.0</td>\n",
       "      <td>0.0</td>\n",
       "      <td>0.0</td>\n",
       "      <td>0.0</td>\n",
       "      <td>...</td>\n",
       "      <td>0.0</td>\n",
       "      <td>0.0</td>\n",
       "      <td>0.0</td>\n",
       "      <td>11.0</td>\n",
       "      <td>2021.0</td>\n",
       "      <td>8.0</td>\n",
       "      <td>1.0</td>\n",
       "      <td>1.0</td>\n",
       "      <td>2021.0</td>\n",
       "      <td>0</td>\n",
       "    </tr>\n",
       "    <tr>\n",
       "      <th>3</th>\n",
       "      <td>4.0</td>\n",
       "      <td>6.0</td>\n",
       "      <td>7.0</td>\n",
       "      <td>2.00000</td>\n",
       "      <td>0.0</td>\n",
       "      <td>0.0</td>\n",
       "      <td>0.0</td>\n",
       "      <td>0.0</td>\n",
       "      <td>0.0</td>\n",
       "      <td>0.0</td>\n",
       "      <td>...</td>\n",
       "      <td>0.0</td>\n",
       "      <td>0.0</td>\n",
       "      <td>0.0</td>\n",
       "      <td>4.0</td>\n",
       "      <td>2017.0</td>\n",
       "      <td>10.0</td>\n",
       "      <td>1.0</td>\n",
       "      <td>1.0</td>\n",
       "      <td>2021.0</td>\n",
       "      <td>0</td>\n",
       "    </tr>\n",
       "    <tr>\n",
       "      <th>4</th>\n",
       "      <td>5.0</td>\n",
       "      <td>4.0</td>\n",
       "      <td>6.0</td>\n",
       "      <td>2.23784</td>\n",
       "      <td>0.0</td>\n",
       "      <td>0.0</td>\n",
       "      <td>0.0</td>\n",
       "      <td>0.0</td>\n",
       "      <td>0.0</td>\n",
       "      <td>0.0</td>\n",
       "      <td>...</td>\n",
       "      <td>0.0</td>\n",
       "      <td>1.0</td>\n",
       "      <td>0.0</td>\n",
       "      <td>8.0</td>\n",
       "      <td>2020.0</td>\n",
       "      <td>6.0</td>\n",
       "      <td>1.0</td>\n",
       "      <td>1.0</td>\n",
       "      <td>2021.0</td>\n",
       "      <td>0</td>\n",
       "    </tr>\n",
       "  </tbody>\n",
       "</table>\n",
       "<p>5 rows × 23 columns</p>\n",
       "</div>"
      ],
      "text/plain": [
       "    id  campaign_var_1  campaign_var_2  products_purchased  \\\n",
       "0  1.0             1.0             2.0             2.00000   \n",
       "1  2.0             2.0             1.0             2.00000   \n",
       "2  3.0             9.0             3.0             3.00000   \n",
       "3  4.0             6.0             7.0             2.00000   \n",
       "4  5.0             4.0             6.0             2.23784   \n",
       "\n",
       "   user_activity_var_1  user_activity_var_2  user_activity_var_3  \\\n",
       "0                  0.0                  0.0                  0.0   \n",
       "1                  1.0                  0.0                  1.0   \n",
       "2                  1.0                  0.0                  0.0   \n",
       "3                  0.0                  0.0                  0.0   \n",
       "4                  0.0                  0.0                  0.0   \n",
       "\n",
       "   user_activity_var_4  user_activity_var_5  user_activity_var_6  ...  \\\n",
       "0                  0.0                  0.0                  0.0  ...   \n",
       "1                  0.0                  0.0                  0.0  ...   \n",
       "2                  0.0                  0.0                  0.0  ...   \n",
       "3                  0.0                  0.0                  0.0  ...   \n",
       "4                  0.0                  0.0                  0.0  ...   \n",
       "\n",
       "   user_activity_var_10  user_activity_var_11  user_activity_var_12  \\\n",
       "0                   0.0                   0.0                   0.0   \n",
       "1                   0.0                   0.0                   0.0   \n",
       "2                   0.0                   0.0                   0.0   \n",
       "3                   0.0                   0.0                   0.0   \n",
       "4                   0.0                   1.0                   0.0   \n",
       "\n",
       "   signup_day  signup_year  signup_month  created_at_day  created_at_month  \\\n",
       "0        24.0       2020.0           9.0             1.0               1.0   \n",
       "1        19.0       2020.0           9.0             1.0               1.0   \n",
       "2        11.0       2021.0           8.0             1.0               1.0   \n",
       "3         4.0       2017.0          10.0             1.0               1.0   \n",
       "4         8.0       2020.0           6.0             1.0               1.0   \n",
       "\n",
       "   created_at_year  buy  \n",
       "0           2021.0    0  \n",
       "1           2021.0    0  \n",
       "2           2021.0    0  \n",
       "3           2021.0    0  \n",
       "4           2021.0    0  \n",
       "\n",
       "[5 rows x 23 columns]"
      ]
     },
     "execution_count": 341,
     "metadata": {},
     "output_type": "execute_result"
    }
   ],
   "source": [
    "train_copy3.head()"
   ]
  },
  {
   "cell_type": "markdown",
   "id": "a043ac3f",
   "metadata": {},
   "source": [
    "# Feature Extraction "
   ]
  },
  {
   "cell_type": "code",
   "execution_count": 352,
   "id": "29b1a53a",
   "metadata": {},
   "outputs": [],
   "source": [
    "train_copy6=train_copy3.copy()\n",
    "test_copy6=test_copy3.copy()"
   ]
  },
  {
   "cell_type": "code",
   "execution_count": 353,
   "id": "716a9e31",
   "metadata": {},
   "outputs": [
    {
     "data": {
      "text/html": [
       "<div>\n",
       "<style scoped>\n",
       "    .dataframe tbody tr th:only-of-type {\n",
       "        vertical-align: middle;\n",
       "    }\n",
       "\n",
       "    .dataframe tbody tr th {\n",
       "        vertical-align: top;\n",
       "    }\n",
       "\n",
       "    .dataframe thead th {\n",
       "        text-align: right;\n",
       "    }\n",
       "</style>\n",
       "<table border=\"1\" class=\"dataframe\">\n",
       "  <thead>\n",
       "    <tr style=\"text-align: right;\">\n",
       "      <th></th>\n",
       "      <th>id</th>\n",
       "      <th>campaign_var_1</th>\n",
       "      <th>campaign_var_2</th>\n",
       "      <th>products_purchased</th>\n",
       "      <th>user_activity_var_1</th>\n",
       "      <th>user_activity_var_2</th>\n",
       "      <th>user_activity_var_3</th>\n",
       "      <th>user_activity_var_4</th>\n",
       "      <th>user_activity_var_5</th>\n",
       "      <th>user_activity_var_6</th>\n",
       "      <th>...</th>\n",
       "      <th>user_activity_var_9</th>\n",
       "      <th>user_activity_var_10</th>\n",
       "      <th>user_activity_var_11</th>\n",
       "      <th>user_activity_var_12</th>\n",
       "      <th>signup_day</th>\n",
       "      <th>signup_year</th>\n",
       "      <th>signup_month</th>\n",
       "      <th>created_at_day</th>\n",
       "      <th>created_at_month</th>\n",
       "      <th>created_at_year</th>\n",
       "    </tr>\n",
       "  </thead>\n",
       "  <tbody>\n",
       "    <tr>\n",
       "      <th>0</th>\n",
       "      <td>1.0</td>\n",
       "      <td>1.0</td>\n",
       "      <td>2.0</td>\n",
       "      <td>2.00000</td>\n",
       "      <td>0.0</td>\n",
       "      <td>0.0</td>\n",
       "      <td>0.0</td>\n",
       "      <td>0.0</td>\n",
       "      <td>0.0</td>\n",
       "      <td>0.0</td>\n",
       "      <td>...</td>\n",
       "      <td>0.0</td>\n",
       "      <td>0.0</td>\n",
       "      <td>0.0</td>\n",
       "      <td>0.0</td>\n",
       "      <td>24.0</td>\n",
       "      <td>2020.0</td>\n",
       "      <td>9.0</td>\n",
       "      <td>1.0</td>\n",
       "      <td>1.0</td>\n",
       "      <td>2021.0</td>\n",
       "    </tr>\n",
       "    <tr>\n",
       "      <th>1</th>\n",
       "      <td>2.0</td>\n",
       "      <td>2.0</td>\n",
       "      <td>1.0</td>\n",
       "      <td>2.00000</td>\n",
       "      <td>1.0</td>\n",
       "      <td>0.0</td>\n",
       "      <td>1.0</td>\n",
       "      <td>0.0</td>\n",
       "      <td>0.0</td>\n",
       "      <td>0.0</td>\n",
       "      <td>...</td>\n",
       "      <td>0.0</td>\n",
       "      <td>0.0</td>\n",
       "      <td>0.0</td>\n",
       "      <td>0.0</td>\n",
       "      <td>19.0</td>\n",
       "      <td>2020.0</td>\n",
       "      <td>9.0</td>\n",
       "      <td>1.0</td>\n",
       "      <td>1.0</td>\n",
       "      <td>2021.0</td>\n",
       "    </tr>\n",
       "    <tr>\n",
       "      <th>2</th>\n",
       "      <td>3.0</td>\n",
       "      <td>9.0</td>\n",
       "      <td>3.0</td>\n",
       "      <td>3.00000</td>\n",
       "      <td>1.0</td>\n",
       "      <td>0.0</td>\n",
       "      <td>0.0</td>\n",
       "      <td>0.0</td>\n",
       "      <td>0.0</td>\n",
       "      <td>0.0</td>\n",
       "      <td>...</td>\n",
       "      <td>0.0</td>\n",
       "      <td>0.0</td>\n",
       "      <td>0.0</td>\n",
       "      <td>0.0</td>\n",
       "      <td>11.0</td>\n",
       "      <td>2021.0</td>\n",
       "      <td>8.0</td>\n",
       "      <td>1.0</td>\n",
       "      <td>1.0</td>\n",
       "      <td>2021.0</td>\n",
       "    </tr>\n",
       "    <tr>\n",
       "      <th>3</th>\n",
       "      <td>4.0</td>\n",
       "      <td>6.0</td>\n",
       "      <td>7.0</td>\n",
       "      <td>2.00000</td>\n",
       "      <td>0.0</td>\n",
       "      <td>0.0</td>\n",
       "      <td>0.0</td>\n",
       "      <td>0.0</td>\n",
       "      <td>0.0</td>\n",
       "      <td>0.0</td>\n",
       "      <td>...</td>\n",
       "      <td>0.0</td>\n",
       "      <td>0.0</td>\n",
       "      <td>0.0</td>\n",
       "      <td>0.0</td>\n",
       "      <td>4.0</td>\n",
       "      <td>2017.0</td>\n",
       "      <td>10.0</td>\n",
       "      <td>1.0</td>\n",
       "      <td>1.0</td>\n",
       "      <td>2021.0</td>\n",
       "    </tr>\n",
       "    <tr>\n",
       "      <th>4</th>\n",
       "      <td>5.0</td>\n",
       "      <td>4.0</td>\n",
       "      <td>6.0</td>\n",
       "      <td>2.23784</td>\n",
       "      <td>0.0</td>\n",
       "      <td>0.0</td>\n",
       "      <td>0.0</td>\n",
       "      <td>0.0</td>\n",
       "      <td>0.0</td>\n",
       "      <td>0.0</td>\n",
       "      <td>...</td>\n",
       "      <td>0.0</td>\n",
       "      <td>0.0</td>\n",
       "      <td>1.0</td>\n",
       "      <td>0.0</td>\n",
       "      <td>8.0</td>\n",
       "      <td>2020.0</td>\n",
       "      <td>6.0</td>\n",
       "      <td>1.0</td>\n",
       "      <td>1.0</td>\n",
       "      <td>2021.0</td>\n",
       "    </tr>\n",
       "  </tbody>\n",
       "</table>\n",
       "<p>5 rows × 22 columns</p>\n",
       "</div>"
      ],
      "text/plain": [
       "    id  campaign_var_1  campaign_var_2  products_purchased  \\\n",
       "0  1.0             1.0             2.0             2.00000   \n",
       "1  2.0             2.0             1.0             2.00000   \n",
       "2  3.0             9.0             3.0             3.00000   \n",
       "3  4.0             6.0             7.0             2.00000   \n",
       "4  5.0             4.0             6.0             2.23784   \n",
       "\n",
       "   user_activity_var_1  user_activity_var_2  user_activity_var_3  \\\n",
       "0                  0.0                  0.0                  0.0   \n",
       "1                  1.0                  0.0                  1.0   \n",
       "2                  1.0                  0.0                  0.0   \n",
       "3                  0.0                  0.0                  0.0   \n",
       "4                  0.0                  0.0                  0.0   \n",
       "\n",
       "   user_activity_var_4  user_activity_var_5  user_activity_var_6  ...  \\\n",
       "0                  0.0                  0.0                  0.0  ...   \n",
       "1                  0.0                  0.0                  0.0  ...   \n",
       "2                  0.0                  0.0                  0.0  ...   \n",
       "3                  0.0                  0.0                  0.0  ...   \n",
       "4                  0.0                  0.0                  0.0  ...   \n",
       "\n",
       "   user_activity_var_9  user_activity_var_10  user_activity_var_11  \\\n",
       "0                  0.0                   0.0                   0.0   \n",
       "1                  0.0                   0.0                   0.0   \n",
       "2                  0.0                   0.0                   0.0   \n",
       "3                  0.0                   0.0                   0.0   \n",
       "4                  0.0                   0.0                   1.0   \n",
       "\n",
       "   user_activity_var_12  signup_day  signup_year  signup_month  \\\n",
       "0                   0.0        24.0       2020.0           9.0   \n",
       "1                   0.0        19.0       2020.0           9.0   \n",
       "2                   0.0        11.0       2021.0           8.0   \n",
       "3                   0.0         4.0       2017.0          10.0   \n",
       "4                   0.0         8.0       2020.0           6.0   \n",
       "\n",
       "   created_at_day  created_at_month  created_at_year  \n",
       "0             1.0               1.0           2021.0  \n",
       "1             1.0               1.0           2021.0  \n",
       "2             1.0               1.0           2021.0  \n",
       "3             1.0               1.0           2021.0  \n",
       "4             1.0               1.0           2021.0  \n",
       "\n",
       "[5 rows x 22 columns]"
      ]
     },
     "execution_count": 353,
     "metadata": {},
     "output_type": "execute_result"
    }
   ],
   "source": [
    "train_copy6.head()"
   ]
  },
  {
   "cell_type": "code",
   "execution_count": 355,
   "id": "e9662f09",
   "metadata": {},
   "outputs": [],
   "source": [
    "train_copy6['campaign_total']=train_copy3['campaign_var_1']+train_copy3['campaign_var_2']"
   ]
  },
  {
   "cell_type": "code",
   "execution_count": 354,
   "id": "67c12dc8",
   "metadata": {},
   "outputs": [],
   "source": [
    "test_copy6['campaign_total']=test_copy3['campaign_var_1']+test_copy3['campaign_var_2']"
   ]
  },
  {
   "cell_type": "code",
   "execution_count": 357,
   "id": "84b7eaae",
   "metadata": {},
   "outputs": [],
   "source": [
    "x_new=train_copy6\n",
    "y_new=train['buy']"
   ]
  },
  {
   "cell_type": "code",
   "execution_count": 358,
   "id": "23392644",
   "metadata": {},
   "outputs": [
    {
     "name": "stdout",
     "output_type": "stream",
     "text": [
      "train_mean 0.999749519913167\n",
      "train_std 0.0003124035557129114\n",
      "test_mean 0.671344030933989\n",
      "test_std 0.02659560634942588\n",
      "confusion_matrix_test \n",
      " [[7420    9]\n",
      " [ 228  176]] \n",
      "\n",
      "classification_report_test \n",
      "               precision    recall  f1-score   support\n",
      "\n",
      "           0       0.97      1.00      0.98      7429\n",
      "           1       0.95      0.44      0.60       404\n",
      "\n",
      "    accuracy                           0.97      7833\n",
      "   macro avg       0.96      0.72      0.79      7833\n",
      "weighted avg       0.97      0.97      0.96      7833\n",
      " \n",
      "\n",
      "confusion_matrix_train \n",
      " [[29734     0]\n",
      " [    0  1594]] \n",
      "\n",
      "classification_report_train \n",
      "               precision    recall  f1-score   support\n",
      "\n",
      "           0       1.00      1.00      1.00     29734\n",
      "           1       1.00      1.00      1.00      1594\n",
      "\n",
      "    accuracy                           1.00     31328\n",
      "   macro avg       1.00      1.00      1.00     31328\n",
      "weighted avg       1.00      1.00      1.00     31328\n",
      " \n",
      "\n",
      "roc_auc_score_train \n",
      " roc_auc_score 1.0 \n",
      "\n",
      "roc_auc_score_test \n",
      " roc_auc_score 0.7172160478936572 \n",
      "\n"
     ]
    }
   ],
   "source": [
    "rf_output_new(x_new,y_new,classweight={1:0.84,0:0.16},n_estimators=115,max_depth=39)"
   ]
  },
  {
   "cell_type": "code",
   "execution_count": 360,
   "id": "0175666c",
   "metadata": {},
   "outputs": [],
   "source": [
    "#lets submit this"
   ]
  },
  {
   "cell_type": "code",
   "execution_count": 361,
   "id": "79eb466f",
   "metadata": {},
   "outputs": [],
   "source": [
    "rf_new34=RandomForestClassifier(random_state=56,class_weight={1:0.84,0:0.16},max_depth=39,n_estimators=115,criterion='entropy')\n",
    "rf_new34.fit(x_new,y_new)\n",
    "ypred_103=rf_new34.predict(test_copy6)\n",
    "sub_107=pd.read_csv('~/documents/job_a_thon/sample_submission.csv')\n",
    "sub_107['buy']=ypred_103\n",
    "sub_107.to_csv('sub_107.csv',index=False)"
   ]
  },
  {
   "cell_type": "code",
   "execution_count": 365,
   "id": "78b8f574",
   "metadata": {},
   "outputs": [
    {
     "data": {
      "text/plain": [
       "array([0.06370271, 0.04091658, 0.04116147, 0.05324899, 0.01531   ,\n",
       "       0.05672695, 0.00554854, 0.08187516, 0.04040205, 0.01315158,\n",
       "       0.00969648, 0.02848854, 0.11006437, 0.00108798, 0.1114154 ,\n",
       "       0.00113739, 0.07758001, 0.05421003, 0.06855871, 0.04912093,\n",
       "       0.03254845, 0.        , 0.04404768])"
      ]
     },
     "execution_count": 365,
     "metadata": {},
     "output_type": "execute_result"
    }
   ],
   "source": [
    "rf_new34.feature_importances_"
   ]
  },
  {
   "cell_type": "code",
   "execution_count": 371,
   "id": "0f8b8a07",
   "metadata": {},
   "outputs": [],
   "source": [
    "importance=pd.DataFrame(rf_new34.feature_importances_*100,index=x_new.columns,columns=['imp'])"
   ]
  },
  {
   "cell_type": "code",
   "execution_count": 376,
   "id": "1d3e4012",
   "metadata": {},
   "outputs": [
    {
     "data": {
      "text/html": [
       "<div>\n",
       "<style scoped>\n",
       "    .dataframe tbody tr th:only-of-type {\n",
       "        vertical-align: middle;\n",
       "    }\n",
       "\n",
       "    .dataframe tbody tr th {\n",
       "        vertical-align: top;\n",
       "    }\n",
       "\n",
       "    .dataframe thead th {\n",
       "        text-align: right;\n",
       "    }\n",
       "</style>\n",
       "<table border=\"1\" class=\"dataframe\">\n",
       "  <thead>\n",
       "    <tr style=\"text-align: right;\">\n",
       "      <th></th>\n",
       "      <th>imp</th>\n",
       "    </tr>\n",
       "  </thead>\n",
       "  <tbody>\n",
       "    <tr>\n",
       "      <th>user_activity_var_11</th>\n",
       "      <td>11.141540</td>\n",
       "    </tr>\n",
       "    <tr>\n",
       "      <th>user_activity_var_9</th>\n",
       "      <td>11.006437</td>\n",
       "    </tr>\n",
       "    <tr>\n",
       "      <th>user_activity_var_4</th>\n",
       "      <td>8.187516</td>\n",
       "    </tr>\n",
       "    <tr>\n",
       "      <th>signup_day</th>\n",
       "      <td>7.758001</td>\n",
       "    </tr>\n",
       "    <tr>\n",
       "      <th>signup_month</th>\n",
       "      <td>6.855871</td>\n",
       "    </tr>\n",
       "    <tr>\n",
       "      <th>id</th>\n",
       "      <td>6.370271</td>\n",
       "    </tr>\n",
       "    <tr>\n",
       "      <th>user_activity_var_2</th>\n",
       "      <td>5.672695</td>\n",
       "    </tr>\n",
       "    <tr>\n",
       "      <th>signup_year</th>\n",
       "      <td>5.421003</td>\n",
       "    </tr>\n",
       "    <tr>\n",
       "      <th>products_purchased</th>\n",
       "      <td>5.324899</td>\n",
       "    </tr>\n",
       "    <tr>\n",
       "      <th>created_at_day</th>\n",
       "      <td>4.912093</td>\n",
       "    </tr>\n",
       "    <tr>\n",
       "      <th>campaign_total</th>\n",
       "      <td>4.404768</td>\n",
       "    </tr>\n",
       "    <tr>\n",
       "      <th>campaign_var_2</th>\n",
       "      <td>4.116147</td>\n",
       "    </tr>\n",
       "    <tr>\n",
       "      <th>campaign_var_1</th>\n",
       "      <td>4.091658</td>\n",
       "    </tr>\n",
       "    <tr>\n",
       "      <th>user_activity_var_5</th>\n",
       "      <td>4.040205</td>\n",
       "    </tr>\n",
       "    <tr>\n",
       "      <th>created_at_month</th>\n",
       "      <td>3.254845</td>\n",
       "    </tr>\n",
       "    <tr>\n",
       "      <th>user_activity_var_8</th>\n",
       "      <td>2.848854</td>\n",
       "    </tr>\n",
       "    <tr>\n",
       "      <th>user_activity_var_1</th>\n",
       "      <td>1.531000</td>\n",
       "    </tr>\n",
       "    <tr>\n",
       "      <th>user_activity_var_6</th>\n",
       "      <td>1.315158</td>\n",
       "    </tr>\n",
       "    <tr>\n",
       "      <th>user_activity_var_7</th>\n",
       "      <td>0.969648</td>\n",
       "    </tr>\n",
       "    <tr>\n",
       "      <th>user_activity_var_3</th>\n",
       "      <td>0.554854</td>\n",
       "    </tr>\n",
       "    <tr>\n",
       "      <th>user_activity_var_12</th>\n",
       "      <td>0.113739</td>\n",
       "    </tr>\n",
       "    <tr>\n",
       "      <th>user_activity_var_10</th>\n",
       "      <td>0.108798</td>\n",
       "    </tr>\n",
       "    <tr>\n",
       "      <th>created_at_year</th>\n",
       "      <td>0.000000</td>\n",
       "    </tr>\n",
       "  </tbody>\n",
       "</table>\n",
       "</div>"
      ],
      "text/plain": [
       "                            imp\n",
       "user_activity_var_11  11.141540\n",
       "user_activity_var_9   11.006437\n",
       "user_activity_var_4    8.187516\n",
       "signup_day             7.758001\n",
       "signup_month           6.855871\n",
       "id                     6.370271\n",
       "user_activity_var_2    5.672695\n",
       "signup_year            5.421003\n",
       "products_purchased     5.324899\n",
       "created_at_day         4.912093\n",
       "campaign_total         4.404768\n",
       "campaign_var_2         4.116147\n",
       "campaign_var_1         4.091658\n",
       "user_activity_var_5    4.040205\n",
       "created_at_month       3.254845\n",
       "user_activity_var_8    2.848854\n",
       "user_activity_var_1    1.531000\n",
       "user_activity_var_6    1.315158\n",
       "user_activity_var_7    0.969648\n",
       "user_activity_var_3    0.554854\n",
       "user_activity_var_12   0.113739\n",
       "user_activity_var_10   0.108798\n",
       "created_at_year        0.000000"
      ]
     },
     "execution_count": 376,
     "metadata": {},
     "output_type": "execute_result"
    }
   ],
   "source": [
    "importance.sort_values(by='imp',ascending=False)"
   ]
  },
  {
   "cell_type": "code",
   "execution_count": 362,
   "id": "e94c343e",
   "metadata": {},
   "outputs": [],
   "source": [
    "#score 72.4"
   ]
  },
  {
   "cell_type": "code",
   "execution_count": 391,
   "id": "bc533062",
   "metadata": {},
   "outputs": [],
   "source": [
    "#This is base model before any feature extraction implementation"
   ]
  },
  {
   "cell_type": "code",
   "execution_count": 387,
   "id": "5b5c89c5",
   "metadata": {},
   "outputs": [
    {
     "name": "stdout",
     "output_type": "stream",
     "text": [
      "train_mean 0.8543238934348355\n",
      "train_std 0.005117963947958689\n",
      "test_mean 0.6750865389697015\n",
      "test_std 0.018932811160464254\n",
      "confusion_matrix_test \n",
      " [[7405   24]\n",
      " [ 212  192]] \n",
      "\n",
      "classification_report_test \n",
      "               precision    recall  f1-score   support\n",
      "\n",
      "           0       0.97      1.00      0.98      7429\n",
      "           1       0.89      0.48      0.62       404\n",
      "\n",
      "    accuracy                           0.97      7833\n",
      "   macro avg       0.93      0.74      0.80      7833\n",
      "weighted avg       0.97      0.97      0.97      7833\n",
      " \n",
      "\n",
      "confusion_matrix_train \n",
      " [[29727     7]\n",
      " [  358  1236]] \n",
      "\n",
      "classification_report_train \n",
      "               precision    recall  f1-score   support\n",
      "\n",
      "           0       0.99      1.00      0.99     29734\n",
      "           1       0.99      0.78      0.87      1594\n",
      "\n",
      "    accuracy                           0.99     31328\n",
      "   macro avg       0.99      0.89      0.93     31328\n",
      "weighted avg       0.99      0.99      0.99     31328\n",
      " \n",
      "\n",
      "roc_auc_score_train \n",
      " roc_auc_score 0.8875861792207088 \n",
      "\n",
      "roc_auc_score_test \n",
      " roc_auc_score 0.736008470950743 \n",
      "\n"
     ]
    }
   ],
   "source": [
    "rf_output_new(x,y,classweight={1:0.84,0:0.16},n_estimators=100,max_depth=16)"
   ]
  },
  {
   "cell_type": "code",
   "execution_count": 389,
   "id": "3b851754",
   "metadata": {},
   "outputs": [
    {
     "name": "stdout",
     "output_type": "stream",
     "text": [
      "train_mean 0.8564632794758735\n",
      "train_std 0.009528141659474023\n",
      "test_mean 0.669567231300498\n",
      "test_std 0.023455422012037343\n",
      "confusion_matrix_test \n",
      " [[7407   22]\n",
      " [ 218  186]] \n",
      "\n",
      "classification_report_test \n",
      "               precision    recall  f1-score   support\n",
      "\n",
      "           0       0.97      1.00      0.98      7429\n",
      "           1       0.89      0.46      0.61       404\n",
      "\n",
      "    accuracy                           0.97      7833\n",
      "   macro avg       0.93      0.73      0.80      7833\n",
      "weighted avg       0.97      0.97      0.96      7833\n",
      " \n",
      "\n",
      "confusion_matrix_train \n",
      " [[29728     6]\n",
      " [  357  1237]] \n",
      "\n",
      "classification_report_train \n",
      "               precision    recall  f1-score   support\n",
      "\n",
      "           0       0.99      1.00      0.99     29734\n",
      "           1       1.00      0.78      0.87      1594\n",
      "\n",
      "    accuracy                           0.99     31328\n",
      "   macro avg       0.99      0.89      0.93     31328\n",
      "weighted avg       0.99      0.99      0.99     31328\n",
      " \n",
      "\n",
      "roc_auc_score_train \n",
      " roc_auc_score 0.8879166712732443 \n",
      "\n",
      "roc_auc_score_test \n",
      " roc_auc_score 0.7287173359952768 \n",
      "\n"
     ]
    }
   ],
   "source": [
    "rf_output_new(x_new,y_new,classweight={1:0.84,0:0.16},n_estimators=100,max_depth=16)"
   ]
  },
  {
   "cell_type": "code",
   "execution_count": 392,
   "id": "42b5b1eb",
   "metadata": {},
   "outputs": [],
   "source": [
    "#scores has dropped so lets not do this"
   ]
  },
  {
   "cell_type": "code",
   "execution_count": 395,
   "id": "13733095",
   "metadata": {},
   "outputs": [],
   "source": [
    "rf_new35=RandomForestClassifier(random_state=56,class_weight={1:0.84,0:0.16},max_depth=16,n_estimators=100,criterion='entropy')\n",
    "rf_new35.fit(x_new,y_new)\n",
    "ypred_104=rf_new35.predict(test_copy6)\n",
    "sub_108=pd.read_csv('~/documents/job_a_thon/sample_submission.csv')\n",
    "sub_108['buy']=ypred_104\n",
    "sub_108.to_csv('sub_108.csv',index=False)"
   ]
  },
  {
   "cell_type": "code",
   "execution_count": 396,
   "id": "c0039a31",
   "metadata": {},
   "outputs": [],
   "source": [
    "#gives a score of 75.33"
   ]
  },
  {
   "cell_type": "code",
   "execution_count": 400,
   "id": "73f74538",
   "metadata": {},
   "outputs": [],
   "source": [
    "#lets check score on original before feature engg."
   ]
  },
  {
   "cell_type": "code",
   "execution_count": 399,
   "id": "bcc78de4",
   "metadata": {},
   "outputs": [],
   "source": [
    "rf_new36=RandomForestClassifier(random_state=56,class_weight={1:0.84,0:0.16},max_depth=16,n_estimators=100,criterion='entropy')\n",
    "rf_new36.fit(x,y)\n",
    "ypred_105=rf_new36.predict(test_copy3)\n",
    "sub_109=pd.read_csv('~/documents/job_a_thon/sample_submission.csv')\n",
    "sub_109['buy']=ypred_105\n",
    "sub_109.to_csv('sub_109.csv',index=False)"
   ]
  },
  {
   "cell_type": "code",
   "execution_count": 401,
   "id": "6580ce00",
   "metadata": {},
   "outputs": [],
   "source": [
    "#72.77"
   ]
  },
  {
   "cell_type": "code",
   "execution_count": 402,
   "id": "64e11f97",
   "metadata": {},
   "outputs": [],
   "source": [
    "#lets extract more features"
   ]
  },
  {
   "cell_type": "code",
   "execution_count": 403,
   "id": "66a9e180",
   "metadata": {},
   "outputs": [],
   "source": [
    "train_temp=train.copy()\n",
    "test_temp=test.copy()"
   ]
  },
  {
   "cell_type": "code",
   "execution_count": 404,
   "id": "89bac169",
   "metadata": {},
   "outputs": [
    {
     "data": {
      "text/html": [
       "<div>\n",
       "<style scoped>\n",
       "    .dataframe tbody tr th:only-of-type {\n",
       "        vertical-align: middle;\n",
       "    }\n",
       "\n",
       "    .dataframe tbody tr th {\n",
       "        vertical-align: top;\n",
       "    }\n",
       "\n",
       "    .dataframe thead th {\n",
       "        text-align: right;\n",
       "    }\n",
       "</style>\n",
       "<table border=\"1\" class=\"dataframe\">\n",
       "  <thead>\n",
       "    <tr style=\"text-align: right;\">\n",
       "      <th></th>\n",
       "      <th>id</th>\n",
       "      <th>created_at</th>\n",
       "      <th>campaign_var_1</th>\n",
       "      <th>campaign_var_2</th>\n",
       "      <th>products_purchased</th>\n",
       "      <th>signup_date</th>\n",
       "      <th>user_activity_var_1</th>\n",
       "      <th>user_activity_var_2</th>\n",
       "      <th>user_activity_var_3</th>\n",
       "      <th>user_activity_var_4</th>\n",
       "      <th>user_activity_var_5</th>\n",
       "      <th>user_activity_var_6</th>\n",
       "      <th>user_activity_var_7</th>\n",
       "      <th>user_activity_var_8</th>\n",
       "      <th>user_activity_var_9</th>\n",
       "      <th>user_activity_var_10</th>\n",
       "      <th>user_activity_var_11</th>\n",
       "      <th>user_activity_var_12</th>\n",
       "      <th>buy</th>\n",
       "    </tr>\n",
       "  </thead>\n",
       "  <tbody>\n",
       "    <tr>\n",
       "      <th>0</th>\n",
       "      <td>1</td>\n",
       "      <td>2021-01-01</td>\n",
       "      <td>1</td>\n",
       "      <td>2</td>\n",
       "      <td>2.0</td>\n",
       "      <td>2020-09-24</td>\n",
       "      <td>0</td>\n",
       "      <td>0</td>\n",
       "      <td>0</td>\n",
       "      <td>0</td>\n",
       "      <td>0</td>\n",
       "      <td>0</td>\n",
       "      <td>1</td>\n",
       "      <td>1</td>\n",
       "      <td>0</td>\n",
       "      <td>0</td>\n",
       "      <td>0</td>\n",
       "      <td>0</td>\n",
       "      <td>0</td>\n",
       "    </tr>\n",
       "    <tr>\n",
       "      <th>1</th>\n",
       "      <td>2</td>\n",
       "      <td>2021-01-01</td>\n",
       "      <td>2</td>\n",
       "      <td>1</td>\n",
       "      <td>2.0</td>\n",
       "      <td>2020-09-19</td>\n",
       "      <td>1</td>\n",
       "      <td>0</td>\n",
       "      <td>1</td>\n",
       "      <td>0</td>\n",
       "      <td>0</td>\n",
       "      <td>0</td>\n",
       "      <td>1</td>\n",
       "      <td>0</td>\n",
       "      <td>0</td>\n",
       "      <td>0</td>\n",
       "      <td>0</td>\n",
       "      <td>0</td>\n",
       "      <td>0</td>\n",
       "    </tr>\n",
       "    <tr>\n",
       "      <th>2</th>\n",
       "      <td>3</td>\n",
       "      <td>2021-01-01</td>\n",
       "      <td>9</td>\n",
       "      <td>3</td>\n",
       "      <td>3.0</td>\n",
       "      <td>2021-08-11</td>\n",
       "      <td>1</td>\n",
       "      <td>0</td>\n",
       "      <td>0</td>\n",
       "      <td>0</td>\n",
       "      <td>0</td>\n",
       "      <td>0</td>\n",
       "      <td>0</td>\n",
       "      <td>0</td>\n",
       "      <td>0</td>\n",
       "      <td>0</td>\n",
       "      <td>0</td>\n",
       "      <td>0</td>\n",
       "      <td>0</td>\n",
       "    </tr>\n",
       "    <tr>\n",
       "      <th>3</th>\n",
       "      <td>4</td>\n",
       "      <td>2021-01-01</td>\n",
       "      <td>6</td>\n",
       "      <td>7</td>\n",
       "      <td>2.0</td>\n",
       "      <td>2017-10-04</td>\n",
       "      <td>0</td>\n",
       "      <td>0</td>\n",
       "      <td>0</td>\n",
       "      <td>0</td>\n",
       "      <td>0</td>\n",
       "      <td>0</td>\n",
       "      <td>0</td>\n",
       "      <td>0</td>\n",
       "      <td>0</td>\n",
       "      <td>0</td>\n",
       "      <td>0</td>\n",
       "      <td>0</td>\n",
       "      <td>0</td>\n",
       "    </tr>\n",
       "    <tr>\n",
       "      <th>4</th>\n",
       "      <td>5</td>\n",
       "      <td>2021-01-01</td>\n",
       "      <td>4</td>\n",
       "      <td>6</td>\n",
       "      <td>NaN</td>\n",
       "      <td>2020-06-08</td>\n",
       "      <td>0</td>\n",
       "      <td>0</td>\n",
       "      <td>0</td>\n",
       "      <td>0</td>\n",
       "      <td>0</td>\n",
       "      <td>0</td>\n",
       "      <td>1</td>\n",
       "      <td>0</td>\n",
       "      <td>0</td>\n",
       "      <td>0</td>\n",
       "      <td>1</td>\n",
       "      <td>0</td>\n",
       "      <td>0</td>\n",
       "    </tr>\n",
       "  </tbody>\n",
       "</table>\n",
       "</div>"
      ],
      "text/plain": [
       "   id  created_at  campaign_var_1  campaign_var_2  products_purchased  \\\n",
       "0   1  2021-01-01               1               2                 2.0   \n",
       "1   2  2021-01-01               2               1                 2.0   \n",
       "2   3  2021-01-01               9               3                 3.0   \n",
       "3   4  2021-01-01               6               7                 2.0   \n",
       "4   5  2021-01-01               4               6                 NaN   \n",
       "\n",
       "  signup_date  user_activity_var_1  user_activity_var_2  user_activity_var_3  \\\n",
       "0  2020-09-24                    0                    0                    0   \n",
       "1  2020-09-19                    1                    0                    1   \n",
       "2  2021-08-11                    1                    0                    0   \n",
       "3  2017-10-04                    0                    0                    0   \n",
       "4  2020-06-08                    0                    0                    0   \n",
       "\n",
       "   user_activity_var_4  user_activity_var_5  user_activity_var_6  \\\n",
       "0                    0                    0                    0   \n",
       "1                    0                    0                    0   \n",
       "2                    0                    0                    0   \n",
       "3                    0                    0                    0   \n",
       "4                    0                    0                    0   \n",
       "\n",
       "   user_activity_var_7  user_activity_var_8  user_activity_var_9  \\\n",
       "0                    1                    1                    0   \n",
       "1                    1                    0                    0   \n",
       "2                    0                    0                    0   \n",
       "3                    0                    0                    0   \n",
       "4                    1                    0                    0   \n",
       "\n",
       "   user_activity_var_10  user_activity_var_11  user_activity_var_12  buy  \n",
       "0                     0                     0                     0    0  \n",
       "1                     0                     0                     0    0  \n",
       "2                     0                     0                     0    0  \n",
       "3                     0                     0                     0    0  \n",
       "4                     0                     1                     0    0  "
      ]
     },
     "execution_count": 404,
     "metadata": {},
     "output_type": "execute_result"
    }
   ],
   "source": [
    "train_temp.head()"
   ]
  },
  {
   "cell_type": "code",
   "execution_count": 405,
   "id": "1549e109",
   "metadata": {},
   "outputs": [
    {
     "data": {
      "text/html": [
       "<div>\n",
       "<style scoped>\n",
       "    .dataframe tbody tr th:only-of-type {\n",
       "        vertical-align: middle;\n",
       "    }\n",
       "\n",
       "    .dataframe tbody tr th {\n",
       "        vertical-align: top;\n",
       "    }\n",
       "\n",
       "    .dataframe thead th {\n",
       "        text-align: right;\n",
       "    }\n",
       "</style>\n",
       "<table border=\"1\" class=\"dataframe\">\n",
       "  <thead>\n",
       "    <tr style=\"text-align: right;\">\n",
       "      <th></th>\n",
       "      <th>id</th>\n",
       "      <th>campaign_var_1</th>\n",
       "      <th>campaign_var_2</th>\n",
       "      <th>products_purchased</th>\n",
       "      <th>user_activity_var_1</th>\n",
       "      <th>user_activity_var_2</th>\n",
       "      <th>user_activity_var_3</th>\n",
       "      <th>user_activity_var_4</th>\n",
       "      <th>user_activity_var_5</th>\n",
       "      <th>user_activity_var_6</th>\n",
       "      <th>...</th>\n",
       "      <th>user_activity_var_10</th>\n",
       "      <th>user_activity_var_11</th>\n",
       "      <th>user_activity_var_12</th>\n",
       "      <th>signup_day</th>\n",
       "      <th>signup_year</th>\n",
       "      <th>signup_month</th>\n",
       "      <th>created_at_day</th>\n",
       "      <th>created_at_month</th>\n",
       "      <th>created_at_year</th>\n",
       "      <th>campaign_total</th>\n",
       "    </tr>\n",
       "  </thead>\n",
       "  <tbody>\n",
       "    <tr>\n",
       "      <th>0</th>\n",
       "      <td>1.0</td>\n",
       "      <td>1.0</td>\n",
       "      <td>2.0</td>\n",
       "      <td>2.00000</td>\n",
       "      <td>0.0</td>\n",
       "      <td>0.0</td>\n",
       "      <td>0.0</td>\n",
       "      <td>0.0</td>\n",
       "      <td>0.0</td>\n",
       "      <td>0.0</td>\n",
       "      <td>...</td>\n",
       "      <td>0.0</td>\n",
       "      <td>0.0</td>\n",
       "      <td>0.0</td>\n",
       "      <td>24.0</td>\n",
       "      <td>2020.0</td>\n",
       "      <td>9.0</td>\n",
       "      <td>1.0</td>\n",
       "      <td>1.0</td>\n",
       "      <td>2021.0</td>\n",
       "      <td>3.0</td>\n",
       "    </tr>\n",
       "    <tr>\n",
       "      <th>1</th>\n",
       "      <td>2.0</td>\n",
       "      <td>2.0</td>\n",
       "      <td>1.0</td>\n",
       "      <td>2.00000</td>\n",
       "      <td>1.0</td>\n",
       "      <td>0.0</td>\n",
       "      <td>1.0</td>\n",
       "      <td>0.0</td>\n",
       "      <td>0.0</td>\n",
       "      <td>0.0</td>\n",
       "      <td>...</td>\n",
       "      <td>0.0</td>\n",
       "      <td>0.0</td>\n",
       "      <td>0.0</td>\n",
       "      <td>19.0</td>\n",
       "      <td>2020.0</td>\n",
       "      <td>9.0</td>\n",
       "      <td>1.0</td>\n",
       "      <td>1.0</td>\n",
       "      <td>2021.0</td>\n",
       "      <td>3.0</td>\n",
       "    </tr>\n",
       "    <tr>\n",
       "      <th>2</th>\n",
       "      <td>3.0</td>\n",
       "      <td>9.0</td>\n",
       "      <td>3.0</td>\n",
       "      <td>3.00000</td>\n",
       "      <td>1.0</td>\n",
       "      <td>0.0</td>\n",
       "      <td>0.0</td>\n",
       "      <td>0.0</td>\n",
       "      <td>0.0</td>\n",
       "      <td>0.0</td>\n",
       "      <td>...</td>\n",
       "      <td>0.0</td>\n",
       "      <td>0.0</td>\n",
       "      <td>0.0</td>\n",
       "      <td>11.0</td>\n",
       "      <td>2021.0</td>\n",
       "      <td>8.0</td>\n",
       "      <td>1.0</td>\n",
       "      <td>1.0</td>\n",
       "      <td>2021.0</td>\n",
       "      <td>12.0</td>\n",
       "    </tr>\n",
       "    <tr>\n",
       "      <th>3</th>\n",
       "      <td>4.0</td>\n",
       "      <td>6.0</td>\n",
       "      <td>7.0</td>\n",
       "      <td>2.00000</td>\n",
       "      <td>0.0</td>\n",
       "      <td>0.0</td>\n",
       "      <td>0.0</td>\n",
       "      <td>0.0</td>\n",
       "      <td>0.0</td>\n",
       "      <td>0.0</td>\n",
       "      <td>...</td>\n",
       "      <td>0.0</td>\n",
       "      <td>0.0</td>\n",
       "      <td>0.0</td>\n",
       "      <td>4.0</td>\n",
       "      <td>2017.0</td>\n",
       "      <td>10.0</td>\n",
       "      <td>1.0</td>\n",
       "      <td>1.0</td>\n",
       "      <td>2021.0</td>\n",
       "      <td>13.0</td>\n",
       "    </tr>\n",
       "    <tr>\n",
       "      <th>4</th>\n",
       "      <td>5.0</td>\n",
       "      <td>4.0</td>\n",
       "      <td>6.0</td>\n",
       "      <td>2.23784</td>\n",
       "      <td>0.0</td>\n",
       "      <td>0.0</td>\n",
       "      <td>0.0</td>\n",
       "      <td>0.0</td>\n",
       "      <td>0.0</td>\n",
       "      <td>0.0</td>\n",
       "      <td>...</td>\n",
       "      <td>0.0</td>\n",
       "      <td>1.0</td>\n",
       "      <td>0.0</td>\n",
       "      <td>8.0</td>\n",
       "      <td>2020.0</td>\n",
       "      <td>6.0</td>\n",
       "      <td>1.0</td>\n",
       "      <td>1.0</td>\n",
       "      <td>2021.0</td>\n",
       "      <td>10.0</td>\n",
       "    </tr>\n",
       "  </tbody>\n",
       "</table>\n",
       "<p>5 rows × 23 columns</p>\n",
       "</div>"
      ],
      "text/plain": [
       "    id  campaign_var_1  campaign_var_2  products_purchased  \\\n",
       "0  1.0             1.0             2.0             2.00000   \n",
       "1  2.0             2.0             1.0             2.00000   \n",
       "2  3.0             9.0             3.0             3.00000   \n",
       "3  4.0             6.0             7.0             2.00000   \n",
       "4  5.0             4.0             6.0             2.23784   \n",
       "\n",
       "   user_activity_var_1  user_activity_var_2  user_activity_var_3  \\\n",
       "0                  0.0                  0.0                  0.0   \n",
       "1                  1.0                  0.0                  1.0   \n",
       "2                  1.0                  0.0                  0.0   \n",
       "3                  0.0                  0.0                  0.0   \n",
       "4                  0.0                  0.0                  0.0   \n",
       "\n",
       "   user_activity_var_4  user_activity_var_5  user_activity_var_6  ...  \\\n",
       "0                  0.0                  0.0                  0.0  ...   \n",
       "1                  0.0                  0.0                  0.0  ...   \n",
       "2                  0.0                  0.0                  0.0  ...   \n",
       "3                  0.0                  0.0                  0.0  ...   \n",
       "4                  0.0                  0.0                  0.0  ...   \n",
       "\n",
       "   user_activity_var_10  user_activity_var_11  user_activity_var_12  \\\n",
       "0                   0.0                   0.0                   0.0   \n",
       "1                   0.0                   0.0                   0.0   \n",
       "2                   0.0                   0.0                   0.0   \n",
       "3                   0.0                   0.0                   0.0   \n",
       "4                   0.0                   1.0                   0.0   \n",
       "\n",
       "   signup_day  signup_year  signup_month  created_at_day  created_at_month  \\\n",
       "0        24.0       2020.0           9.0             1.0               1.0   \n",
       "1        19.0       2020.0           9.0             1.0               1.0   \n",
       "2        11.0       2021.0           8.0             1.0               1.0   \n",
       "3         4.0       2017.0          10.0             1.0               1.0   \n",
       "4         8.0       2020.0           6.0             1.0               1.0   \n",
       "\n",
       "   created_at_year  campaign_total  \n",
       "0           2021.0             3.0  \n",
       "1           2021.0             3.0  \n",
       "2           2021.0            12.0  \n",
       "3           2021.0            13.0  \n",
       "4           2021.0            10.0  \n",
       "\n",
       "[5 rows x 23 columns]"
      ]
     },
     "execution_count": 405,
     "metadata": {},
     "output_type": "execute_result"
    }
   ],
   "source": [
    "train_copy6.head()"
   ]
  },
  {
   "cell_type": "code",
   "execution_count": 419,
   "id": "eb245909",
   "metadata": {},
   "outputs": [
    {
     "name": "stdout",
     "output_type": "stream",
     "text": [
      "[2020, 2021, 2017, 2019, 2018, 2022, 2016, 2015]\n"
     ]
    }
   ],
   "source": [
    "print(list2)"
   ]
  },
  {
   "cell_type": "code",
   "execution_count": 423,
   "id": "af81d219",
   "metadata": {},
   "outputs": [],
   "source": [
    "train_copy7['date_diff']=np.abs(((train_copy7['signup_year'].astype('int')-1)*(train_copy7['signup_month'].astype('int')-1)+train_copy7['signup_day'].astype('int'))-((train_copy7['created_at_year'].astype('int')-1)*(train_copy7['created_at_month'].astype('int')-1)+train_copy7['created_at_day'].astype('int')))"
   ]
  },
  {
   "cell_type": "code",
   "execution_count": 424,
   "id": "09b5334d",
   "metadata": {},
   "outputs": [
    {
     "data": {
      "text/plain": [
       "array([16175, 16170, 14150, ..., 12154, 12157, 16190])"
      ]
     },
     "execution_count": 424,
     "metadata": {},
     "output_type": "execute_result"
    }
   ],
   "source": [
    "train_copy7['date_diff'].unique()"
   ]
  },
  {
   "cell_type": "code",
   "execution_count": 430,
   "id": "ab66af90",
   "metadata": {},
   "outputs": [],
   "source": [
    "train_copy7['date_diff2']=np.abs(((train_copy7['signup_year'].astype('int')-1)*12+(train_copy7['signup_month'].astype('int')-1)*30+train_copy7['signup_day'].astype('int'))-(2020*12+(train_copy7['created_at_month'].astype('int')-1)*30+train_copy7['created_at_day'].astype('int')))"
   ]
  },
  {
   "cell_type": "code",
   "execution_count": 513,
   "id": "277156c5",
   "metadata": {},
   "outputs": [],
   "source": [
    "test_copy7['date_diff2']=np.abs(((test_copy7['signup_year'].astype('int')-1)*12+(test_copy7['signup_month'].astype('int')-1)*30+test_copy7['signup_day'].astype('int'))-(2021*12+(test_copy7['created_at_month'].astype('int')-1)*30+test_copy7['created_at_day'].astype('int')))"
   ]
  },
  {
   "cell_type": "code",
   "execution_count": 447,
   "id": "db83c2e6",
   "metadata": {},
   "outputs": [
    {
     "data": {
      "text/plain": [
       "array([251, 246, 220, 225, 145, 157, 179, 329, 134, 289,  18, 140, 314,\n",
       "        21,  98,  68, 288, 233, 279, 201, 139,  34, 127,   0,  95, 232,\n",
       "       200, 302,  44, 202, 175, 164, 102, 269, 170, 197, 113, 250, 252,\n",
       "       119, 290,  48,  90, 312, 105, 143,  38, 163, 184, 254, 309, 177,\n",
       "       138, 116, 261, 196, 159,  72, 222, 173, 141, 253,  52, 270, 151,\n",
       "       323, 336,  64, 156, 223, 194, 161, 174, 268, 150,   1, 219, 142,\n",
       "        27, 204,  42, 137,  24, 135, 315,  93, 153, 149, 243, 283,  60,\n",
       "        92,  10, 132, 295,  58,  15, 147, 130, 107, 191,  32, 168, 136,\n",
       "        13,  12, 256, 265,  51, 160, 317,   2,   6, 189, 125, 313, 181,\n",
       "        57,   3,  63, 296,  40, 272,   7, 267, 305, 276, 235,  88,  31,\n",
       "       333, 115, 298, 183, 311, 321, 304, 186, 209,  82, 172, 286, 124,\n",
       "       229, 241,  45, 300, 110, 162, 133,  46,  65, 274, 273, 114, 154,\n",
       "       118, 301,  41,  61, 280, 230, 100, 188,  79, 278, 249,  33,  86,\n",
       "       227,  55, 218, 335,  83, 131, 310, 224,  28, 171, 221, 185,  89,\n",
       "        29,  17, 126,   5,  11, 190, 104, 111, 334, 192, 260,   9, 242,\n",
       "        35, 169, 342, 180, 264,  67, 129,  78, 205, 303,  76, 281, 109,\n",
       "       187, 208,  19, 277, 128,   8, 255, 122, 292,  37, 247,  25, 322,\n",
       "       263, 294, 257,  39, 307,  30, 326, 203, 228, 117, 297,  54, 182,\n",
       "        49,  81, 291,  50,  99, 282, 215, 166, 271, 103,  56,  62, 206,\n",
       "       308, 262,  87,  23, 214, 226, 112, 210, 213, 216, 123, 167,  26,\n",
       "        77, 239, 316, 231,  69, 176,  47, 121, 152,  36, 245, 101,  16,\n",
       "       318,  66, 120, 236,  22, 198, 108,  75, 266, 275,  20, 106, 193,\n",
       "       285, 211,  94, 293,  59,  71,   4,  14,  43, 158, 207, 212, 238,\n",
       "       284, 319, 244, 258, 259,  80,  53, 287, 306, 325,  70, 165, 299,\n",
       "       144,  85, 234, 217, 320, 237, 248, 146,  97, 178, 199, 155, 195,\n",
       "        96,  91,  84, 240, 148,  73,  74, 341, 324, 330, 327, 339, 328,\n",
       "       331, 358, 332, 348, 337, 338, 344, 346, 347, 343, 351, 350, 349,\n",
       "       355, 374, 360, 352, 359, 340, 361, 356, 362, 368, 354, 370, 353,\n",
       "       345, 367, 365, 363, 373, 357, 364])"
      ]
     },
     "execution_count": 447,
     "metadata": {},
     "output_type": "execute_result"
    }
   ],
   "source": [
    "train_copy7['date_diff2'].unique()"
   ]
  },
  {
   "cell_type": "code",
   "execution_count": 5,
   "id": "d3185e86",
   "metadata": {},
   "outputs": [],
   "source": [
    "#Difference is created between sing up and created at making new Feature as date diff"
   ]
  },
  {
   "cell_type": "code",
   "execution_count": 501,
   "id": "1a9e84c8",
   "metadata": {},
   "outputs": [
    {
     "data": {
      "text/plain": [
       "Index(['id', 'campaign_var_1', 'campaign_var_2', 'products_purchased',\n",
       "       'user_activity_var_1', 'user_activity_var_2', 'user_activity_var_3',\n",
       "       'user_activity_var_4', 'user_activity_var_5', 'user_activity_var_6',\n",
       "       'user_activity_var_7', 'user_activity_var_8', 'user_activity_var_9',\n",
       "       'user_activity_var_10', 'user_activity_var_11', 'user_activity_var_12',\n",
       "       'signup_day', 'signup_year', 'signup_month', 'created_at_day',\n",
       "       'created_at_month', 'created_at_year', 'campaign_total', 'date_diff',\n",
       "       'date_diff2'],\n",
       "      dtype='object')"
      ]
     },
     "execution_count": 501,
     "metadata": {},
     "output_type": "execute_result"
    }
   ],
   "source": [
    "train_copy7.columns"
   ]
  },
  {
   "cell_type": "code",
   "execution_count": 514,
   "id": "3b45f529",
   "metadata": {},
   "outputs": [],
   "source": [
    "train_copy8=train_copy7.drop('date_diff',axis=1)\n",
    "test_copy8=test_copy7.drop('date_diff3',axis=1)"
   ]
  },
  {
   "cell_type": "code",
   "execution_count": null,
   "id": "c7335669",
   "metadata": {},
   "outputs": [],
   "source": []
  },
  {
   "cell_type": "code",
   "execution_count": 506,
   "id": "9cd9a18e",
   "metadata": {},
   "outputs": [],
   "source": [
    "train_copy8['buy']=train['buy']"
   ]
  },
  {
   "cell_type": "code",
   "execution_count": 507,
   "id": "99a95484",
   "metadata": {},
   "outputs": [],
   "source": [
    "x_new2=train_copy8.drop('buy',axis=1)\n",
    "y_new2=train_copy8['buy']"
   ]
  },
  {
   "cell_type": "code",
   "execution_count": 508,
   "id": "e07df9ba",
   "metadata": {},
   "outputs": [
    {
     "name": "stdout",
     "output_type": "stream",
     "text": [
      "train_mean 0.8620699722595327\n",
      "train_std 0.0069036913830681935\n",
      "test_mean 0.6656327557803098\n",
      "test_std 0.027776330906923413\n",
      "confusion_matrix_test \n",
      " [[7408   21]\n",
      " [ 220  184]] \n",
      "\n",
      "classification_report_test \n",
      "               precision    recall  f1-score   support\n",
      "\n",
      "           0       0.97      1.00      0.98      7429\n",
      "           1       0.90      0.46      0.60       404\n",
      "\n",
      "    accuracy                           0.97      7833\n",
      "   macro avg       0.93      0.73      0.79      7833\n",
      "weighted avg       0.97      0.97      0.96      7833\n",
      " \n",
      "\n",
      "confusion_matrix_train \n",
      " [[29726     8]\n",
      " [  356  1238]] \n",
      "\n",
      "classification_report_train \n",
      "               precision    recall  f1-score   support\n",
      "\n",
      "           0       0.99      1.00      0.99     29734\n",
      "           1       0.99      0.78      0.87      1594\n",
      "\n",
      "    accuracy                           0.99     31328\n",
      "   macro avg       0.99      0.89      0.93     31328\n",
      "weighted avg       0.99      0.99      0.99     31328\n",
      " \n",
      "\n",
      "roc_auc_score_train \n",
      " roc_auc_score 0.8881967160263918 \n",
      "\n",
      "roc_auc_score_test \n",
      " roc_auc_score 0.7263093922799199 \n",
      "\n"
     ]
    }
   ],
   "source": [
    "rf_output_new(x_new2,y_new2,classweight={1:0.84,0:0.16},n_estimators=100,max_depth=16)"
   ]
  },
  {
   "cell_type": "code",
   "execution_count": 515,
   "id": "89767c87",
   "metadata": {},
   "outputs": [
    {
     "data": {
      "text/plain": [
       "Index(['id', 'campaign_var_1', 'campaign_var_2', 'products_purchased',\n",
       "       'user_activity_var_1', 'user_activity_var_2', 'user_activity_var_3',\n",
       "       'user_activity_var_4', 'user_activity_var_5', 'user_activity_var_6',\n",
       "       'user_activity_var_7', 'user_activity_var_8', 'user_activity_var_9',\n",
       "       'user_activity_var_10', 'user_activity_var_11', 'user_activity_var_12',\n",
       "       'signup_day', 'signup_month', 'signup_year', 'created_at_day',\n",
       "       'created_at_month', 'created_at_year', 'campaign_total', 'date_diff2'],\n",
       "      dtype='object')"
      ]
     },
     "execution_count": 515,
     "metadata": {},
     "output_type": "execute_result"
    }
   ],
   "source": [
    "test_copy8.columns"
   ]
  },
  {
   "cell_type": "code",
   "execution_count": 512,
   "id": "98cdb0e0",
   "metadata": {},
   "outputs": [
    {
     "data": {
      "text/plain": [
       "Index(['id', 'campaign_var_1', 'campaign_var_2', 'products_purchased',\n",
       "       'user_activity_var_1', 'user_activity_var_2', 'user_activity_var_3',\n",
       "       'user_activity_var_4', 'user_activity_var_5', 'user_activity_var_6',\n",
       "       'user_activity_var_7', 'user_activity_var_8', 'user_activity_var_9',\n",
       "       'user_activity_var_10', 'user_activity_var_11', 'user_activity_var_12',\n",
       "       'signup_day', 'signup_year', 'signup_month', 'created_at_day',\n",
       "       'created_at_month', 'created_at_year', 'campaign_total', 'date_diff2'],\n",
       "      dtype='object')"
      ]
     },
     "execution_count": 512,
     "metadata": {},
     "output_type": "execute_result"
    }
   ],
   "source": [
    "x_new2.columns"
   ]
  },
  {
   "cell_type": "code",
   "execution_count": 516,
   "id": "42cfee96",
   "metadata": {},
   "outputs": [],
   "source": [
    "rf_new37=RandomForestClassifier(random_state=56,class_weight={1:0.84,0:0.16},max_depth=16,n_estimators=100,criterion='entropy')\n",
    "rf_new37.fit(x_new2,y_new2)\n",
    "ypred_106=rf_new37.predict(test_copy8)\n",
    "sub_110=pd.read_csv('~/documents/job_a_thon/sample_submission.csv')\n",
    "sub_110['buy']=ypred_106\n",
    "sub_110.to_csv('sub_110.csv',index=False)"
   ]
  },
  {
   "cell_type": "code",
   "execution_count": 449,
   "id": "9d399747",
   "metadata": {},
   "outputs": [
    {
     "data": {
      "text/html": [
       "<div>\n",
       "<style scoped>\n",
       "    .dataframe tbody tr th:only-of-type {\n",
       "        vertical-align: middle;\n",
       "    }\n",
       "\n",
       "    .dataframe tbody tr th {\n",
       "        vertical-align: top;\n",
       "    }\n",
       "\n",
       "    .dataframe thead th {\n",
       "        text-align: right;\n",
       "    }\n",
       "</style>\n",
       "<table border=\"1\" class=\"dataframe\">\n",
       "  <thead>\n",
       "    <tr style=\"text-align: right;\">\n",
       "      <th></th>\n",
       "      <th>id</th>\n",
       "      <th>campaign_var_1</th>\n",
       "      <th>campaign_var_2</th>\n",
       "      <th>products_purchased</th>\n",
       "      <th>user_activity_var_1</th>\n",
       "      <th>user_activity_var_2</th>\n",
       "      <th>user_activity_var_3</th>\n",
       "      <th>user_activity_var_4</th>\n",
       "      <th>user_activity_var_5</th>\n",
       "      <th>user_activity_var_6</th>\n",
       "      <th>...</th>\n",
       "      <th>user_activity_var_12</th>\n",
       "      <th>signup_day</th>\n",
       "      <th>signup_month</th>\n",
       "      <th>signup_year</th>\n",
       "      <th>created_at_day</th>\n",
       "      <th>created_at_month</th>\n",
       "      <th>created_at_year</th>\n",
       "      <th>campaign_total</th>\n",
       "      <th>date_diff2</th>\n",
       "      <th>date_diff3</th>\n",
       "    </tr>\n",
       "  </thead>\n",
       "  <tbody>\n",
       "    <tr>\n",
       "      <th>0</th>\n",
       "      <td>39162.0</td>\n",
       "      <td>2.0</td>\n",
       "      <td>2.0</td>\n",
       "      <td>269.466262</td>\n",
       "      <td>1.0</td>\n",
       "      <td>1.0</td>\n",
       "      <td>0.0</td>\n",
       "      <td>0.0</td>\n",
       "      <td>0.0</td>\n",
       "      <td>1.0</td>\n",
       "      <td>...</td>\n",
       "      <td>0.0</td>\n",
       "      <td>17.000000</td>\n",
       "      <td>8.000000</td>\n",
       "      <td>2021.000000</td>\n",
       "      <td>1.0</td>\n",
       "      <td>1.0</td>\n",
       "      <td>2022.0</td>\n",
       "      <td>4.0</td>\n",
       "      <td>226</td>\n",
       "      <td>214</td>\n",
       "    </tr>\n",
       "    <tr>\n",
       "      <th>1</th>\n",
       "      <td>39163.0</td>\n",
       "      <td>4.0</td>\n",
       "      <td>7.0</td>\n",
       "      <td>3.000000</td>\n",
       "      <td>1.0</td>\n",
       "      <td>0.0</td>\n",
       "      <td>0.0</td>\n",
       "      <td>0.0</td>\n",
       "      <td>0.0</td>\n",
       "      <td>0.0</td>\n",
       "      <td>...</td>\n",
       "      <td>0.0</td>\n",
       "      <td>21.000000</td>\n",
       "      <td>5.000000</td>\n",
       "      <td>2020.000000</td>\n",
       "      <td>1.0</td>\n",
       "      <td>1.0</td>\n",
       "      <td>2022.0</td>\n",
       "      <td>11.0</td>\n",
       "      <td>128</td>\n",
       "      <td>116</td>\n",
       "    </tr>\n",
       "    <tr>\n",
       "      <th>2</th>\n",
       "      <td>39164.0</td>\n",
       "      <td>8.0</td>\n",
       "      <td>7.0</td>\n",
       "      <td>2.307531</td>\n",
       "      <td>0.0</td>\n",
       "      <td>0.0</td>\n",
       "      <td>0.0</td>\n",
       "      <td>0.0</td>\n",
       "      <td>1.0</td>\n",
       "      <td>1.0</td>\n",
       "      <td>...</td>\n",
       "      <td>0.0</td>\n",
       "      <td>15.860078</td>\n",
       "      <td>2019.405357</td>\n",
       "      <td>7.232700</td>\n",
       "      <td>1.0</td>\n",
       "      <td>1.0</td>\n",
       "      <td>2022.0</td>\n",
       "      <td>15.0</td>\n",
       "      <td>36386</td>\n",
       "      <td>36374</td>\n",
       "    </tr>\n",
       "    <tr>\n",
       "      <th>3</th>\n",
       "      <td>39165.0</td>\n",
       "      <td>9.0</td>\n",
       "      <td>8.0</td>\n",
       "      <td>2.000000</td>\n",
       "      <td>0.0</td>\n",
       "      <td>0.0</td>\n",
       "      <td>0.0</td>\n",
       "      <td>0.0</td>\n",
       "      <td>1.0</td>\n",
       "      <td>1.0</td>\n",
       "      <td>...</td>\n",
       "      <td>0.0</td>\n",
       "      <td>22.000000</td>\n",
       "      <td>6.000000</td>\n",
       "      <td>2020.000000</td>\n",
       "      <td>1.0</td>\n",
       "      <td>1.0</td>\n",
       "      <td>2022.0</td>\n",
       "      <td>17.0</td>\n",
       "      <td>159</td>\n",
       "      <td>147</td>\n",
       "    </tr>\n",
       "    <tr>\n",
       "      <th>4</th>\n",
       "      <td>39166.0</td>\n",
       "      <td>4.0</td>\n",
       "      <td>5.0</td>\n",
       "      <td>2.000000</td>\n",
       "      <td>1.0</td>\n",
       "      <td>0.0</td>\n",
       "      <td>0.0</td>\n",
       "      <td>0.0</td>\n",
       "      <td>0.0</td>\n",
       "      <td>0.0</td>\n",
       "      <td>...</td>\n",
       "      <td>0.0</td>\n",
       "      <td>10.000000</td>\n",
       "      <td>3.000000</td>\n",
       "      <td>2021.000000</td>\n",
       "      <td>1.0</td>\n",
       "      <td>1.0</td>\n",
       "      <td>2022.0</td>\n",
       "      <td>9.0</td>\n",
       "      <td>69</td>\n",
       "      <td>57</td>\n",
       "    </tr>\n",
       "    <tr>\n",
       "      <th>...</th>\n",
       "      <td>...</td>\n",
       "      <td>...</td>\n",
       "      <td>...</td>\n",
       "      <td>...</td>\n",
       "      <td>...</td>\n",
       "      <td>...</td>\n",
       "      <td>...</td>\n",
       "      <td>...</td>\n",
       "      <td>...</td>\n",
       "      <td>...</td>\n",
       "      <td>...</td>\n",
       "      <td>...</td>\n",
       "      <td>...</td>\n",
       "      <td>...</td>\n",
       "      <td>...</td>\n",
       "      <td>...</td>\n",
       "      <td>...</td>\n",
       "      <td>...</td>\n",
       "      <td>...</td>\n",
       "      <td>...</td>\n",
       "      <td>...</td>\n",
       "    </tr>\n",
       "    <tr>\n",
       "      <th>13179</th>\n",
       "      <td>52341.0</td>\n",
       "      <td>16.0</td>\n",
       "      <td>12.0</td>\n",
       "      <td>2.310862</td>\n",
       "      <td>0.0</td>\n",
       "      <td>0.0</td>\n",
       "      <td>0.0</td>\n",
       "      <td>0.0</td>\n",
       "      <td>0.0</td>\n",
       "      <td>1.0</td>\n",
       "      <td>...</td>\n",
       "      <td>0.0</td>\n",
       "      <td>15.923856</td>\n",
       "      <td>2019.500397</td>\n",
       "      <td>7.294320</td>\n",
       "      <td>30.0</td>\n",
       "      <td>3.0</td>\n",
       "      <td>2022.0</td>\n",
       "      <td>28.0</td>\n",
       "      <td>36297</td>\n",
       "      <td>36285</td>\n",
       "    </tr>\n",
       "    <tr>\n",
       "      <th>13180</th>\n",
       "      <td>52342.0</td>\n",
       "      <td>12.0</td>\n",
       "      <td>8.0</td>\n",
       "      <td>270.139109</td>\n",
       "      <td>1.0</td>\n",
       "      <td>0.0</td>\n",
       "      <td>0.0</td>\n",
       "      <td>0.0</td>\n",
       "      <td>0.0</td>\n",
       "      <td>1.0</td>\n",
       "      <td>...</td>\n",
       "      <td>0.0</td>\n",
       "      <td>19.000000</td>\n",
       "      <td>3.000000</td>\n",
       "      <td>2022.000000</td>\n",
       "      <td>30.0</td>\n",
       "      <td>3.0</td>\n",
       "      <td>2022.0</td>\n",
       "      <td>20.0</td>\n",
       "      <td>1</td>\n",
       "      <td>11</td>\n",
       "    </tr>\n",
       "    <tr>\n",
       "      <th>13181</th>\n",
       "      <td>52343.0</td>\n",
       "      <td>14.0</td>\n",
       "      <td>14.0</td>\n",
       "      <td>3.000000</td>\n",
       "      <td>0.0</td>\n",
       "      <td>0.0</td>\n",
       "      <td>1.0</td>\n",
       "      <td>0.0</td>\n",
       "      <td>0.0</td>\n",
       "      <td>0.0</td>\n",
       "      <td>...</td>\n",
       "      <td>0.0</td>\n",
       "      <td>15.000000</td>\n",
       "      <td>8.000000</td>\n",
       "      <td>2021.000000</td>\n",
       "      <td>30.0</td>\n",
       "      <td>3.0</td>\n",
       "      <td>2022.0</td>\n",
       "      <td>28.0</td>\n",
       "      <td>135</td>\n",
       "      <td>123</td>\n",
       "    </tr>\n",
       "    <tr>\n",
       "      <th>13182</th>\n",
       "      <td>52344.0</td>\n",
       "      <td>14.0</td>\n",
       "      <td>10.0</td>\n",
       "      <td>2.288807</td>\n",
       "      <td>0.0</td>\n",
       "      <td>0.0</td>\n",
       "      <td>0.0</td>\n",
       "      <td>0.0</td>\n",
       "      <td>0.0</td>\n",
       "      <td>0.0</td>\n",
       "      <td>...</td>\n",
       "      <td>0.0</td>\n",
       "      <td>15.923732</td>\n",
       "      <td>2019.521142</td>\n",
       "      <td>7.327111</td>\n",
       "      <td>30.0</td>\n",
       "      <td>3.0</td>\n",
       "      <td>2022.0</td>\n",
       "      <td>24.0</td>\n",
       "      <td>36297</td>\n",
       "      <td>36285</td>\n",
       "    </tr>\n",
       "    <tr>\n",
       "      <th>13183</th>\n",
       "      <td>52345.0</td>\n",
       "      <td>13.0</td>\n",
       "      <td>13.0</td>\n",
       "      <td>2.327650</td>\n",
       "      <td>0.0</td>\n",
       "      <td>0.0</td>\n",
       "      <td>0.0</td>\n",
       "      <td>0.0</td>\n",
       "      <td>0.0</td>\n",
       "      <td>1.0</td>\n",
       "      <td>...</td>\n",
       "      <td>0.0</td>\n",
       "      <td>15.923813</td>\n",
       "      <td>2019.606967</td>\n",
       "      <td>7.439952</td>\n",
       "      <td>30.0</td>\n",
       "      <td>3.0</td>\n",
       "      <td>2022.0</td>\n",
       "      <td>26.0</td>\n",
       "      <td>36297</td>\n",
       "      <td>36285</td>\n",
       "    </tr>\n",
       "  </tbody>\n",
       "</table>\n",
       "<p>13184 rows × 25 columns</p>\n",
       "</div>"
      ],
      "text/plain": [
       "            id  campaign_var_1  campaign_var_2  products_purchased  \\\n",
       "0      39162.0             2.0             2.0          269.466262   \n",
       "1      39163.0             4.0             7.0            3.000000   \n",
       "2      39164.0             8.0             7.0            2.307531   \n",
       "3      39165.0             9.0             8.0            2.000000   \n",
       "4      39166.0             4.0             5.0            2.000000   \n",
       "...        ...             ...             ...                 ...   \n",
       "13179  52341.0            16.0            12.0            2.310862   \n",
       "13180  52342.0            12.0             8.0          270.139109   \n",
       "13181  52343.0            14.0            14.0            3.000000   \n",
       "13182  52344.0            14.0            10.0            2.288807   \n",
       "13183  52345.0            13.0            13.0            2.327650   \n",
       "\n",
       "       user_activity_var_1  user_activity_var_2  user_activity_var_3  \\\n",
       "0                      1.0                  1.0                  0.0   \n",
       "1                      1.0                  0.0                  0.0   \n",
       "2                      0.0                  0.0                  0.0   \n",
       "3                      0.0                  0.0                  0.0   \n",
       "4                      1.0                  0.0                  0.0   \n",
       "...                    ...                  ...                  ...   \n",
       "13179                  0.0                  0.0                  0.0   \n",
       "13180                  1.0                  0.0                  0.0   \n",
       "13181                  0.0                  0.0                  1.0   \n",
       "13182                  0.0                  0.0                  0.0   \n",
       "13183                  0.0                  0.0                  0.0   \n",
       "\n",
       "       user_activity_var_4  user_activity_var_5  user_activity_var_6  ...  \\\n",
       "0                      0.0                  0.0                  1.0  ...   \n",
       "1                      0.0                  0.0                  0.0  ...   \n",
       "2                      0.0                  1.0                  1.0  ...   \n",
       "3                      0.0                  1.0                  1.0  ...   \n",
       "4                      0.0                  0.0                  0.0  ...   \n",
       "...                    ...                  ...                  ...  ...   \n",
       "13179                  0.0                  0.0                  1.0  ...   \n",
       "13180                  0.0                  0.0                  1.0  ...   \n",
       "13181                  0.0                  0.0                  0.0  ...   \n",
       "13182                  0.0                  0.0                  0.0  ...   \n",
       "13183                  0.0                  0.0                  1.0  ...   \n",
       "\n",
       "       user_activity_var_12  signup_day  signup_month  signup_year  \\\n",
       "0                       0.0   17.000000      8.000000  2021.000000   \n",
       "1                       0.0   21.000000      5.000000  2020.000000   \n",
       "2                       0.0   15.860078   2019.405357     7.232700   \n",
       "3                       0.0   22.000000      6.000000  2020.000000   \n",
       "4                       0.0   10.000000      3.000000  2021.000000   \n",
       "...                     ...         ...           ...          ...   \n",
       "13179                   0.0   15.923856   2019.500397     7.294320   \n",
       "13180                   0.0   19.000000      3.000000  2022.000000   \n",
       "13181                   0.0   15.000000      8.000000  2021.000000   \n",
       "13182                   0.0   15.923732   2019.521142     7.327111   \n",
       "13183                   0.0   15.923813   2019.606967     7.439952   \n",
       "\n",
       "       created_at_day  created_at_month  created_at_year  campaign_total  \\\n",
       "0                 1.0               1.0           2022.0             4.0   \n",
       "1                 1.0               1.0           2022.0            11.0   \n",
       "2                 1.0               1.0           2022.0            15.0   \n",
       "3                 1.0               1.0           2022.0            17.0   \n",
       "4                 1.0               1.0           2022.0             9.0   \n",
       "...               ...               ...              ...             ...   \n",
       "13179            30.0               3.0           2022.0            28.0   \n",
       "13180            30.0               3.0           2022.0            20.0   \n",
       "13181            30.0               3.0           2022.0            28.0   \n",
       "13182            30.0               3.0           2022.0            24.0   \n",
       "13183            30.0               3.0           2022.0            26.0   \n",
       "\n",
       "       date_diff2  date_diff3  \n",
       "0             226         214  \n",
       "1             128         116  \n",
       "2           36386       36374  \n",
       "3             159         147  \n",
       "4              69          57  \n",
       "...           ...         ...  \n",
       "13179       36297       36285  \n",
       "13180           1          11  \n",
       "13181         135         123  \n",
       "13182       36297       36285  \n",
       "13183       36297       36285  \n",
       "\n",
       "[13184 rows x 25 columns]"
      ]
     },
     "execution_count": 449,
     "metadata": {},
     "output_type": "execute_result"
    }
   ],
   "source": [
    "test_copy7"
   ]
  }
 ],
 "metadata": {
  "kernelspec": {
   "display_name": "Python 3 (ipykernel)",
   "language": "python",
   "name": "python3"
  },
  "language_info": {
   "codemirror_mode": {
    "name": "ipython",
    "version": 3
   },
   "file_extension": ".py",
   "mimetype": "text/x-python",
   "name": "python",
   "nbconvert_exporter": "python",
   "pygments_lexer": "ipython3",
   "version": "3.9.7"
  }
 },
 "nbformat": 4,
 "nbformat_minor": 5
}
